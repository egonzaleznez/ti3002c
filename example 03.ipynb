{
 "cells": [
  {
   "cell_type": "markdown",
   "metadata": {},
   "source": [
    "# IA PARA CIENCIA DE DATOS"
   ]
  },
  {
   "cell_type": "markdown",
   "metadata": {},
   "source": [
    "## 1. Packaging"
   ]
  },
  {
   "cell_type": "code",
   "execution_count": 1,
   "metadata": {
    "colab": {
     "base_uri": "https://localhost:8080/",
     "height": 322
    },
    "executionInfo": {
     "elapsed": 25663,
     "status": "error",
     "timestamp": 1740429123280,
     "user": {
      "displayName": "Enrique Gonzalez",
      "userId": "11537615501324889345"
     },
     "user_tz": 360
    },
    "id": "eaB4T6kiRVy-",
    "outputId": "aa019178-6b62-41a6-ee88-6d6249b2d352"
   },
   "outputs": [],
   "source": [
    "import warnings\n",
    "warnings.filterwarnings(\"ignore\")\n",
    "import numpy as np # to use numpy arrays instead of lists\n",
    "import pandas as pd # DataFrame (table)\n",
    "\n",
    "# Matplotlib and seaborn for charting\n",
    "import matplotlib.pyplot as plt # to plot\n",
    "import seaborn as sns # to plot"
   ]
  },
  {
   "cell_type": "code",
   "execution_count": 5,
   "metadata": {},
   "outputs": [],
   "source": [
    "# Sklearn processing\n",
    "from sklearn.feature_extraction.text import TfidfVectorizer\n",
    "from sklearn.model_selection import train_test_split\n",
    "\n",
    "# Sklearn classification model evaluation metrics\n",
    "from sklearn.metrics import confusion_matrix\n",
    "from sklearn.metrics import accuracy_score, f1_score, precision_score, recall_score"
   ]
  },
  {
   "cell_type": "code",
   "execution_count": 4,
   "metadata": {},
   "outputs": [
    {
     "name": "stderr",
     "output_type": "stream",
     "text": [
      "2025-10-03 18:03:40.143753: I tensorflow/core/platform/cpu_feature_guard.cc:193] This TensorFlow binary is optimized with oneAPI Deep Neural Network Library (oneDNN) to use the following CPU instructions in performance-critical operations:  AVX2 FMA\n",
      "To enable them in other operations, rebuild TensorFlow with the appropriate compiler flags.\n"
     ]
    }
   ],
   "source": [
    "# TensorFlow and Keras for deep learning\n",
    "import tensorflow as tf\n",
    "from tensorflow.keras.preprocessing.text import Tokenizer\n",
    "from tensorflow.keras.preprocessing.sequence import pad_sequences\n",
    "from tensorflow.keras.models import Sequential\n",
    "from tensorflow.keras.layers import Embedding, Dense, Flatten, Dropout,  GlobalAveragePooling1D"
   ]
  },
  {
   "cell_type": "code",
   "execution_count": 6,
   "metadata": {},
   "outputs": [],
   "source": [
    "# Custom analysis modules\n",
    "from analysis_modules import *"
   ]
  },
  {
   "cell_type": "markdown",
   "metadata": {},
   "source": [
    "## 2. Read file and load data"
   ]
  },
  {
   "cell_type": "markdown",
   "metadata": {},
   "source": [
    "### 2.1 Read file"
   ]
  },
  {
   "cell_type": "code",
   "execution_count": 7,
   "metadata": {},
   "outputs": [],
   "source": [
    "# Load data\n",
    "data_file = \"Amazon_Unlocked_Mobile.csv\"\n",
    "datos = pd.read_csv(data_file, header=0)"
   ]
  },
  {
   "cell_type": "code",
   "execution_count": 8,
   "metadata": {},
   "outputs": [
    {
     "name": "stdout",
     "output_type": "stream",
     "text": [
      "                                        Product Name Brand Name   Price  \\\n",
      "0  \"CLEAR CLEAN ESN\" Sprint EPIC 4G Galaxy SPH-D7...    Samsung  199.99   \n",
      "1  \"CLEAR CLEAN ESN\" Sprint EPIC 4G Galaxy SPH-D7...    Samsung  199.99   \n",
      "2  \"CLEAR CLEAN ESN\" Sprint EPIC 4G Galaxy SPH-D7...    Samsung  199.99   \n",
      "3  \"CLEAR CLEAN ESN\" Sprint EPIC 4G Galaxy SPH-D7...    Samsung  199.99   \n",
      "4  \"CLEAR CLEAN ESN\" Sprint EPIC 4G Galaxy SPH-D7...    Samsung  199.99   \n",
      "\n",
      "   Rating                                            Reviews  Review Votes  \n",
      "0       5  I feel so LUCKY to have found this used (phone...           1.0  \n",
      "1       4  nice phone, nice up grade from my pantach revu...           0.0  \n",
      "2       5                                       Very pleased           0.0  \n",
      "3       4  It works good but it goes slow sometimes but i...           0.0  \n",
      "4       4  Great phone to replace my lost phone. The only...           0.0  \n",
      "\n",
      "\n",
      "<class 'pandas.core.frame.DataFrame'>\n",
      "RangeIndex: 413840 entries, 0 to 413839\n",
      "Data columns (total 6 columns):\n",
      " #   Column        Non-Null Count   Dtype  \n",
      "---  ------        --------------   -----  \n",
      " 0   Product Name  413840 non-null  object \n",
      " 1   Brand Name    348669 non-null  object \n",
      " 2   Price         407907 non-null  float64\n",
      " 3   Rating        413840 non-null  int64  \n",
      " 4   Reviews       413778 non-null  object \n",
      " 5   Review Votes  401544 non-null  float64\n",
      "dtypes: float64(2), int64(1), object(3)\n",
      "memory usage: 18.9+ MB\n",
      "None\n",
      "\n",
      "\n",
      "               Price         Rating   Review Votes\n",
      "count  407907.000000  413840.000000  401544.000000\n",
      "mean      226.867155       3.819578       1.507237\n",
      "std       273.006259       1.548216       9.163853\n",
      "min         1.730000       1.000000       0.000000\n",
      "25%        79.990000       3.000000       0.000000\n",
      "50%       144.710000       5.000000       0.000000\n",
      "75%       269.990000       5.000000       1.000000\n",
      "max      2598.000000       5.000000     645.000000\n",
      "\n",
      "\n",
      "Product Name      4410\n",
      "Brand Name         384\n",
      "Price             1754\n",
      "Rating               5\n",
      "Reviews         162491\n",
      "Review Votes       241\n",
      "dtype: int64\n",
      "\n",
      "\n"
     ]
    }
   ],
   "source": [
    "# View data information\n",
    "describeData(datos)"
   ]
  },
  {
   "cell_type": "markdown",
   "metadata": {},
   "source": [
    "### 2.2 Preprocessing"
   ]
  },
  {
   "cell_type": "code",
   "execution_count": 11,
   "metadata": {
    "id": "3DIMpq_jSU-U"
   },
   "outputs": [],
   "source": [
    "def encodeData(dataSet=0):\n",
    "    \"\"\"\n",
    "    Preprocess data\n",
    "    \"\"\"\n",
    "    \n",
    "    # Eliminate null values\n",
    "    dataSet.dropna(inplace=True)\n",
    "    # Work with a sample of 100,000 rows\n",
    "    dataSet = dataSet.iloc[0:100000,:]\n",
    "\n",
    "    # Remove any 'neutral' ratings equal to 3\n",
    "    dataSet = dataSet[dataSet['Rating'] != 3]\n",
    "\n",
    "    # Encode 4s and 5s as 1 (rated positively)\n",
    "    # Encode 1s and 2s as 0 (rated poorly)\n",
    "    dataSet['Positively Rated'] = np.where(dataSet['Rating'] > 3, 1, 0)\n",
    "\n",
    "    # Keep only relevant columns\n",
    "    columnas = ['Reviews', 'Rating', 'Positively Rated']\n",
    "    dataSet = dataSet[columnas]\n",
    "\n",
    "    return dataSet"
   ]
  },
  {
   "cell_type": "code",
   "execution_count": null,
   "metadata": {},
   "outputs": [
    {
     "name": "stdout",
     "output_type": "stream",
     "text": [
      "                                             Reviews  Rating  Positively Rated\n",
      "0  I feel so LUCKY to have found this used (phone...       5                 1\n",
      "1  nice phone, nice up grade from my pantach revu...       4                 1\n",
      "2                                       Very pleased       5                 1\n",
      "3  It works good but it goes slow sometimes but i...       4                 1\n",
      "4  Great phone to replace my lost phone. The only...       4                 1\n",
      "\n"
     ]
    }
   ],
   "source": [
    "# Preprocess data\n",
    "misDatos = encodeData(datos)\n",
    "print(misDatos.head())\n",
    "print()"
   ]
  },
  {
   "cell_type": "code",
   "execution_count": null,
   "metadata": {
    "colab": {
     "base_uri": "https://localhost:8080/",
     "height": 221
    },
    "executionInfo": {
     "elapsed": 371,
     "status": "error",
     "timestamp": 1727660089217,
     "user": {
      "displayName": "Enrique Gonzalez",
      "userId": "11537615501324889345"
     },
     "user_tz": 360
    },
    "id": "2TRNXM50SH20",
    "outputId": "cee333af-0103-4c7f-8644-fe955b5f5bf7"
   },
   "outputs": [
    {
     "ename": "NameError",
     "evalue": "name 'leeDatos' is not defined",
     "output_type": "error",
     "traceback": [
      "\u001b[0;31m---------------------------------------------------------------------------\u001b[0m",
      "\u001b[0;31mNameError\u001b[0m                                 Traceback (most recent call last)",
      "\u001b[0;32m<ipython-input-1-ff1531862dd2>\u001b[0m in \u001b[0;36m<cell line: 1>\u001b[0;34m()\u001b[0m\n\u001b[0;32m----> 1\u001b[0;31m \u001b[0mdatos\u001b[0m \u001b[0;34m=\u001b[0m \u001b[0mleeDatos\u001b[0m\u001b[0;34m(\u001b[0m\u001b[0;34m)\u001b[0m\u001b[0;34m\u001b[0m\u001b[0;34m\u001b[0m\u001b[0m\n\u001b[0m\u001b[1;32m      2\u001b[0m \u001b[0mprint\u001b[0m\u001b[0;34m(\u001b[0m\u001b[0mdatos\u001b[0m\u001b[0;34m)\u001b[0m\u001b[0;34m\u001b[0m\u001b[0;34m\u001b[0m\u001b[0m\n\u001b[1;32m      3\u001b[0m \u001b[0mprint\u001b[0m\u001b[0;34m(\u001b[0m\u001b[0;34m\"\\n\"\u001b[0m\u001b[0;34m)\u001b[0m\u001b[0;34m\u001b[0m\u001b[0;34m\u001b[0m\u001b[0m\n\u001b[1;32m      4\u001b[0m \u001b[0;34m\u001b[0m\u001b[0m\n\u001b[1;32m      5\u001b[0m \u001b[0mencodeDatos\u001b[0m \u001b[0;34m=\u001b[0m \u001b[0mencodeData\u001b[0m\u001b[0;34m(\u001b[0m\u001b[0mdatos\u001b[0m\u001b[0;34m)\u001b[0m\u001b[0;34m\u001b[0m\u001b[0;34m\u001b[0m\u001b[0m\n",
      "\u001b[0;31mNameError\u001b[0m: name 'leeDatos' is not defined"
     ]
    }
   ],
   "source": [
    "\n",
    "\n",
    "encodeDatos = encodeData(datos)\n",
    "print(encodeDatos)\n",
    "print(\"\\n\")\n",
    "print(encodeDatos['Positively Rated'].mean())\n",
    "print(\"\\n\")"
   ]
  },
  {
   "cell_type": "code",
   "execution_count": null,
   "metadata": {
    "colab": {
     "base_uri": "https://localhost:8080/"
    },
    "executionInfo": {
     "elapsed": 19,
     "status": "ok",
     "timestamp": 1727450933501,
     "user": {
      "displayName": "Enrique Gonzalez",
      "userId": "11537615501324889345"
     },
     "user_tz": 360
    },
    "id": "uqrk6rtFUllo",
    "outputId": "cbd40dc1-e996-4967-ff93-0c72c9d6742e"
   },
   "outputs": [
    {
     "name": "stdout",
     "output_type": "stream",
     "text": [
      "                                                Reviews  Positively Rated\n",
      "0     I feel so LUCKY to have found this used (phone...                 1\n",
      "1     nice phone, nice up grade from my pantach revu...                 1\n",
      "2                                          Very pleased                 1\n",
      "3     It works good but it goes slow sometimes but i...                 1\n",
      "4     Great phone to replace my lost phone. The only...                 1\n",
      "...                                                 ...               ...\n",
      "5680  It is very good and almost as good as new. The...                 1\n",
      "5681  Bought from UnlockedCellPhoneKings refurbished...                 1\n",
      "5682  I bought this iphone as \"new\" and when i recei...                 0\n",
      "5683  I'm not too interested in having the latest te...                 1\n",
      "5684  Product was brand new, and was factory unlocke...                 1\n",
      "\n",
      "[3750 rows x 2 columns]\n",
      "trainSet shape:  (3750, 2)\n",
      "                                                Reviews  Positively Rated\n",
      "5685  Came like a new phone (box, charger, instuctio...                 1\n",
      "5686  three days ago to remove the bad rate hoping t...                 0\n",
      "5687  I 'd like to ask how should we do to fix my ip...                 0\n",
      "5688  I've owned a Iphone 3gs before but it feel in ...                 1\n",
      "5689  I have tried to return this phone but I can no...                 1\n",
      "...                                                 ...               ...\n",
      "7790                                   Unable to unlock                 0\n",
      "7791  Bought two for my kids Christmas present. They...                 1\n",
      "7792  The phone in its self is amazing but the batte...                 0\n",
      "7793  Not long after purchasing this product it alre...                 0\n",
      "7794                                              Good.                 1\n",
      "\n",
      "[1250 rows x 2 columns]\n",
      "testSet shape:  (1250, 2)\n",
      "\n",
      "\n"
     ]
    }
   ],
   "source": [
    "ts_size = .25\n",
    "trainSet, testSet = train_test_split(encodeDatos, test_size=ts_size, shuffle=False, random_state=0)\n",
    "print(trainSet)\n",
    "print('trainSet shape: ', trainSet.shape)\n",
    "print(testSet)\n",
    "print('testSet shape: ', testSet.shape)\n",
    "print(\"\\n\")"
   ]
  },
  {
   "cell_type": "code",
   "execution_count": null,
   "metadata": {
    "colab": {
     "base_uri": "https://localhost:8080/",
     "height": 221
    },
    "executionInfo": {
     "elapsed": 288,
     "status": "error",
     "timestamp": 1728243050851,
     "user": {
      "displayName": "Enrique Gonzalez",
      "userId": "11537615501324889345"
     },
     "user_tz": 360
    },
    "id": "w7e7acZdWHF0",
    "outputId": "7a5e8265-218b-40f5-f341-b6b2f0461178"
   },
   "outputs": [
    {
     "ename": "NameError",
     "evalue": "name 'trainSet' is not defined",
     "output_type": "error",
     "traceback": [
      "\u001b[0;31m---------------------------------------------------------------------------\u001b[0m",
      "\u001b[0;31mNameError\u001b[0m                                 Traceback (most recent call last)",
      "\u001b[0;32m<ipython-input-1-890a878d7034>\u001b[0m in \u001b[0;36m<cell line: 8>\u001b[0;34m()\u001b[0m\n\u001b[1;32m      6\u001b[0m \u001b[0moov_tok\u001b[0m \u001b[0;34m=\u001b[0m \u001b[0;34m\"<OOV>\"\u001b[0m\u001b[0;34m\u001b[0m\u001b[0;34m\u001b[0m\u001b[0m\n\u001b[1;32m      7\u001b[0m \u001b[0;34m\u001b[0m\u001b[0m\n\u001b[0;32m----> 8\u001b[0;31m \u001b[0mtraining_sentences\u001b[0m\u001b[0;34m=\u001b[0m \u001b[0mtrainSet\u001b[0m\u001b[0;34m[\u001b[0m\u001b[0;34m'Reviews'\u001b[0m\u001b[0;34m]\u001b[0m\u001b[0;34m\u001b[0m\u001b[0;34m\u001b[0m\u001b[0m\n\u001b[0m\u001b[1;32m      9\u001b[0m \u001b[0mtraining_labels\u001b[0m \u001b[0;34m=\u001b[0m \u001b[0mtrainSet\u001b[0m\u001b[0;34m[\u001b[0m\u001b[0;34m'Positively Rated'\u001b[0m\u001b[0;34m]\u001b[0m\u001b[0;34m\u001b[0m\u001b[0;34m\u001b[0m\u001b[0m\n\u001b[1;32m     10\u001b[0m \u001b[0mtesting_sentences\u001b[0m \u001b[0;34m=\u001b[0m \u001b[0mtestSet\u001b[0m\u001b[0;34m[\u001b[0m\u001b[0;34m'Reviews'\u001b[0m\u001b[0;34m]\u001b[0m\u001b[0;34m\u001b[0m\u001b[0;34m\u001b[0m\u001b[0m\n",
      "\u001b[0;31mNameError\u001b[0m: name 'trainSet' is not defined"
     ]
    }
   ],
   "source": [
    "vocab_size = 10000\n",
    "embedding_dim = 16\n",
    "max_length = 100\n",
    "trunc_type='post'\n",
    "padding_type='post'\n",
    "oov_tok = \"<OOV>\"\n",
    "\n",
    "training_sentences= trainSet['Reviews']\n",
    "training_labels = trainSet['Positively Rated']\n",
    "testing_sentences = testSet['Reviews']\n",
    "testing_labels = testSet['Positively Rated']"
   ]
  },
  {
   "cell_type": "code",
   "execution_count": null,
   "metadata": {
    "id": "_v21avGxWYJS"
   },
   "outputs": [],
   "source": [
    "tokenizer = Tokenizer(num_words=vocab_size, oov_token=oov_tok)\n",
    "tokenizer.fit_on_texts(training_sentences)\n",
    "\n",
    "word_index = tokenizer.word_index\n",
    "\n",
    "training_sequences = tokenizer.texts_to_sequences(training_sentences)\n",
    "training_padded = pad_sequences(training_sequences, maxlen=max_length, padding=padding_type, truncating=trunc_type)\n",
    "\n",
    "testing_sequences = tokenizer.texts_to_sequences(testing_sentences)\n",
    "testing_padded = pad_sequences(testing_sequences, maxlen=max_length, padding=padding_type, truncating=trunc_type)"
   ]
  },
  {
   "cell_type": "code",
   "execution_count": null,
   "metadata": {
    "id": "ldrA_B6wcpK5"
   },
   "outputs": [],
   "source": [
    "training_padded = np.array(training_padded)\n",
    "training_labels = np.array(training_labels)\n",
    "testing_padded = np.array(testing_padded)\n",
    "testing_labels = np.array(testing_labels)"
   ]
  },
  {
   "cell_type": "code",
   "execution_count": null,
   "metadata": {
    "colab": {
     "base_uri": "https://localhost:8080/",
     "height": 221
    },
    "executionInfo": {
     "elapsed": 227,
     "status": "error",
     "timestamp": 1728243388253,
     "user": {
      "displayName": "Enrique Gonzalez",
      "userId": "11537615501324889345"
     },
     "user_tz": 360
    },
    "id": "a1bpcYVvXvCs",
    "outputId": "f7973572-a310-43f9-8ead-995874440f3c"
   },
   "outputs": [
    {
     "ename": "NameError",
     "evalue": "name 'Sequential' is not defined",
     "output_type": "error",
     "traceback": [
      "\u001b[0;31m---------------------------------------------------------------------------\u001b[0m",
      "\u001b[0;31mNameError\u001b[0m                                 Traceback (most recent call last)",
      "\u001b[0;32m<ipython-input-2-0e811c61a4d4>\u001b[0m in \u001b[0;36m<cell line: 2>\u001b[0;34m()\u001b[0m\n\u001b[1;32m      1\u001b[0m \u001b[0;31m#dropout_rate = 0.25\u001b[0m\u001b[0;34m\u001b[0m\u001b[0;34m\u001b[0m\u001b[0m\n\u001b[0;32m----> 2\u001b[0;31m model = Sequential([\n\u001b[0m\u001b[1;32m      3\u001b[0m                     \u001b[0mEmbedding\u001b[0m\u001b[0;34m(\u001b[0m\u001b[0mvocab_size\u001b[0m\u001b[0;34m,\u001b[0m \u001b[0membedding_dim\u001b[0m\u001b[0;34m,\u001b[0m \u001b[0minput_length\u001b[0m\u001b[0;34m=\u001b[0m\u001b[0mmax_length\u001b[0m\u001b[0;34m)\u001b[0m\u001b[0;34m,\u001b[0m\u001b[0;34m\u001b[0m\u001b[0;34m\u001b[0m\u001b[0m\n\u001b[1;32m      4\u001b[0m                     \u001b[0mGlobalAveragePooling1D\u001b[0m\u001b[0;34m(\u001b[0m\u001b[0;34m)\u001b[0m\u001b[0;34m,\u001b[0m\u001b[0;34m\u001b[0m\u001b[0;34m\u001b[0m\u001b[0m\n\u001b[1;32m      5\u001b[0m                     \u001b[0mDense\u001b[0m\u001b[0;34m(\u001b[0m\u001b[0;36m24\u001b[0m\u001b[0;34m,\u001b[0m \u001b[0mactivation\u001b[0m\u001b[0;34m=\u001b[0m\u001b[0;34m'relu'\u001b[0m\u001b[0;34m)\u001b[0m\u001b[0;34m,\u001b[0m\u001b[0;34m\u001b[0m\u001b[0;34m\u001b[0m\u001b[0m\n",
      "\u001b[0;31mNameError\u001b[0m: name 'Sequential' is not defined"
     ]
    }
   ],
   "source": [
    "#dropout_rate = 0.25\n",
    "model = Sequential([\n",
    "                    Embedding(vocab_size, embedding_dim, input_length=max_length),\n",
    "                    GlobalAveragePooling1D(),\n",
    "                    Dense(24, activation='relu'),\n",
    "                    #Dropout(dropout_rate),\n",
    "                    #Dense(16, activation='relu'),\n",
    "                    #Dropout(dropout_rate),\n",
    "                    Dense(1, activation='sigmoid')\n",
    "                    ])\n",
    "\n",
    "opt = 'adam'\n",
    "loss_fun = 'binary_crossentropy'\n",
    "acc = ['accuracy']\n",
    "\n",
    "model.compile(\n",
    "    optimizer = opt,\n",
    "    loss = loss_fun,\n",
    "    metrics = acc\n",
    "    )"
   ]
  },
  {
   "cell_type": "code",
   "execution_count": null,
   "metadata": {
    "colab": {
     "base_uri": "https://localhost:8080/",
     "height": 281
    },
    "executionInfo": {
     "elapsed": 17,
     "status": "ok",
     "timestamp": 1727450934926,
     "user": {
      "displayName": "Enrique Gonzalez",
      "userId": "11537615501324889345"
     },
     "user_tz": 360
    },
    "id": "0g5-aVfWXzbH",
    "outputId": "43e1519b-a309-43a7-84e7-037a84e2ed1a"
   },
   "outputs": [
    {
     "data": {
      "text/html": [
       "<pre style=\"white-space:pre;overflow-x:auto;line-height:normal;font-family:Menlo,'DejaVu Sans Mono',consolas,'Courier New',monospace\"><span style=\"font-weight: bold\">Model: \"sequential\"</span>\n",
       "</pre>\n"
      ],
      "text/plain": [
       "\u001b[1mModel: \"sequential\"\u001b[0m\n"
      ]
     },
     "metadata": {},
     "output_type": "display_data"
    },
    {
     "data": {
      "text/html": [
       "<pre style=\"white-space:pre;overflow-x:auto;line-height:normal;font-family:Menlo,'DejaVu Sans Mono',consolas,'Courier New',monospace\">┏━━━━━━━━━━━━━━━━━━━━━━━━━━━━━━━━━━━━━━┳━━━━━━━━━━━━━━━━━━━━━━━━━━━━━┳━━━━━━━━━━━━━━━━━┓\n",
       "┃<span style=\"font-weight: bold\"> Layer (type)                         </span>┃<span style=\"font-weight: bold\"> Output Shape                </span>┃<span style=\"font-weight: bold\">         Param # </span>┃\n",
       "┡━━━━━━━━━━━━━━━━━━━━━━━━━━━━━━━━━━━━━━╇━━━━━━━━━━━━━━━━━━━━━━━━━━━━━╇━━━━━━━━━━━━━━━━━┩\n",
       "│ embedding (<span style=\"color: #0087ff; text-decoration-color: #0087ff\">Embedding</span>)                │ ?                           │     <span style=\"color: #00af00; text-decoration-color: #00af00\">0</span> (unbuilt) │\n",
       "├──────────────────────────────────────┼─────────────────────────────┼─────────────────┤\n",
       "│ global_average_pooling1d             │ ?                           │     <span style=\"color: #00af00; text-decoration-color: #00af00\">0</span> (unbuilt) │\n",
       "│ (<span style=\"color: #0087ff; text-decoration-color: #0087ff\">GlobalAveragePooling1D</span>)             │                             │                 │\n",
       "├──────────────────────────────────────┼─────────────────────────────┼─────────────────┤\n",
       "│ dense (<span style=\"color: #0087ff; text-decoration-color: #0087ff\">Dense</span>)                        │ ?                           │     <span style=\"color: #00af00; text-decoration-color: #00af00\">0</span> (unbuilt) │\n",
       "├──────────────────────────────────────┼─────────────────────────────┼─────────────────┤\n",
       "│ dense_1 (<span style=\"color: #0087ff; text-decoration-color: #0087ff\">Dense</span>)                      │ ?                           │     <span style=\"color: #00af00; text-decoration-color: #00af00\">0</span> (unbuilt) │\n",
       "└──────────────────────────────────────┴─────────────────────────────┴─────────────────┘\n",
       "</pre>\n"
      ],
      "text/plain": [
       "┏━━━━━━━━━━━━━━━━━━━━━━━━━━━━━━━━━━━━━━┳━━━━━━━━━━━━━━━━━━━━━━━━━━━━━┳━━━━━━━━━━━━━━━━━┓\n",
       "┃\u001b[1m \u001b[0m\u001b[1mLayer (type)                        \u001b[0m\u001b[1m \u001b[0m┃\u001b[1m \u001b[0m\u001b[1mOutput Shape               \u001b[0m\u001b[1m \u001b[0m┃\u001b[1m \u001b[0m\u001b[1m        Param #\u001b[0m\u001b[1m \u001b[0m┃\n",
       "┡━━━━━━━━━━━━━━━━━━━━━━━━━━━━━━━━━━━━━━╇━━━━━━━━━━━━━━━━━━━━━━━━━━━━━╇━━━━━━━━━━━━━━━━━┩\n",
       "│ embedding (\u001b[38;5;33mEmbedding\u001b[0m)                │ ?                           │     \u001b[38;5;34m0\u001b[0m (unbuilt) │\n",
       "├──────────────────────────────────────┼─────────────────────────────┼─────────────────┤\n",
       "│ global_average_pooling1d             │ ?                           │     \u001b[38;5;34m0\u001b[0m (unbuilt) │\n",
       "│ (\u001b[38;5;33mGlobalAveragePooling1D\u001b[0m)             │                             │                 │\n",
       "├──────────────────────────────────────┼─────────────────────────────┼─────────────────┤\n",
       "│ dense (\u001b[38;5;33mDense\u001b[0m)                        │ ?                           │     \u001b[38;5;34m0\u001b[0m (unbuilt) │\n",
       "├──────────────────────────────────────┼─────────────────────────────┼─────────────────┤\n",
       "│ dense_1 (\u001b[38;5;33mDense\u001b[0m)                      │ ?                           │     \u001b[38;5;34m0\u001b[0m (unbuilt) │\n",
       "└──────────────────────────────────────┴─────────────────────────────┴─────────────────┘\n"
      ]
     },
     "metadata": {},
     "output_type": "display_data"
    },
    {
     "data": {
      "text/html": [
       "<pre style=\"white-space:pre;overflow-x:auto;line-height:normal;font-family:Menlo,'DejaVu Sans Mono',consolas,'Courier New',monospace\"><span style=\"font-weight: bold\"> Total params: </span><span style=\"color: #00af00; text-decoration-color: #00af00\">0</span> (0.00 B)\n",
       "</pre>\n"
      ],
      "text/plain": [
       "\u001b[1m Total params: \u001b[0m\u001b[38;5;34m0\u001b[0m (0.00 B)\n"
      ]
     },
     "metadata": {},
     "output_type": "display_data"
    },
    {
     "data": {
      "text/html": [
       "<pre style=\"white-space:pre;overflow-x:auto;line-height:normal;font-family:Menlo,'DejaVu Sans Mono',consolas,'Courier New',monospace\"><span style=\"font-weight: bold\"> Trainable params: </span><span style=\"color: #00af00; text-decoration-color: #00af00\">0</span> (0.00 B)\n",
       "</pre>\n"
      ],
      "text/plain": [
       "\u001b[1m Trainable params: \u001b[0m\u001b[38;5;34m0\u001b[0m (0.00 B)\n"
      ]
     },
     "metadata": {},
     "output_type": "display_data"
    },
    {
     "data": {
      "text/html": [
       "<pre style=\"white-space:pre;overflow-x:auto;line-height:normal;font-family:Menlo,'DejaVu Sans Mono',consolas,'Courier New',monospace\"><span style=\"font-weight: bold\"> Non-trainable params: </span><span style=\"color: #00af00; text-decoration-color: #00af00\">0</span> (0.00 B)\n",
       "</pre>\n"
      ],
      "text/plain": [
       "\u001b[1m Non-trainable params: \u001b[0m\u001b[38;5;34m0\u001b[0m (0.00 B)\n"
      ]
     },
     "metadata": {},
     "output_type": "display_data"
    }
   ],
   "source": [
    "model.summary()"
   ]
  },
  {
   "cell_type": "code",
   "execution_count": null,
   "metadata": {
    "colab": {
     "base_uri": "https://localhost:8080/"
    },
    "executionInfo": {
     "elapsed": 33229,
     "status": "ok",
     "timestamp": 1727450968140,
     "user": {
      "displayName": "Enrique Gonzalez",
      "userId": "11537615501324889345"
     },
     "user_tz": 360
    },
    "id": "-eOvPGnmdUO9",
    "outputId": "470639c1-c26c-4d0c-cc0e-1f7c3d690ec4"
   },
   "outputs": [
    {
     "name": "stdout",
     "output_type": "stream",
     "text": [
      "Epoch 1/30\n",
      "88/88 - 7s - 75ms/step - accuracy: 0.7255 - loss: 0.5997 - val_accuracy: 0.6354 - val_loss: 0.6503\n",
      "Epoch 2/30\n",
      "88/88 - 1s - 11ms/step - accuracy: 0.7269 - loss: 0.5777 - val_accuracy: 0.6354 - val_loss: 0.6489\n",
      "Epoch 3/30\n",
      "88/88 - 1s - 16ms/step - accuracy: 0.7269 - loss: 0.5578 - val_accuracy: 0.6354 - val_loss: 0.6503\n",
      "Epoch 4/30\n",
      "88/88 - 1s - 7ms/step - accuracy: 0.7347 - loss: 0.5179 - val_accuracy: 0.6557 - val_loss: 0.5807\n",
      "Epoch 5/30\n",
      "88/88 - 1s - 7ms/step - accuracy: 0.7909 - loss: 0.4466 - val_accuracy: 0.6951 - val_loss: 0.5277\n",
      "Epoch 6/30\n",
      "88/88 - 1s - 7ms/step - accuracy: 0.8389 - loss: 0.3731 - val_accuracy: 0.7857 - val_loss: 0.4558\n",
      "Epoch 7/30\n",
      "88/88 - 1s - 7ms/step - accuracy: 0.8798 - loss: 0.3116 - val_accuracy: 0.7783 - val_loss: 0.4431\n",
      "Epoch 8/30\n",
      "88/88 - 0s - 4ms/step - accuracy: 0.9008 - loss: 0.2676 - val_accuracy: 0.8369 - val_loss: 0.3921\n",
      "Epoch 9/30\n",
      "88/88 - 0s - 4ms/step - accuracy: 0.9228 - loss: 0.2268 - val_accuracy: 0.7878 - val_loss: 0.4331\n",
      "Epoch 10/30\n",
      "88/88 - 1s - 7ms/step - accuracy: 0.9260 - loss: 0.2118 - val_accuracy: 0.8443 - val_loss: 0.3700\n",
      "Epoch 11/30\n",
      "88/88 - 0s - 5ms/step - accuracy: 0.9385 - loss: 0.1855 - val_accuracy: 0.8358 - val_loss: 0.3859\n",
      "Epoch 12/30\n",
      "88/88 - 1s - 8ms/step - accuracy: 0.9403 - loss: 0.1746 - val_accuracy: 0.8454 - val_loss: 0.3660\n",
      "Epoch 13/30\n",
      "88/88 - 1s - 14ms/step - accuracy: 0.9534 - loss: 0.1533 - val_accuracy: 0.8454 - val_loss: 0.3743\n",
      "Epoch 14/30\n",
      "88/88 - 1s - 15ms/step - accuracy: 0.9538 - loss: 0.1402 - val_accuracy: 0.8518 - val_loss: 0.3690\n",
      "Epoch 15/30\n",
      "88/88 - 1s - 13ms/step - accuracy: 0.9555 - loss: 0.1391 - val_accuracy: 0.8497 - val_loss: 0.3886\n",
      "Epoch 16/30\n",
      "88/88 - 1s - 16ms/step - accuracy: 0.9577 - loss: 0.1251 - val_accuracy: 0.8635 - val_loss: 0.3721\n",
      "Epoch 17/30\n",
      "88/88 - 1s - 17ms/step - accuracy: 0.9641 - loss: 0.1176 - val_accuracy: 0.8614 - val_loss: 0.3772\n",
      "Epoch 18/30\n",
      "88/88 - 1s - 14ms/step - accuracy: 0.9698 - loss: 0.1019 - val_accuracy: 0.8465 - val_loss: 0.4211\n",
      "Epoch 19/30\n",
      "88/88 - 1s - 16ms/step - accuracy: 0.9712 - loss: 0.1001 - val_accuracy: 0.8635 - val_loss: 0.3952\n",
      "Epoch 20/30\n",
      "88/88 - 2s - 24ms/step - accuracy: 0.9716 - loss: 0.0942 - val_accuracy: 0.8529 - val_loss: 0.4099\n",
      "Epoch 21/30\n",
      "88/88 - 1s - 14ms/step - accuracy: 0.9687 - loss: 0.0932 - val_accuracy: 0.8497 - val_loss: 0.4167\n",
      "Epoch 22/30\n",
      "88/88 - 1s - 15ms/step - accuracy: 0.9755 - loss: 0.0812 - val_accuracy: 0.8646 - val_loss: 0.4127\n",
      "Epoch 23/30\n",
      "88/88 - 1s - 9ms/step - accuracy: 0.9794 - loss: 0.0729 - val_accuracy: 0.8678 - val_loss: 0.4077\n",
      "Epoch 24/30\n",
      "88/88 - 1s - 7ms/step - accuracy: 0.9797 - loss: 0.0700 - val_accuracy: 0.8348 - val_loss: 0.4873\n",
      "Epoch 25/30\n",
      "88/88 - 1s - 6ms/step - accuracy: 0.9783 - loss: 0.0758 - val_accuracy: 0.8294 - val_loss: 0.4568\n",
      "Epoch 26/30\n",
      "88/88 - 1s - 7ms/step - accuracy: 0.9776 - loss: 0.0693 - val_accuracy: 0.8443 - val_loss: 0.4936\n",
      "Epoch 27/30\n",
      "88/88 - 1s - 11ms/step - accuracy: 0.9797 - loss: 0.0652 - val_accuracy: 0.8422 - val_loss: 0.5003\n",
      "Epoch 28/30\n",
      "88/88 - 0s - 4ms/step - accuracy: 0.9801 - loss: 0.0575 - val_accuracy: 0.8625 - val_loss: 0.4482\n",
      "Epoch 29/30\n",
      "88/88 - 0s - 4ms/step - accuracy: 0.9819 - loss: 0.0610 - val_accuracy: 0.8582 - val_loss: 0.4553\n",
      "Epoch 30/30\n",
      "88/88 - 1s - 7ms/step - accuracy: 0.9854 - loss: 0.0530 - val_accuracy: 0.8614 - val_loss: 0.4904\n"
     ]
    }
   ],
   "source": [
    "num_epochs = 30\n",
    "history = model.fit(training_padded,\n",
    "                    training_labels,\n",
    "                    validation_split=0.25,\n",
    "                    epochs=num_epochs,\n",
    "                    verbose=2)"
   ]
  },
  {
   "cell_type": "code",
   "execution_count": null,
   "metadata": {
    "colab": {
     "base_uri": "https://localhost:8080/",
     "height": 221
    },
    "executionInfo": {
     "elapsed": 9106,
     "status": "error",
     "timestamp": 1728243772792,
     "user": {
      "displayName": "Enrique Gonzalez",
      "userId": "11537615501324889345"
     },
     "user_tz": 360
    },
    "id": "dhzxczppevnX",
    "outputId": "f493b340-9b0f-4fb4-f1af-89bac977c86c"
   },
   "outputs": [
    {
     "ename": "NameError",
     "evalue": "name 'plt' is not defined",
     "output_type": "error",
     "traceback": [
      "\u001b[0;31m---------------------------------------------------------------------------\u001b[0m",
      "\u001b[0;31mNameError\u001b[0m                                 Traceback (most recent call last)",
      "\u001b[0;32m<ipython-input-3-7bda579fe6d0>\u001b[0m in \u001b[0;36m<cell line: 1>\u001b[0;34m()\u001b[0m\n\u001b[0;32m----> 1\u001b[0;31m \u001b[0mfig\u001b[0m \u001b[0;34m=\u001b[0m \u001b[0mplt\u001b[0m\u001b[0;34m.\u001b[0m\u001b[0mfigure\u001b[0m\u001b[0;34m(\u001b[0m\u001b[0;34m)\u001b[0m\u001b[0;34m\u001b[0m\u001b[0;34m\u001b[0m\u001b[0m\n\u001b[0m\u001b[1;32m      2\u001b[0m \u001b[0mfig\u001b[0m\u001b[0;34m.\u001b[0m\u001b[0madd_subplot\u001b[0m\u001b[0;34m(\u001b[0m\u001b[0;36m121\u001b[0m\u001b[0;34m)\u001b[0m\u001b[0;34m\u001b[0m\u001b[0;34m\u001b[0m\u001b[0m\n\u001b[1;32m      3\u001b[0m \u001b[0mplt\u001b[0m\u001b[0;34m.\u001b[0m\u001b[0mplot\u001b[0m\u001b[0;34m(\u001b[0m\u001b[0mhistory\u001b[0m\u001b[0;34m.\u001b[0m\u001b[0mhistory\u001b[0m\u001b[0;34m[\u001b[0m\u001b[0;34m'loss'\u001b[0m\u001b[0;34m]\u001b[0m\u001b[0;34m)\u001b[0m\u001b[0;34m\u001b[0m\u001b[0;34m\u001b[0m\u001b[0m\n\u001b[1;32m      4\u001b[0m \u001b[0mplt\u001b[0m\u001b[0;34m.\u001b[0m\u001b[0mplot\u001b[0m\u001b[0;34m(\u001b[0m\u001b[0mhistory\u001b[0m\u001b[0;34m.\u001b[0m\u001b[0mhistory\u001b[0m\u001b[0;34m[\u001b[0m\u001b[0;34m'val_loss'\u001b[0m\u001b[0;34m]\u001b[0m\u001b[0;34m)\u001b[0m\u001b[0;34m\u001b[0m\u001b[0;34m\u001b[0m\u001b[0m\n\u001b[1;32m      5\u001b[0m \u001b[0mplt\u001b[0m\u001b[0;34m.\u001b[0m\u001b[0mtitle\u001b[0m\u001b[0;34m(\u001b[0m\u001b[0;34m\"Loss vs Epochs\"\u001b[0m\u001b[0;34m)\u001b[0m\u001b[0;34m\u001b[0m\u001b[0;34m\u001b[0m\u001b[0m\n",
      "\u001b[0;31mNameError\u001b[0m: name 'plt' is not defined"
     ]
    }
   ],
   "source": [
    "fig = plt.figure()\n",
    "fig.add_subplot(121)\n",
    "plt.plot(history.history['loss'])\n",
    "plt.plot(history.history['val_loss'])\n",
    "plt.title(\"Loss vs Epochs\")\n",
    "plt.ylabel('Loss')\n",
    "plt.xlabel('Epoch')\n",
    "plt.legend(['Training', 'Validation'], loc='upper right')\n",
    "fig.add_subplot(122)\n",
    "plt.plot(history.history['accuracy'])\n",
    "plt.plot(history.history['val_accuracy'])\n",
    "plt.title(\"Accuracy vs Epochs\")\n",
    "plt.ylabel('Accuracy')\n",
    "plt.xlabel('Epoch')\n",
    "plt.legend(['Training', 'Validation'], loc='upper right')\n",
    "plt.show()"
   ]
  },
  {
   "cell_type": "code",
   "execution_count": null,
   "metadata": {
    "colab": {
     "base_uri": "https://localhost:8080/"
    },
    "executionInfo": {
     "elapsed": 1375,
     "status": "ok",
     "timestamp": 1727451943782,
     "user": {
      "displayName": "Enrique Gonzalez",
      "userId": "11537615501324889345"
     },
     "user_tz": 360
    },
    "id": "8cD3FbbCkMez",
    "outputId": "ac14d157-4e1b-41b4-f0c5-9839202111d9"
   },
   "outputs": [
    {
     "name": "stdout",
     "output_type": "stream",
     "text": [
      "118/118 - 0s - 1ms/step - accuracy: 0.9531 - loss: 0.1581\n",
      "[0.1580992341041565, 0.9530666470527649]\n",
      "\n",
      "\n",
      "\u001b[1m118/118\u001b[0m \u001b[32m━━━━━━━━━━━━━━━━━━━━\u001b[0m\u001b[37m\u001b[0m \u001b[1m0s\u001b[0m 1ms/step\n",
      "      pred  real\n",
      "0      1.0     1\n",
      "1      1.0     1\n",
      "2      1.0     1\n",
      "3      1.0     1\n",
      "4      1.0     1\n",
      "...    ...   ...\n",
      "3745   1.0     1\n",
      "3746   1.0     1\n",
      "3747   0.0     0\n",
      "3748   1.0     1\n",
      "3749   1.0     1\n",
      "\n",
      "[3750 rows x 2 columns]\n",
      "40/40 - 0s - 3ms/step - accuracy: 0.8768 - loss: 0.3249\n",
      "[0.3248712122440338, 0.876800000667572]\n",
      "\n",
      "\n",
      "\u001b[1m40/40\u001b[0m \u001b[32m━━━━━━━━━━━━━━━━━━━━\u001b[0m\u001b[37m\u001b[0m \u001b[1m0s\u001b[0m 2ms/step\n",
      "      pred  real\n",
      "0      1.0     1\n",
      "1      0.0     0\n",
      "2      1.0     0\n",
      "3      1.0     1\n",
      "4      0.0     1\n",
      "...    ...   ...\n",
      "1245   1.0     0\n",
      "1246   1.0     1\n",
      "1247   0.0     0\n",
      "1248   0.0     0\n",
      "1249   1.0     1\n",
      "\n",
      "[1250 rows x 2 columns]\n"
     ]
    }
   ],
   "source": [
    "print(model.evaluate(training_padded, training_labels, verbose=2))\n",
    "print(\"\\n\")\n",
    "\n",
    "#### predict train data ######\n",
    "df_train = pd.DataFrame()\n",
    "df_train['pred'] = model.predict(training_padded).reshape(1,len(training_padded))[0]\n",
    "df_train['real'] = training_labels\n",
    "print(round(df_train))\n",
    "print(model.evaluate(testing_padded,testing_labels, verbose=2))\n",
    "print(\"\\n\")\n",
    "\n",
    "# test data\n",
    "df_test = pd.DataFrame()\n",
    "df_test['pred'] = model.predict(testing_padded).reshape(1,len(testing_padded))[0]\n",
    "df_test['real'] = testing_labels\n",
    "print(round(df_test))\n"
   ]
  }
 ],
 "metadata": {
  "colab": {
   "authorship_tag": "ABX9TyM5Az2gpaJzxa4BFpH8eotv",
   "provenance": []
  },
  "kernelspec": {
   "display_name": "base",
   "language": "python",
   "name": "python3"
  },
  "language_info": {
   "codemirror_mode": {
    "name": "ipython",
    "version": 3
   },
   "file_extension": ".py",
   "mimetype": "text/x-python",
   "name": "python",
   "nbconvert_exporter": "python",
   "pygments_lexer": "ipython3",
   "version": "3.10.11"
  }
 },
 "nbformat": 4,
 "nbformat_minor": 0
}
