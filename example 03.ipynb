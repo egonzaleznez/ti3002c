{
 "cells": [
  {
   "cell_type": "markdown",
   "metadata": {},
   "source": [
    "# IA PARA CIENCIA DE DATOS"
   ]
  },
  {
   "cell_type": "markdown",
   "metadata": {},
   "source": [
    "## 1. Packaging"
   ]
  },
  {
   "cell_type": "code",
   "execution_count": 24,
   "metadata": {
    "colab": {
     "base_uri": "https://localhost:8080/",
     "height": 322
    },
    "executionInfo": {
     "elapsed": 25663,
     "status": "error",
     "timestamp": 1740429123280,
     "user": {
      "displayName": "Enrique Gonzalez",
      "userId": "11537615501324889345"
     },
     "user_tz": 360
    },
    "id": "eaB4T6kiRVy-",
    "outputId": "aa019178-6b62-41a6-ee88-6d6249b2d352"
   },
   "outputs": [],
   "source": [
    "import warnings\n",
    "warnings.filterwarnings(\"ignore\")\n",
    "import numpy as np # to use numpy arrays instead of lists\n",
    "import pandas as pd # DataFrame (table)\n",
    "\n",
    "# Matplotlib and seaborn for charting\n",
    "import matplotlib.pyplot as plt # to plot\n",
    "import seaborn as sns # to plot"
   ]
  },
  {
   "cell_type": "code",
   "execution_count": 25,
   "metadata": {},
   "outputs": [],
   "source": [
    "# Sklearn processing\n",
    "from sklearn.feature_extraction.text import TfidfVectorizer\n",
    "from sklearn.model_selection import train_test_split\n",
    "\n",
    "# Sklearn classification model evaluation metrics\n",
    "from sklearn.metrics import confusion_matrix\n",
    "from sklearn.metrics import accuracy_score, f1_score, precision_score, recall_score"
   ]
  },
  {
   "cell_type": "code",
   "execution_count": 26,
   "metadata": {},
   "outputs": [],
   "source": [
    "# TensorFlow and Keras for deep learning\n",
    "import tensorflow as tf\n",
    "from tensorflow.keras.preprocessing.text import Tokenizer\n",
    "from tensorflow.keras.preprocessing.sequence import pad_sequences\n",
    "from tensorflow.keras.models import Sequential\n",
    "from tensorflow.keras.layers import Embedding, Dense, Flatten, Dropout,  GlobalAveragePooling1D"
   ]
  },
  {
   "cell_type": "code",
   "execution_count": 27,
   "metadata": {},
   "outputs": [],
   "source": [
    "# Custom analysis modules\n",
    "from analysis_modules import *\n",
    "\n",
    "np.random.seed(0)\n",
    "tf.random.set_seed(0) "
   ]
  },
  {
   "cell_type": "markdown",
   "metadata": {},
   "source": [
    "## 2. Read file and load data"
   ]
  },
  {
   "cell_type": "markdown",
   "metadata": {},
   "source": [
    "### 2.1 Read file"
   ]
  },
  {
   "cell_type": "code",
   "execution_count": 28,
   "metadata": {},
   "outputs": [],
   "source": [
    "# Load data\n",
    "data_file = \"Amazon_Unlocked_Mobile.csv\"\n",
    "datos = pd.read_csv(data_file, header=0)"
   ]
  },
  {
   "cell_type": "code",
   "execution_count": 29,
   "metadata": {},
   "outputs": [
    {
     "name": "stdout",
     "output_type": "stream",
     "text": [
      "                                        Product Name Brand Name   Price  \\\n",
      "0  \"CLEAR CLEAN ESN\" Sprint EPIC 4G Galaxy SPH-D7...    Samsung  199.99   \n",
      "1  \"CLEAR CLEAN ESN\" Sprint EPIC 4G Galaxy SPH-D7...    Samsung  199.99   \n",
      "2  \"CLEAR CLEAN ESN\" Sprint EPIC 4G Galaxy SPH-D7...    Samsung  199.99   \n",
      "3  \"CLEAR CLEAN ESN\" Sprint EPIC 4G Galaxy SPH-D7...    Samsung  199.99   \n",
      "4  \"CLEAR CLEAN ESN\" Sprint EPIC 4G Galaxy SPH-D7...    Samsung  199.99   \n",
      "\n",
      "   Rating                                            Reviews  Review Votes  \n",
      "0       5  I feel so LUCKY to have found this used (phone...           1.0  \n",
      "1       4  nice phone, nice up grade from my pantach revu...           0.0  \n",
      "2       5                                       Very pleased           0.0  \n",
      "3       4  It works good but it goes slow sometimes but i...           0.0  \n",
      "4       4  Great phone to replace my lost phone. The only...           0.0  \n",
      "\n",
      "\n",
      "<class 'pandas.core.frame.DataFrame'>\n",
      "RangeIndex: 413840 entries, 0 to 413839\n",
      "Data columns (total 6 columns):\n",
      " #   Column        Non-Null Count   Dtype  \n",
      "---  ------        --------------   -----  \n",
      " 0   Product Name  413840 non-null  object \n",
      " 1   Brand Name    348669 non-null  object \n",
      " 2   Price         407907 non-null  float64\n",
      " 3   Rating        413840 non-null  int64  \n",
      " 4   Reviews       413778 non-null  object \n",
      " 5   Review Votes  401544 non-null  float64\n",
      "dtypes: float64(2), int64(1), object(3)\n",
      "memory usage: 18.9+ MB\n",
      "None\n",
      "\n",
      "\n",
      "               Price         Rating   Review Votes\n",
      "count  407907.000000  413840.000000  401544.000000\n",
      "mean      226.867155       3.819578       1.507237\n",
      "std       273.006259       1.548216       9.163853\n",
      "min         1.730000       1.000000       0.000000\n",
      "25%        79.990000       3.000000       0.000000\n",
      "50%       144.710000       5.000000       0.000000\n",
      "75%       269.990000       5.000000       1.000000\n",
      "max      2598.000000       5.000000     645.000000\n",
      "\n",
      "\n",
      "Product Name      4410\n",
      "Brand Name         384\n",
      "Price             1754\n",
      "Rating               5\n",
      "Reviews         162491\n",
      "Review Votes       241\n",
      "dtype: int64\n",
      "\n",
      "\n"
     ]
    }
   ],
   "source": [
    "# View data information\n",
    "describeData(datos)"
   ]
  },
  {
   "cell_type": "markdown",
   "metadata": {},
   "source": [
    "### 2.2 Preprocessing"
   ]
  },
  {
   "cell_type": "code",
   "execution_count": 30,
   "metadata": {
    "id": "3DIMpq_jSU-U"
   },
   "outputs": [],
   "source": [
    "def encodeData(dataSet=0):\n",
    "    \"\"\"\n",
    "    Preprocess data\n",
    "    \"\"\"\n",
    "    \n",
    "    # Eliminate null values\n",
    "    dataSet.dropna(inplace=True)\n",
    "    # Work with a sample of 100,000 rows\n",
    "    dataSet = dataSet.iloc[0:100000,:]\n",
    "\n",
    "    # Remove any 'neutral' ratings equal to 3\n",
    "    dataSet = dataSet[dataSet['Rating'] != 3]\n",
    "\n",
    "    # Encode 4s and 5s as 1 (rated positively)\n",
    "    # Encode 1s and 2s as 0 (rated poorly)\n",
    "    dataSet['Clasification'] = np.where(dataSet['Rating'] > 3, 1, 0)\n",
    "\n",
    "    # Keep only relevant columns\n",
    "    columnas = ['Reviews', 'Rating', 'Clasification']\n",
    "    dataSet = dataSet[columnas]\n",
    "\n",
    "    return dataSet"
   ]
  },
  {
   "cell_type": "code",
   "execution_count": 31,
   "metadata": {},
   "outputs": [
    {
     "name": "stdout",
     "output_type": "stream",
     "text": [
      "                                             Reviews  Rating  Clasification\n",
      "0  I feel so LUCKY to have found this used (phone...       5              1\n",
      "1  nice phone, nice up grade from my pantach revu...       4              1\n",
      "2                                       Very pleased       5              1\n",
      "3  It works good but it goes slow sometimes but i...       4              1\n",
      "4  Great phone to replace my lost phone. The only...       4              1\n",
      "\n",
      "Clasification    70037\n",
      "dtype: int64\n",
      "\n"
     ]
    }
   ],
   "source": [
    "# Preprocess data\n",
    "misDatos = encodeData(datos)\n",
    "print(misDatos.head())\n",
    "print()\n",
    "print(misDatos.iloc[:,-1:].sum())\n",
    "print()"
   ]
  },
  {
   "cell_type": "markdown",
   "metadata": {},
   "source": [
    "### 2.3 Split Data"
   ]
  },
  {
   "cell_type": "code",
   "execution_count": 32,
   "metadata": {},
   "outputs": [
    {
     "name": "stdout",
     "output_type": "stream",
     "text": [
      "                                             Reviews  Clasification\n",
      "0  I feel so LUCKY to have found this used (phone...              1\n",
      "1  nice phone, nice up grade from my pantach revu...              1\n",
      "2                                       Very pleased              1\n",
      "3  It works good but it goes slow sometimes but i...              1\n",
      "4  Great phone to replace my lost phone. The only...              1\n"
     ]
    }
   ],
   "source": [
    "columnas = ['Reviews', 'Clasification']\n",
    "misDatos = misDatos[columnas]\n",
    "print(misDatos.head())"
   ]
  },
  {
   "cell_type": "code",
   "execution_count": 33,
   "metadata": {
    "colab": {
     "base_uri": "https://localhost:8080/"
    },
    "executionInfo": {
     "elapsed": 19,
     "status": "ok",
     "timestamp": 1727450933501,
     "user": {
      "displayName": "Enrique Gonzalez",
      "userId": "11537615501324889345"
     },
     "user_tz": 360
    },
    "id": "uqrk6rtFUllo",
    "outputId": "cbd40dc1-e996-4967-ff93-0c72c9d6742e"
   },
   "outputs": [
    {
     "name": "stdout",
     "output_type": "stream",
     "text": [
      "Train set\n",
      "                                                  Reviews  Clasification\n",
      "2267    Great build quality. Almost stock Android. Lit...              1\n",
      "88968                                          excelente!              1\n",
      "94479   Soy de venezuela el producto vino malo, lo man...              0\n",
      "113000                                         Excelente.              1\n",
      "72560                                                good              1\n",
      "\n",
      "trainSet shape:  (70160, 2)\n",
      "\n",
      "Clasification    52501\n",
      "dtype: int64\n",
      "\n",
      "Test set\n",
      "                                                 Reviews  Clasification\n",
      "44794  The selphone is super nice ,my daugter love't ...              1\n",
      "25359  No it did not, you can't hear when you have it...              0\n",
      "59842  The iPhone 6 Plus arrived on-time and in perfe...              1\n",
      "69634  Finally picked one up after a year of contempl...              1\n",
      "19566  I bought this used and it had few noticeable s...              1\n",
      "\n",
      "testSet shape:  (23387, 2)\n",
      "\n",
      "Clasification    17536\n",
      "dtype: int64\n",
      "\n"
     ]
    }
   ],
   "source": [
    "# Extract labels\n",
    "# Convert one-hot encoding to single label\n",
    "y_onehot = misDatos.iloc[:, -1:].to_numpy()\n",
    "y_label = np.argmax(y_onehot, axis=1)\n",
    "\n",
    "# Split data into training and test sets\n",
    "ts_size = .25\n",
    "[trainSet, testSet] = splitDataSet(misDatos, test_size=ts_size, randSplit=True, stratify=y_label)\n",
    "print(\"Train set\")\n",
    "print(trainSet.head())\n",
    "print()\n",
    "print('trainSet shape: ', trainSet.shape)\n",
    "print()\n",
    "print(trainSet.iloc[:,-1:].sum())\n",
    "print()\n",
    "print(\"Test set\")\n",
    "print(testSet.head())\n",
    "print()\n",
    "print('testSet shape: ', testSet.shape)\n",
    "print()\n",
    "print(testSet.iloc[:,-1:].sum())\n",
    "print()"
   ]
  },
  {
   "cell_type": "markdown",
   "metadata": {},
   "source": [
    "### 2.4 Vectorize"
   ]
  },
  {
   "cell_type": "code",
   "execution_count": 34,
   "metadata": {
    "colab": {
     "base_uri": "https://localhost:8080/",
     "height": 221
    },
    "executionInfo": {
     "elapsed": 288,
     "status": "error",
     "timestamp": 1728243050851,
     "user": {
      "displayName": "Enrique Gonzalez",
      "userId": "11537615501324889345"
     },
     "user_tz": 360
    },
    "id": "w7e7acZdWHF0",
    "outputId": "7a5e8265-218b-40f5-f341-b6b2f0461178"
   },
   "outputs": [],
   "source": [
    "vocab_size = 10000\n",
    "embedding_dim = 16\n",
    "max_length = 100\n",
    "trunc_type='post'\n",
    "padding_type='post'\n",
    "oov_tok = \"<OOV>\"\n",
    "\n",
    "training_sentences= trainSet['Reviews']\n",
    "training_labels = trainSet['Clasification']\n",
    "testing_sentences = testSet['Reviews']\n",
    "testing_labels = testSet['Clasification']"
   ]
  },
  {
   "cell_type": "code",
   "execution_count": 35,
   "metadata": {
    "id": "_v21avGxWYJS"
   },
   "outputs": [],
   "source": [
    "tokenizer = Tokenizer(num_words=vocab_size, oov_token=oov_tok)\n",
    "tokenizer.fit_on_texts(training_sentences)\n",
    "\n",
    "word_index = tokenizer.word_index\n",
    "\n",
    "training_sequences = tokenizer.texts_to_sequences(training_sentences)\n",
    "training_padded = pad_sequences(training_sequences, maxlen=max_length, padding=padding_type, truncating=trunc_type)\n",
    "\n",
    "testing_sequences = tokenizer.texts_to_sequences(testing_sentences)\n",
    "testing_padded = pad_sequences(testing_sequences, maxlen=max_length, padding=padding_type, truncating=trunc_type)"
   ]
  },
  {
   "cell_type": "code",
   "execution_count": 36,
   "metadata": {
    "id": "ldrA_B6wcpK5"
   },
   "outputs": [],
   "source": [
    "training_padded = np.array(training_padded)\n",
    "training_labels = np.array(training_labels)\n",
    "testing_padded = np.array(testing_padded)\n",
    "testing_labels = np.array(testing_labels)"
   ]
  },
  {
   "cell_type": "markdown",
   "metadata": {},
   "source": [
    "## 3. NN - MLP"
   ]
  },
  {
   "cell_type": "code",
   "execution_count": 37,
   "metadata": {
    "colab": {
     "base_uri": "https://localhost:8080/",
     "height": 221
    },
    "executionInfo": {
     "elapsed": 227,
     "status": "error",
     "timestamp": 1728243388253,
     "user": {
      "displayName": "Enrique Gonzalez",
      "userId": "11537615501324889345"
     },
     "user_tz": 360
    },
    "id": "a1bpcYVvXvCs",
    "outputId": "f7973572-a310-43f9-8ead-995874440f3c"
   },
   "outputs": [],
   "source": [
    "# NN MLP classifier\n",
    "# Neural Networks TF architecture\n",
    "dropout_rate = 0.25\n",
    "model = Sequential([\n",
    "                    Embedding(vocab_size, embedding_dim, input_length=max_length),\n",
    "                    GlobalAveragePooling1D(),\n",
    "                    Dense(3, activation='relu'),\n",
    "                    Dropout(dropout_rate),\n",
    "                    Dense(1, activation='sigmoid')\n",
    "                    ])\n",
    "\n",
    "opt = 'adam'\n",
    "loss_fun = 'binary_crossentropy'\n",
    "acc = ['accuracy']\n",
    "\n",
    "model.compile(\n",
    "    optimizer = opt,\n",
    "    loss = loss_fun,\n",
    "    metrics = acc\n",
    "    )"
   ]
  },
  {
   "cell_type": "code",
   "execution_count": 38,
   "metadata": {
    "colab": {
     "base_uri": "https://localhost:8080/",
     "height": 281
    },
    "executionInfo": {
     "elapsed": 17,
     "status": "ok",
     "timestamp": 1727450934926,
     "user": {
      "displayName": "Enrique Gonzalez",
      "userId": "11537615501324889345"
     },
     "user_tz": 360
    },
    "id": "0g5-aVfWXzbH",
    "outputId": "43e1519b-a309-43a7-84e7-037a84e2ed1a"
   },
   "outputs": [
    {
     "name": "stdout",
     "output_type": "stream",
     "text": [
      "Model: \"sequential_1\"\n",
      "_________________________________________________________________\n",
      " Layer (type)                Output Shape              Param #   \n",
      "=================================================================\n",
      " embedding_1 (Embedding)     (None, 100, 16)           160000    \n",
      "                                                                 \n",
      " global_average_pooling1d_1   (None, 16)               0         \n",
      " (GlobalAveragePooling1D)                                        \n",
      "                                                                 \n",
      " dense_2 (Dense)             (None, 3)                 51        \n",
      "                                                                 \n",
      " dropout_1 (Dropout)         (None, 3)                 0         \n",
      "                                                                 \n",
      " dense_3 (Dense)             (None, 1)                 4         \n",
      "                                                                 \n",
      "=================================================================\n",
      "Total params: 160,055\n",
      "Trainable params: 160,055\n",
      "Non-trainable params: 0\n",
      "_________________________________________________________________\n"
     ]
    }
   ],
   "source": [
    "model.summary()"
   ]
  },
  {
   "cell_type": "code",
   "execution_count": 39,
   "metadata": {
    "colab": {
     "base_uri": "https://localhost:8080/"
    },
    "executionInfo": {
     "elapsed": 33229,
     "status": "ok",
     "timestamp": 1727450968140,
     "user": {
      "displayName": "Enrique Gonzalez",
      "userId": "11537615501324889345"
     },
     "user_tz": 360
    },
    "id": "-eOvPGnmdUO9",
    "outputId": "470639c1-c26c-4d0c-cc0e-1f7c3d690ec4"
   },
   "outputs": [
    {
     "name": "stdout",
     "output_type": "stream",
     "text": [
      "Epoch 1/30\n",
      "1316/1316 - 6s - loss: 0.4703 - accuracy: 0.7959 - val_loss: 0.3025 - val_accuracy: 0.8853 - 6s/epoch - 4ms/step\n",
      "Epoch 2/30\n",
      "1316/1316 - 4s - loss: 0.2813 - accuracy: 0.8758 - val_loss: 0.1946 - val_accuracy: 0.9388 - 4s/epoch - 3ms/step\n",
      "Epoch 3/30\n",
      "1316/1316 - 4s - loss: 0.2243 - accuracy: 0.8939 - val_loss: 0.1619 - val_accuracy: 0.9433 - 4s/epoch - 3ms/step\n",
      "Epoch 4/30\n",
      "1316/1316 - 6s - loss: 0.2024 - accuracy: 0.9041 - val_loss: 0.1507 - val_accuracy: 0.9472 - 6s/epoch - 4ms/step\n",
      "Epoch 5/30\n",
      "1316/1316 - 6s - loss: 0.1863 - accuracy: 0.9076 - val_loss: 0.1396 - val_accuracy: 0.9550 - 6s/epoch - 4ms/step\n",
      "Epoch 6/30\n",
      "1316/1316 - 4s - loss: 0.1757 - accuracy: 0.9101 - val_loss: 0.1322 - val_accuracy: 0.9567 - 4s/epoch - 3ms/step\n",
      "Epoch 7/30\n",
      "1316/1316 - 5s - loss: 0.1696 - accuracy: 0.9097 - val_loss: 0.1308 - val_accuracy: 0.9566 - 5s/epoch - 4ms/step\n",
      "Epoch 8/30\n",
      "1316/1316 - 6s - loss: 0.1601 - accuracy: 0.9220 - val_loss: 0.1269 - val_accuracy: 0.9582 - 6s/epoch - 5ms/step\n",
      "Epoch 9/30\n",
      "1316/1316 - 4s - loss: 0.1576 - accuracy: 0.9240 - val_loss: 0.1224 - val_accuracy: 0.9594 - 4s/epoch - 3ms/step\n",
      "Epoch 10/30\n",
      "1316/1316 - 9s - loss: 0.1511 - accuracy: 0.9250 - val_loss: 0.1218 - val_accuracy: 0.9612 - 9s/epoch - 7ms/step\n",
      "Epoch 11/30\n",
      "1316/1316 - 20s - loss: 0.1456 - accuracy: 0.9291 - val_loss: 0.1209 - val_accuracy: 0.9625 - 20s/epoch - 15ms/step\n",
      "Epoch 12/30\n",
      "1316/1316 - 15s - loss: 0.1437 - accuracy: 0.9281 - val_loss: 0.1205 - val_accuracy: 0.9622 - 15s/epoch - 11ms/step\n",
      "Epoch 13/30\n",
      "1316/1316 - 4s - loss: 0.1409 - accuracy: 0.9270 - val_loss: 0.1219 - val_accuracy: 0.9618 - 4s/epoch - 3ms/step\n",
      "Epoch 14/30\n",
      "1316/1316 - 4s - loss: 0.1371 - accuracy: 0.9300 - val_loss: 0.1215 - val_accuracy: 0.9627 - 4s/epoch - 3ms/step\n",
      "Epoch 15/30\n",
      "1316/1316 - 5s - loss: 0.1346 - accuracy: 0.9318 - val_loss: 0.1246 - val_accuracy: 0.9627 - 5s/epoch - 3ms/step\n",
      "Epoch 16/30\n",
      "1316/1316 - 6s - loss: 0.1277 - accuracy: 0.9350 - val_loss: 0.1268 - val_accuracy: 0.9612 - 6s/epoch - 4ms/step\n",
      "Epoch 17/30\n",
      "1316/1316 - 5s - loss: 0.1295 - accuracy: 0.9336 - val_loss: 0.1286 - val_accuracy: 0.9624 - 5s/epoch - 4ms/step\n",
      "Epoch 18/30\n",
      "1316/1316 - 5s - loss: 0.1270 - accuracy: 0.9334 - val_loss: 0.1298 - val_accuracy: 0.9624 - 5s/epoch - 4ms/step\n",
      "Epoch 19/30\n",
      "1316/1316 - 5s - loss: 0.1256 - accuracy: 0.9338 - val_loss: 0.1405 - val_accuracy: 0.9592 - 5s/epoch - 4ms/step\n",
      "Epoch 20/30\n",
      "1316/1316 - 5s - loss: 0.1218 - accuracy: 0.9358 - val_loss: 0.1346 - val_accuracy: 0.9635 - 5s/epoch - 4ms/step\n",
      "Epoch 21/30\n",
      "1316/1316 - 5s - loss: 0.1227 - accuracy: 0.9356 - val_loss: 0.1378 - val_accuracy: 0.9625 - 5s/epoch - 4ms/step\n",
      "Epoch 22/30\n",
      "1316/1316 - 5s - loss: 0.1220 - accuracy: 0.9332 - val_loss: 0.1495 - val_accuracy: 0.9601 - 5s/epoch - 4ms/step\n",
      "Epoch 23/30\n",
      "1316/1316 - 5s - loss: 0.1212 - accuracy: 0.9348 - val_loss: 0.1413 - val_accuracy: 0.9630 - 5s/epoch - 4ms/step\n",
      "Epoch 24/30\n",
      "1316/1316 - 5s - loss: 0.1193 - accuracy: 0.9360 - val_loss: 0.1413 - val_accuracy: 0.9625 - 5s/epoch - 4ms/step\n",
      "Epoch 25/30\n",
      "1316/1316 - 4s - loss: 0.1178 - accuracy: 0.9361 - val_loss: 0.1498 - val_accuracy: 0.9612 - 4s/epoch - 3ms/step\n",
      "Epoch 26/30\n",
      "1316/1316 - 4s - loss: 0.1184 - accuracy: 0.9348 - val_loss: 0.1515 - val_accuracy: 0.9621 - 4s/epoch - 3ms/step\n",
      "Epoch 27/30\n",
      "1316/1316 - 4s - loss: 0.1156 - accuracy: 0.9357 - val_loss: 0.1595 - val_accuracy: 0.9570 - 4s/epoch - 3ms/step\n",
      "Epoch 28/30\n",
      "1316/1316 - 4s - loss: 0.1148 - accuracy: 0.9381 - val_loss: 0.1641 - val_accuracy: 0.9580 - 4s/epoch - 3ms/step\n",
      "Epoch 29/30\n",
      "1316/1316 - 6s - loss: 0.1138 - accuracy: 0.9363 - val_loss: 0.1568 - val_accuracy: 0.9620 - 6s/epoch - 4ms/step\n",
      "Epoch 30/30\n",
      "1316/1316 - 6s - loss: 0.1146 - accuracy: 0.9370 - val_loss: 0.1570 - val_accuracy: 0.9618 - 6s/epoch - 5ms/step\n"
     ]
    }
   ],
   "source": [
    "num_epochs = 30\n",
    "history = model.fit(training_padded,\n",
    "                    training_labels,\n",
    "                    validation_split=0.4,\n",
    "                    epochs=num_epochs,\n",
    "                    verbose=2)"
   ]
  },
  {
   "cell_type": "code",
   "execution_count": 40,
   "metadata": {
    "colab": {
     "base_uri": "https://localhost:8080/",
     "height": 221
    },
    "executionInfo": {
     "elapsed": 9106,
     "status": "error",
     "timestamp": 1728243772792,
     "user": {
      "displayName": "Enrique Gonzalez",
      "userId": "11537615501324889345"
     },
     "user_tz": 360
    },
    "id": "dhzxczppevnX",
    "outputId": "f493b340-9b0f-4fb4-f1af-89bac977c86c"
   },
   "outputs": [
    {
     "data": {
      "image/png": "[encoded data removed]",
      "text/plain": [
       "<Figure size 640x480 with 2 Axes>"
      ]
     },
     "metadata": {},
     "output_type": "display_data"
    }
   ],
   "source": [
    "fig = plt.figure()\n",
    "fig.add_subplot(121)\n",
    "plt.plot(history.history['loss'])\n",
    "plt.plot(history.history['val_loss'])\n",
    "plt.title(\"Loss vs Epochs\")\n",
    "plt.ylabel('Loss')\n",
    "plt.xlabel('Epoch')\n",
    "plt.legend(['Training', 'Validation'], loc='upper right')\n",
    "\n",
    "fig.add_subplot(122)\n",
    "plt.plot(history.history['accuracy'])\n",
    "plt.plot(history.history['val_accuracy'])\n",
    "plt.title(\"Accuracy vs Epochs\")\n",
    "plt.ylabel('Accuracy')\n",
    "plt.xlabel('Epoch')\n",
    "plt.legend(['Training', 'Validation'], loc='upper right')\n",
    "plt.show()"
   ]
  },
  {
   "cell_type": "markdown",
   "metadata": {},
   "source": [
    "## 4. Metrics"
   ]
  },
  {
   "cell_type": "code",
   "execution_count": 41,
   "metadata": {
    "colab": {
     "base_uri": "https://localhost:8080/"
    },
    "executionInfo": {
     "elapsed": 1375,
     "status": "ok",
     "timestamp": 1727451943782,
     "user": {
      "displayName": "Enrique Gonzalez",
      "userId": "11537615501324889345"
     },
     "user_tz": 360
    },
    "id": "8cD3FbbCkMez",
    "outputId": "ac14d157-4e1b-41b4-f0c5-9839202111d9"
   },
   "outputs": [
    {
     "name": "stdout",
     "output_type": "stream",
     "text": [
      "2193/2193 - 3s - loss: 0.0865 - accuracy: 0.9755 - 3s/epoch - 1ms/step\n",
      "[0.08651763945817947, 0.9754703640937805]\n",
      "\n",
      "\n",
      "2193/2193 [==============================] - 6s 3ms/step\n",
      "       pred  real\n",
      "0       1.0     1\n",
      "1       1.0     1\n",
      "2       0.0     0\n",
      "3       1.0     1\n",
      "4       1.0     1\n",
      "...     ...   ...\n",
      "70155   1.0     1\n",
      "70156   1.0     1\n",
      "70157   0.0     0\n",
      "70158   1.0     1\n",
      "70159   0.0     0\n",
      "\n",
      "[70160 rows x 2 columns]\n",
      "731/731 - 1s - loss: 0.1518 - accuracy: 0.9628 - 1s/epoch - 2ms/step\n",
      "[0.15179790556430817, 0.962842583656311]\n",
      "\n",
      "\n",
      "731/731 [==============================] - 1s 1ms/step\n",
      "       pred  real\n",
      "0       1.0     1\n",
      "1       0.0     0\n",
      "2       1.0     1\n",
      "3       1.0     1\n",
      "4       1.0     1\n",
      "...     ...   ...\n",
      "23382   1.0     1\n",
      "23383   0.0     0\n",
      "23384   1.0     1\n",
      "23385   1.0     1\n",
      "23386   1.0     1\n",
      "\n",
      "[23387 rows x 2 columns]\n"
     ]
    }
   ],
   "source": [
    "print(model.evaluate(training_padded, training_labels, verbose=2))\n",
    "print(\"\\n\")\n",
    "\n",
    "#### predict train data ######\n",
    "df_train = pd.DataFrame()\n",
    "df_train['pred'] = model.predict(training_padded).reshape(1,len(training_padded))[0]\n",
    "df_train['real'] = training_labels\n",
    "print(round(df_train))\n",
    "print(model.evaluate(testing_padded,testing_labels, verbose=2))\n",
    "print(\"\\n\")\n",
    "\n",
    "# test data\n",
    "df_test = pd.DataFrame()\n",
    "df_test['pred'] = model.predict(testing_padded).reshape(1,len(testing_padded))[0]\n",
    "df_test['real'] = testing_labels\n",
    "print(round(df_test))\n"
   ]
  }
 ],
 "metadata": {
  "colab": {
   "authorship_tag": "ABX9TyM5Az2gpaJzxa4BFpH8eotv",
   "provenance": []
  },
  "kernelspec": {
   "display_name": "base",
   "language": "python",
   "name": "python3"
  },
  "language_info": {
   "codemirror_mode": {
    "name": "ipython",
    "version": 3
   },
   "file_extension": ".py",
   "mimetype": "text/x-python",
   "name": "python",
   "nbconvert_exporter": "python",
   "pygments_lexer": "ipython3",
   "version": "3.10.11"
  }
 },
 "nbformat": 4,
 "nbformat_minor": 0
}
