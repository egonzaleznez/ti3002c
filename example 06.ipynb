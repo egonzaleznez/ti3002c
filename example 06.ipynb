{
 "cells": [
  {
   "cell_type": "markdown",
   "metadata": {},
   "source": [
    "# IA PARA CIENCIA DE DATOS"
   ]
  },
  {
   "cell_type": "markdown",
   "metadata": {},
   "source": [
    "## Contenido\n",
    "\n",
    "1. Packaging\n",
    "1. Read file and load data\n",
    "1. ML methods\n",
    "1. Metrics"
   ]
  },
  {
   "cell_type": "markdown",
   "metadata": {},
   "source": [
    "## 1. Packaging"
   ]
  },
  {
   "cell_type": "code",
   "execution_count": 1,
   "metadata": {
    "executionInfo": {
     "elapsed": 2524,
     "status": "ok",
     "timestamp": 1744055022271,
     "user": {
      "displayName": "Enrique Gonzalez",
      "userId": "11537615501324889345"
     },
     "user_tz": 360
    },
    "id": "5kDUJLoi96bn"
   },
   "outputs": [],
   "source": [
    "# Core libraries\n",
    "import warnings\n",
    "warnings.filterwarnings(\"ignore\")\n",
    "import numpy as np # to use numpy arrays instead of lists\n",
    "import pandas as pd # DataFrame (table)\n",
    "\n",
    "# Matplotlib and seaborn for charting\n",
    "import matplotlib.pyplot as plt # to plot\n",
    "import seaborn as sns # to plot"
   ]
  },
  {
   "cell_type": "code",
   "execution_count": 2,
   "metadata": {
    "executionInfo": {
     "elapsed": 5283,
     "status": "ok",
     "timestamp": 1744055029264,
     "user": {
      "displayName": "Enrique Gonzalez",
      "userId": "11537615501324889345"
     },
     "user_tz": 360
    },
    "id": "z6YKaJt59Icf"
   },
   "outputs": [],
   "source": [
    "# sklearn for ML\n",
    "from sklearn.tree import DecisionTreeRegressor\n",
    "from sklearn.ensemble import RandomForestRegressor\n",
    "from sklearn import svm\n",
    "from sklearn.neural_network import MLPRegressor\n",
    "\n",
    "# Sklearn regression model evaluation metrics\n",
    "from sklearn.metrics import mean_absolute_error\n",
    "from sklearn.metrics import mean_squared_error\n",
    "from sklearn.metrics import mean_absolute_percentage_error\n",
    "from sklearn.metrics import r2_score"
   ]
  },
  {
   "cell_type": "code",
   "execution_count": 3,
   "metadata": {},
   "outputs": [],
   "source": [
    "# Custom analysis modules\n",
    "from analysis_modules import *"
   ]
  },
  {
   "cell_type": "markdown",
   "metadata": {},
   "source": [
    "## 2. Read file and load data"
   ]
  },
  {
   "cell_type": "markdown",
   "metadata": {},
   "source": [
    "### 2.1 Read file"
   ]
  },
  {
   "cell_type": "code",
   "execution_count": 4,
   "metadata": {},
   "outputs": [],
   "source": [
    "# Load data\n",
    "data_file = \"BMW sales data (2010-2024.csv\"\n",
    "datos = pd.read_csv(data_file, header=0)"
   ]
  },
  {
   "cell_type": "code",
   "execution_count": 5,
   "metadata": {
    "colab": {
     "base_uri": "https://localhost:8080/"
    },
    "executionInfo": {
     "elapsed": 1780,
     "status": "ok",
     "timestamp": 1744055032965,
     "user": {
      "displayName": "Enrique Gonzalez",
      "userId": "11537615501324889345"
     },
     "user_tz": 360
    },
    "id": "0XdkHyAN9nMM",
    "outputId": "00726c52-a727-42ae-a810-064e611d9a50"
   },
   "outputs": [
    {
     "name": "stdout",
     "output_type": "stream",
     "text": [
      "      Model  Year         Region  Color Fuel_Type Transmission  Engine_Size_L  \\\n",
      "0  5 Series  2016           Asia    Red    Petrol       Manual            3.5   \n",
      "1        i8  2013  North America    Red    Hybrid    Automatic            1.6   \n",
      "2  5 Series  2022  North America   Blue    Petrol    Automatic            4.5   \n",
      "3        X3  2024    Middle East   Blue    Petrol    Automatic            1.7   \n",
      "4  7 Series  2020  South America  Black    Diesel       Manual            2.1   \n",
      "\n",
      "   Mileage_KM  Price_USD  Sales_Volume Sales_Classification  \n",
      "0      151748      98740          8300                 High  \n",
      "1      121671      79219          3428                  Low  \n",
      "2       10991     113265          6994                  Low  \n",
      "3       27255      60971          4047                  Low  \n",
      "4      122131      49898          3080                  Low  \n",
      "\n",
      "\n",
      "<class 'pandas.core.frame.DataFrame'>\n",
      "RangeIndex: 50000 entries, 0 to 49999\n",
      "Data columns (total 11 columns):\n",
      " #   Column                Non-Null Count  Dtype  \n",
      "---  ------                --------------  -----  \n",
      " 0   Model                 50000 non-null  object \n",
      " 1   Year                  50000 non-null  int64  \n",
      " 2   Region                50000 non-null  object \n",
      " 3   Color                 50000 non-null  object \n",
      " 4   Fuel_Type             50000 non-null  object \n",
      " 5   Transmission          50000 non-null  object \n",
      " 6   Engine_Size_L         50000 non-null  float64\n",
      " 7   Mileage_KM            50000 non-null  int64  \n",
      " 8   Price_USD             50000 non-null  int64  \n",
      " 9   Sales_Volume          50000 non-null  int64  \n",
      " 10  Sales_Classification  50000 non-null  object \n",
      "dtypes: float64(1), int64(4), object(6)\n",
      "memory usage: 4.2+ MB\n",
      "None\n",
      "\n",
      "\n",
      "               Year  Engine_Size_L     Mileage_KM      Price_USD  Sales_Volume\n",
      "count  50000.000000   50000.000000   50000.000000   50000.000000  50000.000000\n",
      "mean    2017.015700       3.247180  100307.203140   75034.600900   5067.514680\n",
      "std        4.324459       1.009078   57941.509344   25998.248882   2856.767125\n",
      "min     2010.000000       1.500000       3.000000   30000.000000    100.000000\n",
      "25%     2013.000000       2.400000   50178.000000   52434.750000   2588.000000\n",
      "50%     2017.000000       3.200000  100388.500000   75011.500000   5087.000000\n",
      "75%     2021.000000       4.100000  150630.250000   97628.250000   7537.250000\n",
      "max     2024.000000       5.000000  199996.000000  119998.000000   9999.000000\n",
      "\n",
      "\n",
      "Model                      11\n",
      "Year                       15\n",
      "Region                      6\n",
      "Color                       6\n",
      "Fuel_Type                   4\n",
      "Transmission                2\n",
      "Engine_Size_L              36\n",
      "Mileage_KM              44347\n",
      "Price_USD               38246\n",
      "Sales_Volume             9845\n",
      "Sales_Classification        2\n",
      "dtype: int64\n",
      "\n",
      "\n"
     ]
    }
   ],
   "source": [
    "# View data information\n",
    "describeData(datos)"
   ]
  },
  {
   "cell_type": "code",
   "execution_count": null,
   "metadata": {},
   "outputs": [],
   "source": [
    "newDataset = datos[datos['Region'] == 'North America']\n",
    "print(newDataset)"
   ]
  },
  {
   "cell_type": "markdown",
   "metadata": {},
   "source": [
    "### 2.2 Preprocessing"
   ]
  },
  {
   "cell_type": "code",
   "execution_count": 6,
   "metadata": {
    "colab": {
     "base_uri": "https://localhost:8080/"
    },
    "executionInfo": {
     "elapsed": 7718,
     "status": "ok",
     "timestamp": 1744055046462,
     "user": {
      "displayName": "Enrique Gonzalez",
      "userId": "11537615501324889345"
     },
     "user_tz": 360
    },
    "id": "O8Zp1DIA-TPp",
    "outputId": "bfb6a0af-357e-41aa-f49c-3b0c49cf3460"
   },
   "outputs": [
    {
     "name": "stdout",
     "output_type": "stream",
     "text": [
      "       Year  Engine_Size_L  Mileage_KM  Price_USD  Sales_Volume  Transmission  \\\n",
      "0  0.428571       0.571429    0.758752   0.763795      0.828367           0.0   \n",
      "1  0.214286       0.028571    0.608361   0.546890      0.336196           1.0   \n",
      "2  0.857143       0.857143    0.054942   0.925187      0.696434           1.0   \n",
      "3  1.000000       0.057143    0.136265   0.344130      0.398727           1.0   \n",
      "4  0.714286       0.171429    0.610661   0.221094      0.301041           0.0   \n",
      "\n",
      "   Fuel_Type  \n",
      "0   0.000000  \n",
      "1   0.333333  \n",
      "2   0.000000  \n",
      "3   0.000000  \n",
      "4   0.666667  \n",
      "\n"
     ]
    }
   ],
   "source": [
    "# Preprocess data\n",
    "misDatos = procesarDatos(datos)\n",
    "print(misDatos.head())\n",
    "print()"
   ]
  },
  {
   "cell_type": "markdown",
   "metadata": {},
   "source": [
    "### 2.3 Correlation analysis"
   ]
  },
  {
   "cell_type": "code",
   "execution_count": 7,
   "metadata": {},
   "outputs": [
    {
     "name": "stdout",
     "output_type": "stream",
     "text": [
      "==========================================================\n",
      "                 CORRELATION ANALYSIS\n",
      "----------------------------------------------------------\n",
      "                   Year  Engine_Size_L  Mileage_KM  Price_USD  Sales_Volume  \\\n",
      "Year           1.000000      -0.001944    0.008741   0.003547      0.001671   \n",
      "Engine_Size_L -0.001944       1.000000   -0.004906   0.000146     -0.003942   \n",
      "Mileage_KM     0.008741      -0.004906    1.000000  -0.004238      0.001434   \n",
      "Price_USD      0.003547       0.000146   -0.004238   1.000000      0.000080   \n",
      "Sales_Volume   0.001671      -0.003942    0.001434   0.000080      1.000000   \n",
      "Transmission  -0.005116      -0.001357    0.013476   0.005230      0.001487   \n",
      "Fuel_Type     -0.000393      -0.006574    0.006080   0.004910      0.002588   \n",
      "\n",
      "               Transmission  Fuel_Type  \n",
      "Year              -0.005116  -0.000393  \n",
      "Engine_Size_L     -0.001357  -0.006574  \n",
      "Mileage_KM         0.013476   0.006080  \n",
      "Price_USD          0.005230   0.004910  \n",
      "Sales_Volume       0.001487   0.002588  \n",
      "Transmission       1.000000   0.004272  \n",
      "Fuel_Type          0.004272   1.000000  \n",
      "\n",
      "\n"
     ]
    },
    {
     "data": {
      "image/png": "[encoded data removed]",
      "text/plain": [
       "<Figure size 640x480 with 2 Axes>"
      ]
     },
     "metadata": {},
     "output_type": "display_data"
    }
   ],
   "source": [
    "# compute correlation\n",
    "computeCorr(misDatos)"
   ]
  },
  {
   "cell_type": "markdown",
   "metadata": {},
   "source": [
    "### 2.4 Split Data"
   ]
  },
  {
   "cell_type": "code",
   "execution_count": 8,
   "metadata": {},
   "outputs": [],
   "source": [
    "# --------------------\n",
    "# split data\n",
    "def splitDataSet(dataSet=0, test_size=.2, randSplit=True):\n",
    "    \"\"\"\n",
    "    Split data in train and test sets\n",
    "    \"\"\"\n",
    "\n",
    "    train, test = train_test_split(dataSet, test_size=test_size, shuffle=randSplit, random_state=0)\n",
    "\n",
    "    return [train, test]"
   ]
  },
  {
   "cell_type": "code",
   "execution_count": 132,
   "metadata": {
    "colab": {
     "base_uri": "https://localhost:8080/"
    },
    "executionInfo": {
     "elapsed": 6,
     "status": "ok",
     "timestamp": 1744055054411,
     "user": {
      "displayName": "Enrique Gonzalez",
      "userId": "11537615501324889345"
     },
     "user_tz": 360
    },
    "id": "8yItOEeb9nXd",
    "outputId": "bff351a6-53de-4997-d3d4-ee42d4e7cc22"
   },
   "outputs": [
    {
     "name": "stdout",
     "output_type": "stream",
     "text": [
      "Train set\n",
      "           Year  Engine_Size_L  Mileage_KM  Price_USD  Sales_Volume  \\\n",
      "17967  0.642857       0.171429    0.891541   0.034523      0.423881   \n",
      "32391  0.214286       0.000000    0.643863   0.587546      0.529245   \n",
      "9341   0.928571       0.571429    0.973364   0.489266      0.921406   \n",
      "7929   0.785714       0.942857    0.096698   0.524478      0.722901   \n",
      "46544  0.500000       0.742857    0.712880   0.484533      0.717244   \n",
      "\n",
      "       Transmission  Fuel_Type  \n",
      "17967           0.0   0.000000  \n",
      "32391           1.0   0.000000  \n",
      "9341            1.0   0.666667  \n",
      "7929            0.0   0.333333  \n",
      "46544           1.0   0.000000  \n",
      "\n",
      "trainSet shape:  (35000, 7)\n",
      "\n",
      "Test set\n",
      "           Year  Engine_Size_L  Mileage_KM  Price_USD  Sales_Volume  \\\n",
      "11841  0.500000       0.314286    0.541354   0.876853      0.859279   \n",
      "19602  0.857143       0.542857    0.393039   0.746294      0.506718   \n",
      "45519  0.857143       0.457143    0.410474   0.389009      0.453379   \n",
      "25747  0.928571       0.942857    0.880066   0.949532      0.998889   \n",
      "42642  0.500000       0.771429    0.471792   0.913576      0.944540   \n",
      "\n",
      "       Transmission  Fuel_Type  \n",
      "11841           1.0   0.666667  \n",
      "19602           1.0   0.000000  \n",
      "45519           1.0   1.000000  \n",
      "25747           1.0   0.000000  \n",
      "42642           0.0   1.000000  \n",
      "\n",
      "testSet shape:  (15000, 7)\n",
      "\n"
     ]
    }
   ],
   "source": [
    "# Split data into training and test sets\n",
    "ts_size = .3\n",
    "[trainSet, testSet] = splitDataSet(misDatos, test_size=ts_size, randSplit=True)\n",
    "print(\"Train set\")\n",
    "print(trainSet.head())\n",
    "print()\n",
    "print('trainSet shape: ', trainSet.shape)\n",
    "print()\n",
    "\n",
    "print(\"Test set\")\n",
    "print(testSet.head())\n",
    "print()\n",
    "print('testSet shape: ', testSet.shape)\n",
    "print()"
   ]
  },
  {
   "cell_type": "markdown",
   "metadata": {},
   "source": [
    "## 3. ML methods"
   ]
  },
  {
   "cell_type": "code",
   "execution_count": null,
   "metadata": {},
   "outputs": [
    {
     "name": "stdout",
     "output_type": "stream",
     "text": [
      "xVar:  ['Fuel_Type']\n",
      "yVar:  Price_USD\n",
      "\n",
      "       Price_USD\n",
      "17967   0.034523\n",
      "32391   0.587546\n",
      "9341    0.489266\n",
      "7929    0.524478\n",
      "46544   0.484533\n",
      "\n",
      "       Price_USD\n",
      "11841   0.876853\n",
      "19602   0.746294\n",
      "45519   0.389009\n",
      "25747   0.949532\n",
      "42642   0.913576\n"
     ]
    }
   ],
   "source": [
    "# Create dataframes for training and test sets\n",
    "# with the target variables only\n",
    "yVar = 'Price_USD'\n",
    "xVar = list(misDatos.columns)\n",
    "xVar.remove(yVar)\n",
    "xVar = ['Year', 'Mileage_km']\n",
    "print(\"xVar: \", xVar)\n",
    "print(\"yVar: \", yVar)\n",
    "print()\n",
    "\n",
    "trainModel = pd.DataFrame()\n",
    "testModel = pd.DataFrame()\n",
    "trainModel[yVar] = trainSet[yVar]\n",
    "testModel[yVar] = testSet[yVar]\n",
    "print(trainModel.head())\n",
    "print()\n",
    "print(testModel.head())"
   ]
  },
  {
   "cell_type": "code",
   "execution_count": 107,
   "metadata": {},
   "outputs": [
    {
     "name": "stdout",
     "output_type": "stream",
     "text": [
      "columnsName:  ['DT Price_USD']\n"
     ]
    }
   ],
   "source": [
    "model_name = 'DT'\n",
    "columnsName = [model_name + ' ' + yVar]\n",
    "print(\"columnsName: \", columnsName)"
   ]
  },
  {
   "cell_type": "code",
   "execution_count": 173,
   "metadata": {
    "colab": {
     "base_uri": "https://localhost:8080/"
    },
    "executionInfo": {
     "elapsed": 385,
     "status": "ok",
     "timestamp": 1744055065813,
     "user": {
      "displayName": "Enrique Gonzalez",
      "userId": "11537615501324889345"
     },
     "user_tz": 360
    },
    "id": "b7oQjOr-VdN4",
    "outputId": "1b6cbbe9-5e8c-4203-84ab-b5758edb95fa"
   },
   "outputs": [
    {
     "name": "stdout",
     "output_type": "stream",
     "text": [
      "Estimated Parameters:\n",
      "Max depth of trees (max_depth): 3\n",
      "Number of leaves (n_leaves): 4\n",
      "\n",
      "\n",
      "       Price_USD  DT Price_USD\n",
      "17967   0.034523      0.499143\n",
      "32391   0.587546      0.499143\n",
      "9341    0.489266      0.497056\n",
      "7929    0.524478      0.498623\n",
      "46544   0.484533      0.499143\n",
      "...          ...           ...\n",
      "21243   0.645470      0.499143\n",
      "45891   0.513356      0.501826\n",
      "42613   0.829518      0.497056\n",
      "43567   0.500322      0.497056\n",
      "2732    0.304673      0.498623\n",
      "\n",
      "[35000 rows x 2 columns]\n",
      "\n",
      "       Price_USD  DT Price_USD\n",
      "11841   0.876853      0.497056\n",
      "19602   0.746294      0.499143\n",
      "45519   0.389009      0.501826\n",
      "25747   0.949532      0.499143\n",
      "42642   0.913576      0.501826\n",
      "...          ...           ...\n",
      "38344   0.451277      0.501826\n",
      "49984   0.016889      0.497056\n",
      "32624   0.795884      0.497056\n",
      "46437   0.105613      0.498623\n",
      "35070   0.426909      0.501826\n",
      "\n",
      "[15000 rows x 2 columns]\n"
     ]
    }
   ],
   "source": [
    "# Perform regression with DT\n",
    "classifier_dt = DecisionTreeRegressor(max_depth=50,random_state=0)\n",
    "classifier_dt.fit(trainSet[xVar], trainSet[yVar])\n",
    "print(\"Estimated Parameters:\")\n",
    "print(f\"Max depth of trees (max_depth): {classifier_dt.get_depth()}\")\n",
    "print(f\"Number of leaves (n_leaves): {classifier_dt.get_n_leaves()}\")\n",
    "print(\"\\n\")\n",
    "\n",
    "trainModel['DT Price_USD'] =classifier_dt.predict(trainSet[xVar])\n",
    "print(trainModel)\n",
    "print()\n",
    "testModel['DT Price_USD'] = classifier_dt.predict(testSet[xVar])\n",
    "print(testModel)\n"
   ]
  },
  {
   "cell_type": "code",
   "execution_count": 75,
   "metadata": {
    "colab": {
     "base_uri": "https://localhost:8080/"
    },
    "executionInfo": {
     "elapsed": 1647,
     "status": "ok",
     "timestamp": 1744055070409,
     "user": {
      "displayName": "Enrique Gonzalez",
      "userId": "11537615501324889345"
     },
     "user_tz": 360
    },
    "id": "7NgHnlozhTUn",
    "outputId": "5368e1f2-6f3b-4f3f-b0ad-039b769753e9"
   },
   "outputs": [
    {
     "name": "stdout",
     "output_type": "stream",
     "text": [
      "       Price_USD  DT Price_USD  RF Price_USD\n",
      "39758   0.154348      0.154348      0.298183\n",
      "18457   0.363441      0.363441      0.412468\n",
      "33239   0.957510      0.957510      0.842818\n",
      "35006   0.092924      0.092924      0.207213\n",
      "30982   0.041479      0.041479      0.134484\n",
      "...          ...           ...           ...\n",
      "21243   0.645470      0.645470      0.586971\n",
      "45891   0.513356      0.513356      0.546953\n",
      "42613   0.829518      0.829518      0.668837\n",
      "43567   0.500322      0.500322      0.527456\n",
      "2732    0.304673      0.304673      0.379246\n",
      "\n",
      "[37500 rows x 3 columns]\n",
      "\n",
      "       Price_USD  DT Price_USD  RF Price_USD\n",
      "11841   0.876853      0.569390      0.557819\n",
      "19602   0.746294      0.323185      0.553544\n",
      "45519   0.389009      0.132736      0.492935\n",
      "25747   0.949532      0.373242      0.501522\n",
      "42642   0.913576      0.053368      0.431745\n",
      "...          ...           ...           ...\n",
      "15070   0.185737      0.845574      0.526625\n",
      "7477    0.797884      0.067646      0.560621\n",
      "40648   0.937310      0.225527      0.390228\n",
      "30528   0.940754      0.559190      0.388954\n",
      "6930    0.292118      0.732427      0.583553\n",
      "\n",
      "[12500 rows x 3 columns]\n"
     ]
    }
   ],
   "source": [
    "# Perform regression with RF\n",
    "classifier_rf = RandomForestRegressor(random_state=0)\n",
    "classifier_rf.fit(trainSet[xVar], trainSet[yVar])\n",
    "\n",
    "trainModel['RF Price_USD'] = classifier_rf.predict(trainSet[xVar])\n",
    "print(trainModel)\n",
    "print()\n",
    "testModel['RF Price_USD'] = classifier_rf.predict(testSet[xVar])\n",
    "print(testModel)"
   ]
  },
  {
   "cell_type": "code",
   "execution_count": 65,
   "metadata": {},
   "outputs": [
    {
     "name": "stdout",
     "output_type": "stream",
     "text": [
      "       Price_USD  DT Price_USD  RF Price_USD  SVM Price_USD\n",
      "39758   0.154348      0.154348      0.298183       0.514466\n",
      "18457   0.363441      0.363441      0.412468       0.498718\n",
      "33239   0.957510      0.957510      0.842818       0.527710\n",
      "35006   0.092924      0.092924      0.207213       0.446339\n",
      "30982   0.041479      0.041479      0.134484       0.501706\n",
      "...          ...           ...           ...            ...\n",
      "21243   0.645470      0.645470      0.586971       0.535172\n",
      "45891   0.513356      0.513356      0.546953       0.481763\n",
      "42613   0.829518      0.829518      0.668837       0.438922\n",
      "43567   0.500322      0.500322      0.527456       0.464446\n",
      "2732    0.304673      0.304673      0.379246       0.513878\n",
      "\n",
      "[37500 rows x 4 columns]\n",
      "\n",
      "       Price_USD  DT Price_USD  RF Price_USD  SVM Price_USD\n",
      "11841   0.876853      0.569390      0.557819       0.517995\n",
      "19602   0.746294      0.323185      0.553544       0.510055\n",
      "45519   0.389009      0.132736      0.492935       0.519298\n",
      "25747   0.949532      0.373242      0.501522       0.410108\n",
      "42642   0.913576      0.053368      0.431745       0.476935\n",
      "...          ...           ...           ...            ...\n",
      "15070   0.185737      0.845574      0.526625       0.488242\n",
      "7477    0.797884      0.067646      0.560621       0.552574\n",
      "40648   0.937310      0.225527      0.390228       0.485055\n",
      "30528   0.940754      0.559190      0.388954       0.559893\n",
      "6930    0.292118      0.732427      0.583553       0.521243\n",
      "\n",
      "[12500 rows x 4 columns]\n"
     ]
    }
   ],
   "source": [
    "# Perform regression with SVM\n",
    "classifier_svm = svm.SVR()\n",
    "classifier_svm.fit(trainSet[xVar], trainSet[yVar])\n",
    "\n",
    "trainModel['SVM Price_USD'] = classifier_svm.predict(trainSet[xVar])\n",
    "print(trainModel)\n",
    "print()\n",
    "testModel['SVM Price_USD'] = classifier_svm.predict(testSet[xVar])\n",
    "print(testModel)\n"
   ]
  },
  {
   "cell_type": "code",
   "execution_count": 67,
   "metadata": {},
   "outputs": [
    {
     "name": "stdout",
     "output_type": "stream",
     "text": [
      "       Price_USD  DT Price_USD  RF Price_USD  SVM Price_USD  MLP Price_USD\n",
      "39758   0.154348      0.154348      0.298183       0.514466       0.514818\n",
      "18457   0.363441      0.363441      0.412468       0.498718       0.501272\n",
      "33239   0.957510      0.957510      0.842818       0.527710       0.513328\n",
      "35006   0.092924      0.092924      0.207213       0.446339       0.540434\n",
      "30982   0.041479      0.041479      0.134484       0.501706       0.475726\n",
      "...          ...           ...           ...            ...            ...\n",
      "21243   0.645470      0.645470      0.586971       0.535172       0.494854\n",
      "45891   0.513356      0.513356      0.546953       0.481763       0.505839\n",
      "42613   0.829518      0.829518      0.668837       0.438922       0.486159\n",
      "43567   0.500322      0.500322      0.527456       0.464446       0.461648\n",
      "2732    0.304673      0.304673      0.379246       0.513878       0.491775\n",
      "\n",
      "[37500 rows x 5 columns]\n",
      "\n",
      "       Price_USD  DT Price_USD  RF Price_USD  SVM Price_USD  MLP Price_USD\n",
      "11841   0.876853      0.569390      0.557819       0.517995       0.500080\n",
      "19602   0.746294      0.323185      0.553544       0.510055       0.497873\n",
      "45519   0.389009      0.132736      0.492935       0.519298       0.514922\n",
      "25747   0.949532      0.373242      0.501522       0.410108       0.552521\n",
      "42642   0.913576      0.053368      0.431745       0.476935       0.472998\n",
      "...          ...           ...           ...            ...            ...\n",
      "15070   0.185737      0.845574      0.526625       0.488242       0.477496\n",
      "7477    0.797884      0.067646      0.560621       0.552574       0.507690\n",
      "40648   0.937310      0.225527      0.390228       0.485055       0.505944\n",
      "30528   0.940754      0.559190      0.388954       0.559893       0.518748\n",
      "6930    0.292118      0.732427      0.583553       0.521243       0.527601\n",
      "\n",
      "[12500 rows x 5 columns]\n"
     ]
    }
   ],
   "source": [
    "# Perform regression with MLP\n",
    "classifier_mlp = MLPRegressor(hidden_layer_sizes=(100,50), solver='sgd', max_iter=400, random_state=0)\n",
    "classifier_mlp.fit(trainSet[xVar], trainSet[yVar])\n",
    "\n",
    "trainModel['MLP Price_USD'] = classifier_mlp.predict(trainSet[xVar])\n",
    "print(trainModel)\n",
    "print()\n",
    "testModel['MLP Price_USD'] = classifier_mlp.predict(testSet[xVar])\n",
    "print(testModel)"
   ]
  },
  {
   "cell_type": "markdown",
   "metadata": {},
   "source": [
    "## 4. Metrics"
   ]
  },
  {
   "cell_type": "code",
   "execution_count": 174,
   "metadata": {},
   "outputs": [],
   "source": [
    "# Create dataframes to store model performance metrics\n",
    "methodsUsed=['DT', 'RF', 'SVM', 'MLP']\n",
    "performanceHeaders=['MAE', 'MSE', 'RMSE', 'MAPE', 'R2']\n",
    "trainModelMetrics = pd.DataFrame(index=methodsUsed, columns=performanceHeaders)\n",
    "testModelMetrics = pd.DataFrame(index=methodsUsed, columns=performanceHeaders)"
   ]
  },
  {
   "cell_type": "code",
   "execution_count": 79,
   "metadata": {},
   "outputs": [],
   "source": [
    "def calculateMetrics(model_name, position, yVar, trainModel, testModel, trainModelMetrics, testModelMetrics):\n",
    "    columnsNames = [model_name + ' Price_USD']\n",
    "\n",
    "    # --- Train Metrics ---\n",
    "    trainModelMetrics.iloc[position, 0] = round(mean_absolute_error(trainModel[yVar], trainModel[columnsNames]), 2)\n",
    "    trainModelMetrics.iloc[position, 1] = round(mean_squared_error(trainModel[yVar], trainModel[columnsNames]), 2)\n",
    "    trainModelMetrics.iloc[position, 2] = round(np.sqrt(trainModelMetrics.iloc[position, 1]), 2)\n",
    "    trainModelMetrics.iloc[position, 3] = round(mean_absolute_percentage_error(trainModel[yVar], trainModel[columnsNames]), 2)\n",
    "    trainModelMetrics.iloc[position, 4] = round(r2_score(trainModel[yVar], trainModel[columnsNames]), 2)\n",
    "\n",
    "    # --- Test Metrics ---\n",
    "    testModelMetrics.iloc[position, 0] = round(mean_absolute_error(testModel[yVar], testModel[columnsNames]), 2)\n",
    "    testModelMetrics.iloc[position, 1] = round(mean_squared_error(testModel[yVar], testModel[columnsNames]), 2)\n",
    "    testModelMetrics.iloc[position, 2] = round(np.sqrt(testModelMetrics.iloc[position, 1]), 2)\n",
    "    testModelMetrics.iloc[position, 3] = round(mean_absolute_percentage_error(testModel[yVar], testModel[columnsNames]), 2)\n",
    "    testModelMetrics.iloc[position, 4] = round(r2_score(testModel[yVar], testModel[columnsNames]), 2)\n",
    "\n",
    "    return trainModelMetrics, testModelMetrics"
   ]
  },
  {
   "cell_type": "code",
   "execution_count": 175,
   "metadata": {
    "colab": {
     "base_uri": "https://localhost:8080/"
    },
    "executionInfo": {
     "elapsed": 395,
     "status": "ok",
     "timestamp": 1733187557887,
     "user": {
      "displayName": "Enrique Gonzalez",
      "userId": "11537615501324889345"
     },
     "user_tz": 360
    },
    "id": "92W0DTZ9VdRx",
    "outputId": "5b5d0780-a6c4-4c79-ac7e-e531e5786f62"
   },
   "outputs": [],
   "source": [
    "# DT metrics\n",
    "model_name = 'DT'\n",
    "position = 0  # Position for DT in the results DataFrame\n",
    "trainModelMetrics, testModelMetrics = calculateMetrics(model_name, position, yVar, trainModel, testModel, trainModelMetrics, testModelMetrics)\n",
    "\n",
    "# RF metrics\n",
    "model_name = 'RF'\n",
    "position = 1  # Position for RF in the results DataFrame\n",
    "#trainModelMetrics, testModelMetrics = calculateMetrics(model_name, position, yVar, trainModel, testModel, trainModelMetrics, testModelMetrics)\n",
    "\n",
    "# SVM metrics\n",
    "model_name = 'SVM'\n",
    "position = 2  # Position for SVM in the results DataFrame\n",
    "#trainModelMetrics, testModelMetrics = calculateMetrics(model_name, position, yVar, trainModel, testModel, trainModelMetrics, testModelMetrics)\n",
    "\n",
    "# MLP metrics\n",
    "model_name = 'MLP'\n",
    "position = 3  # Position for MLP in the results DataFrame\n",
    "#trainModelMetrics, testModelMetrics = calculateMetrics(model_name, position, yVar, trainModel, testModel, trainModelMetrics, testModelMetrics)"
   ]
  },
  {
   "cell_type": "code",
   "execution_count": 176,
   "metadata": {},
   "outputs": [
    {
     "name": "stdout",
     "output_type": "stream",
     "text": [
      "=======================================================================\n",
      "                      MODEL PERFORMANCE COMPARISON\n",
      "-----------------------------------------------------------------------\n",
      "                      Training\n",
      "-----------------------------------------------------------------------\n",
      "      MAE   MSE  RMSE                MAPE   R2\n",
      "DT   0.25  0.08  0.28  64572081534.900002  0.0\n",
      "RF    NaN   NaN   NaN                 NaN  NaN\n",
      "SVM   NaN   NaN   NaN                 NaN  NaN\n",
      "MLP   NaN   NaN   NaN                 NaN  NaN\n",
      "-----------------------------------------------------------------------\n",
      "                      Testing\n",
      "-----------------------------------------------------------------------\n",
      "      MAE   MSE  RMSE  MAPE   R2\n",
      "DT   0.25  0.08  0.28  5.78 -0.0\n",
      "RF    NaN   NaN   NaN   NaN  NaN\n",
      "SVM   NaN   NaN   NaN   NaN  NaN\n",
      "MLP   NaN   NaN   NaN   NaN  NaN\n",
      "\n",
      "\n"
     ]
    }
   ],
   "source": [
    "print(\"=======================================================================\")\n",
    "print(\"                      MODEL PERFORMANCE COMPARISON\")\n",
    "print(\"-----------------------------------------------------------------------\")\n",
    "print(\"                      Training\")\n",
    "print(\"-----------------------------------------------------------------------\")\n",
    "print(trainModelMetrics)\n",
    "print(\"-----------------------------------------------------------------------\")\n",
    "print(\"                      Testing\")\n",
    "print(\"-----------------------------------------------------------------------\")\n",
    "print(testModelMetrics)\n",
    "print(\"\\n\")"
   ]
  }
 ],
 "metadata": {
  "colab": {
   "authorship_tag": "ABX9TyOQ8RIstmmb0ZSHxZMC1e0H",
   "provenance": []
  },
  "kernelspec": {
   "display_name": "base",
   "language": "python",
   "name": "python3"
  },
  "language_info": {
   "codemirror_mode": {
    "name": "ipython",
    "version": 3
   },
   "file_extension": ".py",
   "mimetype": "text/x-python",
   "name": "python",
   "nbconvert_exporter": "python",
   "pygments_lexer": "ipython3",
   "version": "3.10.11"
  }
 },
 "nbformat": 4,
 "nbformat_minor": 0
}
