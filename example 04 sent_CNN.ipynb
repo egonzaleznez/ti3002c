{
 "cells": [
  {
   "cell_type": "markdown",
   "metadata": {},
   "source": [
    "## 1. Packaging"
   ]
  },
  {
   "cell_type": "code",
   "execution_count": 13,
   "metadata": {},
   "outputs": [],
   "source": [
    "import warnings\n",
    "warnings.filterwarnings(\"ignore\")\n",
    "import numpy as np # to use numpy arrays instead of lists\n",
    "import pandas as pd # DataFrame (table)\n",
    "\n",
    "# Matplotlib and seaborn for charting\n",
    "import matplotlib.pyplot as plt # to plot\n",
    "import seaborn as sns # to plot"
   ]
  },
  {
   "cell_type": "code",
   "execution_count": 14,
   "metadata": {
    "colab": {
     "base_uri": "https://localhost:8080/"
    },
    "executionInfo": {
     "elapsed": 24882,
     "status": "ok",
     "timestamp": 1730740144835,
     "user": {
      "displayName": "Enrique Gonzalez",
      "userId": "11537615501324889345"
     },
     "user_tz": 360
    },
    "id": "0uK9xSy2ITxH",
    "outputId": "fe27327f-7ad7-4c1b-8928-0b9109777506"
   },
   "outputs": [],
   "source": [
    "# Sklearn processing\n",
    "from sklearn.feature_extraction.text import TfidfVectorizer\n",
    "from sklearn.model_selection import train_test_split"
   ]
  },
  {
   "cell_type": "code",
   "execution_count": 15,
   "metadata": {},
   "outputs": [
    {
     "name": "stdout",
     "output_type": "stream",
     "text": [
      "Requirement already satisfied: keras-tuner in /Users/enriquegon/anaconda3/lib/python3.10/site-packages (1.4.7)\n",
      "Requirement already satisfied: keras in /Users/enriquegon/anaconda3/lib/python3.10/site-packages (from keras-tuner) (2.11.0)\n",
      "Requirement already satisfied: requests in /Users/enriquegon/anaconda3/lib/python3.10/site-packages (from keras-tuner) (2.32.3)\n",
      "Requirement already satisfied: packaging in /Users/enriquegon/anaconda3/lib/python3.10/site-packages (from keras-tuner) (24.2)\n",
      "Requirement already satisfied: kt-legacy in /Users/enriquegon/anaconda3/lib/python3.10/site-packages (from keras-tuner) (1.0.5)\n",
      "Requirement already satisfied: idna<4,>=2.5 in /Users/enriquegon/anaconda3/lib/python3.10/site-packages (from requests->keras-tuner) (3.7)\n",
      "Requirement already satisfied: urllib3<3,>=1.21.1 in /Users/enriquegon/anaconda3/lib/python3.10/site-packages (from requests->keras-tuner) (2.3.0)\n",
      "Requirement already satisfied: charset-normalizer<4,>=2 in /Users/enriquegon/anaconda3/lib/python3.10/site-packages (from requests->keras-tuner) (3.3.2)\n",
      "Requirement already satisfied: certifi>=2017.4.17 in /Users/enriquegon/anaconda3/lib/python3.10/site-packages (from requests->keras-tuner) (2025.1.31)\n"
     ]
    }
   ],
   "source": [
    "# TensorFlow and Keras for deep learning\n",
    "import tensorflow as tf\n",
    "from tensorflow.keras.preprocessing.text import Tokenizer\n",
    "from tensorflow.keras.preprocessing.sequence import pad_sequences\n",
    "from tensorflow.keras.models import Sequential\n",
    "from tensorflow.keras.layers import Embedding, Conv1D, AveragePooling1D, MaxPooling1D, Dense, Flatten, Dropout\n",
    "from tensorflow.keras.callbacks import EarlyStopping\n",
    "!pip install keras-tuner # Install keras-tuner\n",
    "import keras_tuner as kt # Now import keras_tuner"
   ]
  },
  {
   "cell_type": "code",
   "execution_count": 16,
   "metadata": {},
   "outputs": [],
   "source": [
    "# Custom analysis modules\n",
    "from analysis_modules import *\n",
    "\n",
    "np.random.seed(0)\n",
    "tf.random.set_seed(0) "
   ]
  },
  {
   "cell_type": "markdown",
   "metadata": {},
   "source": [
    "## 2. Read file and load data"
   ]
  },
  {
   "cell_type": "markdown",
   "metadata": {},
   "source": [
    "### 2.1 Read file"
   ]
  },
  {
   "cell_type": "code",
   "execution_count": 17,
   "metadata": {
    "executionInfo": {
     "elapsed": 6,
     "status": "ok",
     "timestamp": 1730740301805,
     "user": {
      "displayName": "Enrique Gonzalez",
      "userId": "11537615501324889345"
     },
     "user_tz": 360
    },
    "id": "3jaLF45aI0n7"
   },
   "outputs": [],
   "source": [
    "# Load data\n",
    "data_file = \"Amazon_Unlocked_Mobile.csv\"\n",
    "datos = pd.read_csv(data_file, header=0)"
   ]
  },
  {
   "cell_type": "code",
   "execution_count": 18,
   "metadata": {},
   "outputs": [
    {
     "name": "stdout",
     "output_type": "stream",
     "text": [
      "                                        Product Name Brand Name   Price  \\\n",
      "0  \"CLEAR CLEAN ESN\" Sprint EPIC 4G Galaxy SPH-D7...    Samsung  199.99   \n",
      "1  \"CLEAR CLEAN ESN\" Sprint EPIC 4G Galaxy SPH-D7...    Samsung  199.99   \n",
      "2  \"CLEAR CLEAN ESN\" Sprint EPIC 4G Galaxy SPH-D7...    Samsung  199.99   \n",
      "3  \"CLEAR CLEAN ESN\" Sprint EPIC 4G Galaxy SPH-D7...    Samsung  199.99   \n",
      "4  \"CLEAR CLEAN ESN\" Sprint EPIC 4G Galaxy SPH-D7...    Samsung  199.99   \n",
      "\n",
      "   Rating                                            Reviews  Review Votes  \n",
      "0       5  I feel so LUCKY to have found this used (phone...           1.0  \n",
      "1       4  nice phone, nice up grade from my pantach revu...           0.0  \n",
      "2       5                                       Very pleased           0.0  \n",
      "3       4  It works good but it goes slow sometimes but i...           0.0  \n",
      "4       4  Great phone to replace my lost phone. The only...           0.0  \n",
      "\n",
      "\n",
      "<class 'pandas.core.frame.DataFrame'>\n",
      "RangeIndex: 413840 entries, 0 to 413839\n",
      "Data columns (total 6 columns):\n",
      " #   Column        Non-Null Count   Dtype  \n",
      "---  ------        --------------   -----  \n",
      " 0   Product Name  413840 non-null  object \n",
      " 1   Brand Name    348669 non-null  object \n",
      " 2   Price         407907 non-null  float64\n",
      " 3   Rating        413840 non-null  int64  \n",
      " 4   Reviews       413778 non-null  object \n",
      " 5   Review Votes  401544 non-null  float64\n",
      "dtypes: float64(2), int64(1), object(3)\n",
      "memory usage: 18.9+ MB\n",
      "None\n",
      "\n",
      "\n",
      "               Price         Rating   Review Votes\n",
      "count  407907.000000  413840.000000  401544.000000\n",
      "mean      226.867155       3.819578       1.507237\n",
      "std       273.006259       1.548216       9.163853\n",
      "min         1.730000       1.000000       0.000000\n",
      "25%        79.990000       3.000000       0.000000\n",
      "50%       144.710000       5.000000       0.000000\n",
      "75%       269.990000       5.000000       1.000000\n",
      "max      2598.000000       5.000000     645.000000\n",
      "\n",
      "\n",
      "Product Name      4410\n",
      "Brand Name         384\n",
      "Price             1754\n",
      "Rating               5\n",
      "Reviews         162491\n",
      "Review Votes       241\n",
      "dtype: int64\n",
      "\n",
      "\n"
     ]
    }
   ],
   "source": [
    "# View data information\n",
    "describeData(datos)"
   ]
  },
  {
   "cell_type": "markdown",
   "metadata": {},
   "source": [
    "### 2.2 Preprocessing"
   ]
  },
  {
   "cell_type": "code",
   "execution_count": 19,
   "metadata": {
    "executionInfo": {
     "elapsed": 5,
     "status": "ok",
     "timestamp": 1730740301805,
     "user": {
      "displayName": "Enrique Gonzalez",
      "userId": "11537615501324889345"
     },
     "user_tz": 360
    },
    "id": "WgBJ7tscI3rH"
   },
   "outputs": [],
   "source": [
    "def encodeData(dataSet=0):\n",
    "    \"\"\"\n",
    "    Preprocess data\n",
    "    \"\"\"\n",
    "    \n",
    "    # Eliminate null values\n",
    "    dataSet.dropna(inplace=True)\n",
    "    # Work with a sample of 100,000 rows\n",
    "    dataSet = dataSet.iloc[0:100000,:]\n",
    "\n",
    "    # Remove any 'neutral' ratings equal to 3\n",
    "    dataSet = dataSet[dataSet['Rating'] != 3]\n",
    "\n",
    "    # Encode 4s and 5s as 1 (rated positively)\n",
    "    # Encode 1s and 2s as 0 (rated poorly)\n",
    "    dataSet['Clasification'] = np.where(dataSet['Rating'] > 3, 1, 0)\n",
    "\n",
    "    # Keep only relevant columns\n",
    "    columnas = ['Reviews', 'Rating', 'Clasification']\n",
    "    dataSet = dataSet[columnas]\n",
    "\n",
    "    return dataSet"
   ]
  },
  {
   "cell_type": "code",
   "execution_count": 20,
   "metadata": {
    "colab": {
     "base_uri": "https://localhost:8080/"
    },
    "executionInfo": {
     "elapsed": 3458,
     "status": "ok",
     "timestamp": 1730740305259,
     "user": {
      "displayName": "Enrique Gonzalez",
      "userId": "11537615501324889345"
     },
     "user_tz": 360
    },
    "id": "s6pDgDn5I6Im",
    "outputId": "b57e53f2-30dc-40a2-caad-9ef1596ef9e7"
   },
   "outputs": [
    {
     "name": "stdout",
     "output_type": "stream",
     "text": [
      "                                             Reviews  Rating  Clasification\n",
      "0  I feel so LUCKY to have found this used (phone...       5              1\n",
      "1  nice phone, nice up grade from my pantach revu...       4              1\n",
      "2                                       Very pleased       5              1\n",
      "3  It works good but it goes slow sometimes but i...       4              1\n",
      "4  Great phone to replace my lost phone. The only...       4              1\n",
      "\n",
      "Clasification    70037\n",
      "dtype: int64\n",
      "\n"
     ]
    }
   ],
   "source": [
    "# Preprocess data\n",
    "misDatos = encodeData(datos)\n",
    "print(misDatos.head())\n",
    "print()\n",
    "print(misDatos.iloc[:,-1:].sum())\n",
    "print()"
   ]
  },
  {
   "cell_type": "markdown",
   "metadata": {},
   "source": [
    "### 2.3 Split Data"
   ]
  },
  {
   "cell_type": "code",
   "execution_count": 21,
   "metadata": {},
   "outputs": [
    {
     "name": "stdout",
     "output_type": "stream",
     "text": [
      "                                             Reviews  Clasification\n",
      "0  I feel so LUCKY to have found this used (phone...              1\n",
      "1  nice phone, nice up grade from my pantach revu...              1\n",
      "2                                       Very pleased              1\n",
      "3  It works good but it goes slow sometimes but i...              1\n",
      "4  Great phone to replace my lost phone. The only...              1\n"
     ]
    }
   ],
   "source": [
    "columnas = ['Reviews', 'Clasification']\n",
    "misDatos = misDatos[columnas]\n",
    "print(misDatos.head())"
   ]
  },
  {
   "cell_type": "code",
   "execution_count": 22,
   "metadata": {
    "colab": {
     "base_uri": "https://localhost:8080/"
    },
    "executionInfo": {
     "elapsed": 7,
     "status": "ok",
     "timestamp": 1730740305260,
     "user": {
      "displayName": "Enrique Gonzalez",
      "userId": "11537615501324889345"
     },
     "user_tz": 360
    },
    "id": "V0VqMpNMI95R",
    "outputId": "6e392ce9-8720-4d54-f140-249782635684"
   },
   "outputs": [
    {
     "name": "stdout",
     "output_type": "stream",
     "text": [
      "Train set\n",
      "                                                  Reviews  Clasification\n",
      "2267    Great build quality. Almost stock Android. Lit...              1\n",
      "88968                                          excelente!              1\n",
      "94479   Soy de venezuela el producto vino malo, lo man...              0\n",
      "113000                                         Excelente.              1\n",
      "72560                                                good              1\n",
      "\n",
      "trainSet shape:  (70160, 2)\n",
      "\n",
      "Clasification    52501\n",
      "dtype: int64\n",
      "\n",
      "Test set\n",
      "                                                 Reviews  Clasification\n",
      "44794  The selphone is super nice ,my daugter love't ...              1\n",
      "25359  No it did not, you can't hear when you have it...              0\n",
      "59842  The iPhone 6 Plus arrived on-time and in perfe...              1\n",
      "69634  Finally picked one up after a year of contempl...              1\n",
      "19566  I bought this used and it had few noticeable s...              1\n",
      "\n",
      "testSet shape:  (23387, 2)\n",
      "\n",
      "Clasification    17536\n",
      "dtype: int64\n",
      "\n"
     ]
    }
   ],
   "source": [
    "# Extract labels\n",
    "# Convert one-hot encoding to single label\n",
    "y_onehot = misDatos.iloc[:, -1:].to_numpy()\n",
    "y_label = np.argmax(y_onehot, axis=1)\n",
    "\n",
    "# Split data into training and test sets\n",
    "ts_size = .25\n",
    "[trainSet, testSet] = splitDataSet(misDatos, test_size=ts_size, randSplit=True, stratify=y_label)\n",
    "print(\"Train set\")\n",
    "print(trainSet.head())\n",
    "print()\n",
    "print('trainSet shape: ', trainSet.shape)\n",
    "print()\n",
    "print(trainSet.iloc[:,-1:].sum())\n",
    "print()\n",
    "print(\"Test set\")\n",
    "print(testSet.head())\n",
    "print()\n",
    "print('testSet shape: ', testSet.shape)\n",
    "print()\n",
    "print(testSet.iloc[:,-1:].sum())\n",
    "print()"
   ]
  },
  {
   "cell_type": "markdown",
   "metadata": {},
   "source": [
    "### 2.4 Vectorize"
   ]
  },
  {
   "cell_type": "code",
   "execution_count": 23,
   "metadata": {
    "executionInfo": {
     "elapsed": 9,
     "status": "ok",
     "timestamp": 1730740149910,
     "user": {
      "displayName": "Enrique Gonzalez",
      "userId": "11537615501324889345"
     },
     "user_tz": 360
    },
    "id": "ALc4XurdJCnF"
   },
   "outputs": [],
   "source": [
    "vocab_size = 10000\n",
    "embedding_dim = 16\n",
    "max_length = 100\n",
    "trunc_type='post'\n",
    "padding_type='post'\n",
    "oov_tok = \"<OOV>\"\n",
    "\n",
    "training_sentences= trainSet['Reviews']\n",
    "training_labels = trainSet['Clasification']\n",
    "testing_sentences = testSet['Reviews']\n",
    "testing_labels = testSet['Clasification']"
   ]
  },
  {
   "cell_type": "code",
   "execution_count": 24,
   "metadata": {
    "executionInfo": {
     "elapsed": 481,
     "status": "ok",
     "timestamp": 1730740305736,
     "user": {
      "displayName": "Enrique Gonzalez",
      "userId": "11537615501324889345"
     },
     "user_tz": 360
    },
    "id": "dpa7bvMzOpd9"
   },
   "outputs": [],
   "source": [
    "tokenizer = Tokenizer(num_words=vocab_size, oov_token=oov_tok)\n",
    "tokenizer.fit_on_texts(training_sentences)\n",
    "\n",
    "word_index = tokenizer.word_index\n",
    "\n",
    "training_sequences = tokenizer.texts_to_sequences(training_sentences)\n",
    "training_padded = pad_sequences(training_sequences, maxlen=max_length, padding=padding_type, truncating=trunc_type)\n",
    "\n",
    "testing_sequences = tokenizer.texts_to_sequences(testing_sentences)\n",
    "testing_padded = pad_sequences(testing_sequences, maxlen=max_length, padding=padding_type, truncating=trunc_type)"
   ]
  },
  {
   "cell_type": "code",
   "execution_count": 25,
   "metadata": {
    "executionInfo": {
     "elapsed": 5,
     "status": "ok",
     "timestamp": 1730740305736,
     "user": {
      "displayName": "Enrique Gonzalez",
      "userId": "11537615501324889345"
     },
     "user_tz": 360
    },
    "id": "Th3fkV-yJfta"
   },
   "outputs": [],
   "source": [
    "training_padded = np.array(training_padded)\n",
    "training_labels = np.array(training_labels)\n",
    "testing_padded = np.array(testing_padded)\n",
    "testing_labels = np.array(testing_labels)"
   ]
  },
  {
   "cell_type": "markdown",
   "metadata": {},
   "source": [
    "## 3. CNN"
   ]
  },
  {
   "cell_type": "code",
   "execution_count": 26,
   "metadata": {
    "executionInfo": {
     "elapsed": 25,
     "status": "ok",
     "timestamp": 1730740151447,
     "user": {
      "displayName": "Enrique Gonzalez",
      "userId": "11537615501324889345"
     },
     "user_tz": 360
    },
    "id": "XIRrH4bfJjHQ"
   },
   "outputs": [
    {
     "name": "stderr",
     "output_type": "stream",
     "text": [
      "2025-10-08 16:23:26.603991: I tensorflow/core/platform/cpu_feature_guard.cc:193] This TensorFlow binary is optimized with oneAPI Deep Neural Network Library (oneDNN) to use the following CPU instructions in performance-critical operations:  AVX2 FMA\n",
      "To enable them in other operations, rebuild TensorFlow with the appropriate compiler flags.\n"
     ]
    }
   ],
   "source": [
    "# CNN classifier\n",
    "# Neural Network TF architecture\n",
    "model = Sequential([\n",
    "                    Embedding(vocab_size, embedding_dim, input_length=max_length),\n",
    "                    Conv1D(filters=2, kernel_size=3, activation='relu', name=\"Conv1D\"),\n",
    "                    AveragePooling1D(pool_size=3),\n",
    "                    Flatten(),\n",
    "                    Dense(2, activation='relu'),\n",
    "                    Dense(1, activation='sigmoid', name=\"Outpul_layer\")\n",
    "                    ])\n",
    "\n",
    "opt = 'adam'\n",
    "loss_fun = 'binary_crossentropy'\n",
    "acc = ['accuracy']\n",
    "\n",
    "model.compile(\n",
    "    optimizer = opt,\n",
    "    loss = loss_fun,\n",
    "    metrics = acc\n",
    "    )"
   ]
  },
  {
   "cell_type": "code",
   "execution_count": 27,
   "metadata": {
    "colab": {
     "base_uri": "https://localhost:8080/",
     "height": 340
    },
    "executionInfo": {
     "elapsed": 23,
     "status": "ok",
     "timestamp": 1730740151447,
     "user": {
      "displayName": "Enrique Gonzalez",
      "userId": "11537615501324889345"
     },
     "user_tz": 360
    },
    "id": "gKmCDb1lMYKU",
    "outputId": "0f4f152f-f354-4d96-9e33-31c0b1cc7c30"
   },
   "outputs": [
    {
     "name": "stdout",
     "output_type": "stream",
     "text": [
      "Model: \"sequential\"\n",
      "_________________________________________________________________\n",
      " Layer (type)                Output Shape              Param #   \n",
      "=================================================================\n",
      " embedding (Embedding)       (None, 100, 16)           160000    \n",
      "                                                                 \n",
      " Conv1D (Conv1D)             (None, 98, 2)             98        \n",
      "                                                                 \n",
      " average_pooling1d (AverageP  (None, 32, 2)            0         \n",
      " ooling1D)                                                       \n",
      "                                                                 \n",
      " flatten (Flatten)           (None, 64)                0         \n",
      "                                                                 \n",
      " dense (Dense)               (None, 2)                 130       \n",
      "                                                                 \n",
      " Outpul_layer (Dense)        (None, 1)                 3         \n",
      "                                                                 \n",
      "=================================================================\n",
      "Total params: 160,231\n",
      "Trainable params: 160,231\n",
      "Non-trainable params: 0\n",
      "_________________________________________________________________\n"
     ]
    }
   ],
   "source": [
    "model.summary()"
   ]
  },
  {
   "cell_type": "code",
   "execution_count": 28,
   "metadata": {
    "colab": {
     "base_uri": "https://localhost:8080/"
    },
    "executionInfo": {
     "elapsed": 49964,
     "status": "ok",
     "timestamp": 1730740201391,
     "user": {
      "displayName": "Enrique Gonzalez",
      "userId": "11537615501324889345"
     },
     "user_tz": 360
    },
    "id": "pBTVWvFEMgGS",
    "outputId": "7d9b556f-dbd2-407e-adfe-b08e07e173d6"
   },
   "outputs": [
    {
     "name": "stdout",
     "output_type": "stream",
     "text": [
      "Epoch 1/30\n",
      "1974/1974 - 12s - loss: 0.2436 - accuracy: 0.9033 - val_loss: 0.1381 - val_accuracy: 0.9521 - 12s/epoch - 6ms/step\n",
      "Epoch 2/30\n",
      "1974/1974 - 11s - loss: 0.1168 - accuracy: 0.9623 - val_loss: 0.1161 - val_accuracy: 0.9647 - 11s/epoch - 5ms/step\n",
      "Epoch 3/30\n",
      "1974/1974 - 8s - loss: 0.0889 - accuracy: 0.9736 - val_loss: 0.1081 - val_accuracy: 0.9681 - 8s/epoch - 4ms/step\n",
      "Epoch 4/30\n",
      "1974/1974 - 10s - loss: 0.0726 - accuracy: 0.9787 - val_loss: 0.1048 - val_accuracy: 0.9702 - 10s/epoch - 5ms/step\n",
      "Epoch 5/30\n",
      "1974/1974 - 11s - loss: 0.0617 - accuracy: 0.9828 - val_loss: 0.1033 - val_accuracy: 0.9722 - 11s/epoch - 5ms/step\n",
      "Epoch 6/30\n",
      "1974/1974 - 9s - loss: 0.0522 - accuracy: 0.9856 - val_loss: 0.1067 - val_accuracy: 0.9723 - 9s/epoch - 5ms/step\n",
      "Epoch 7/30\n",
      "1974/1974 - 11s - loss: 0.0454 - accuracy: 0.9879 - val_loss: 0.1059 - val_accuracy: 0.9745 - 11s/epoch - 6ms/step\n",
      "Epoch 8/30\n",
      "1974/1974 - 13s - loss: 0.0393 - accuracy: 0.9898 - val_loss: 0.1078 - val_accuracy: 0.9753 - 13s/epoch - 7ms/step\n",
      "Epoch 9/30\n",
      "1974/1974 - 9s - loss: 0.0343 - accuracy: 0.9917 - val_loss: 0.1151 - val_accuracy: 0.9735 - 9s/epoch - 5ms/step\n",
      "Epoch 10/30\n",
      "1974/1974 - 8s - loss: 0.0307 - accuracy: 0.9926 - val_loss: 0.1206 - val_accuracy: 0.9752 - 8s/epoch - 4ms/step\n",
      "Epoch 11/30\n",
      "1974/1974 - 10s - loss: 0.0279 - accuracy: 0.9933 - val_loss: 0.1236 - val_accuracy: 0.9736 - 10s/epoch - 5ms/step\n",
      "Epoch 12/30\n",
      "1974/1974 - 11s - loss: 0.0253 - accuracy: 0.9938 - val_loss: 0.1251 - val_accuracy: 0.9748 - 11s/epoch - 5ms/step\n",
      "Epoch 13/30\n",
      "1974/1974 - 10s - loss: 0.0239 - accuracy: 0.9941 - val_loss: 0.1361 - val_accuracy: 0.9746 - 10s/epoch - 5ms/step\n",
      "Epoch 14/30\n",
      "1974/1974 - 10s - loss: 0.0211 - accuracy: 0.9950 - val_loss: 0.1450 - val_accuracy: 0.9751 - 10s/epoch - 5ms/step\n",
      "Epoch 15/30\n",
      "1974/1974 - 9s - loss: 0.0196 - accuracy: 0.9952 - val_loss: 0.1625 - val_accuracy: 0.9736 - 9s/epoch - 5ms/step\n",
      "Epoch 16/30\n",
      "1974/1974 - 9s - loss: 0.0179 - accuracy: 0.9958 - val_loss: 0.1573 - val_accuracy: 0.9748 - 9s/epoch - 5ms/step\n",
      "Epoch 17/30\n",
      "1974/1974 - 9s - loss: 0.0167 - accuracy: 0.9961 - val_loss: 0.1624 - val_accuracy: 0.9749 - 9s/epoch - 5ms/step\n",
      "Epoch 18/30\n",
      "1974/1974 - 11s - loss: 0.0166 - accuracy: 0.9954 - val_loss: 0.1807 - val_accuracy: 0.9748 - 11s/epoch - 6ms/step\n",
      "Epoch 19/30\n",
      "1974/1974 - 8s - loss: 0.0140 - accuracy: 0.9968 - val_loss: 0.1839 - val_accuracy: 0.9753 - 8s/epoch - 4ms/step\n",
      "Epoch 20/30\n",
      "1974/1974 - 7s - loss: 0.0131 - accuracy: 0.9970 - val_loss: 0.1974 - val_accuracy: 0.9748 - 7s/epoch - 4ms/step\n",
      "Epoch 21/30\n",
      "1974/1974 - 7s - loss: 0.0125 - accuracy: 0.9970 - val_loss: 0.2072 - val_accuracy: 0.9742 - 7s/epoch - 4ms/step\n",
      "Epoch 22/30\n",
      "1974/1974 - 7s - loss: 0.0120 - accuracy: 0.9972 - val_loss: 0.2238 - val_accuracy: 0.9745 - 7s/epoch - 4ms/step\n",
      "Epoch 23/30\n",
      "1974/1974 - 8s - loss: 0.0116 - accuracy: 0.9973 - val_loss: 0.2374 - val_accuracy: 0.9736 - 8s/epoch - 4ms/step\n",
      "Epoch 24/30\n",
      "1974/1974 - 8s - loss: 0.0114 - accuracy: 0.9972 - val_loss: 0.2332 - val_accuracy: 0.9742 - 8s/epoch - 4ms/step\n",
      "Epoch 25/30\n",
      "1974/1974 - 11s - loss: 0.0112 - accuracy: 0.9972 - val_loss: 0.2412 - val_accuracy: 0.9733 - 11s/epoch - 5ms/step\n",
      "Epoch 26/30\n",
      "1974/1974 - 8s - loss: 0.0108 - accuracy: 0.9974 - val_loss: 0.2539 - val_accuracy: 0.9732 - 8s/epoch - 4ms/step\n",
      "Epoch 27/30\n",
      "1974/1974 - 9s - loss: 0.0104 - accuracy: 0.9974 - val_loss: 0.2627 - val_accuracy: 0.9729 - 9s/epoch - 4ms/step\n",
      "Epoch 28/30\n",
      "1974/1974 - 10s - loss: 0.0105 - accuracy: 0.9974 - val_loss: 0.2864 - val_accuracy: 0.9731 - 10s/epoch - 5ms/step\n",
      "Epoch 29/30\n",
      "1974/1974 - 10s - loss: 0.0104 - accuracy: 0.9974 - val_loss: 0.2719 - val_accuracy: 0.9742 - 10s/epoch - 5ms/step\n",
      "Epoch 30/30\n",
      "1974/1974 - 8s - loss: 0.0099 - accuracy: 0.9975 - val_loss: 0.2803 - val_accuracy: 0.9743 - 8s/epoch - 4ms/step\n"
     ]
    }
   ],
   "source": [
    "num_epochs = 30\n",
    "history = model.fit(training_padded,\n",
    "                    training_labels,\n",
    "                    validation_split=0.1,\n",
    "                    epochs=num_epochs,\n",
    "                    verbose=2)"
   ]
  },
  {
   "cell_type": "code",
   "execution_count": 29,
   "metadata": {
    "colab": {
     "base_uri": "https://localhost:8080/",
     "height": 472
    },
    "executionInfo": {
     "elapsed": 696,
     "status": "ok",
     "timestamp": 1730740202083,
     "user": {
      "displayName": "Enrique Gonzalez",
      "userId": "11537615501324889345"
     },
     "user_tz": 360
    },
    "id": "zwSHFI7KNAu3",
    "outputId": "14bd2843-9724-40a1-f3f9-99d824f7b965"
   },
   "outputs": [
    {
     "data": {
      "image/png": "[encoded data removed]",
      "text/plain": [
       "<Figure size 640x480 with 2 Axes>"
      ]
     },
     "metadata": {},
     "output_type": "display_data"
    }
   ],
   "source": [
    "fig = plt.figure()\n",
    "fig.add_subplot(121)\n",
    "plt.plot(history.history['loss'])\n",
    "plt.plot(history.history['val_loss'])\n",
    "plt.title(\"Loss vs Epochs\")\n",
    "plt.ylabel('Loss')\n",
    "plt.xlabel('Epoch')\n",
    "plt.legend(['Training', 'Validation'], loc='upper right')\n",
    "\n",
    "fig.add_subplot(122)\n",
    "plt.plot(history.history['accuracy'])\n",
    "plt.plot(history.history['val_accuracy'])\n",
    "plt.title(\"Accuracy vs Epochs\")\n",
    "plt.ylabel('Accuracy')\n",
    "plt.xlabel('Epoch')\n",
    "plt.legend(['Training', 'Validation'], loc='upper right')\n",
    "plt.show()"
   ]
  },
  {
   "cell_type": "markdown",
   "metadata": {},
   "source": [
    "## 4. Metrics"
   ]
  },
  {
   "cell_type": "code",
   "execution_count": 30,
   "metadata": {
    "colab": {
     "base_uri": "https://localhost:8080/"
    },
    "executionInfo": {
     "elapsed": 1789,
     "status": "ok",
     "timestamp": 1730740203869,
     "user": {
      "displayName": "Enrique Gonzalez",
      "userId": "11537615501324889345"
     },
     "user_tz": 360
    },
    "id": "UYR5tf7QND4K",
    "outputId": "075a8d1a-0c62-4d1b-fc71-1c8a9997dc14"
   },
   "outputs": [
    {
     "name": "stdout",
     "output_type": "stream",
     "text": [
      "2193/2193 - 2s - loss: 0.0364 - accuracy: 0.9953 - 2s/epoch - 1ms/step\n",
      "[0.03644387423992157, 0.9953392148017883]\n",
      "\n",
      "\n",
      "2193/2193 [==============================] - 4s 2ms/step\n",
      "       real  pred\n",
      "0         1   1.0\n",
      "1         1   1.0\n",
      "2         0   0.0\n",
      "3         1   1.0\n",
      "4         1   1.0\n",
      "...     ...   ...\n",
      "70155     1   1.0\n",
      "70156     1   1.0\n",
      "70157     0   0.0\n",
      "70158     1   1.0\n",
      "70159     0   0.0\n",
      "\n",
      "[70160 rows x 2 columns]\n",
      "731/731 - 1s - loss: 0.2943 - accuracy: 0.9730 - 835ms/epoch - 1ms/step\n",
      "[0.2943435311317444, 0.9730191826820374]\n",
      "\n",
      "\n",
      "731/731 [==============================] - 1s 2ms/step\n",
      "       real  pred\n",
      "0         1   1.0\n",
      "1         0   0.0\n",
      "2         1   1.0\n",
      "3         1   1.0\n",
      "4         1   1.0\n",
      "...     ...   ...\n",
      "23382     1   1.0\n",
      "23383     0   0.0\n",
      "23384     1   1.0\n",
      "23385     1   1.0\n",
      "23386     1   1.0\n",
      "\n",
      "[23387 rows x 2 columns]\n"
     ]
    }
   ],
   "source": [
    "print(model.evaluate(training_padded, training_labels, verbose=2))\n",
    "print(\"\\n\")\n",
    "\n",
    "#### predict train data ######\n",
    "df_train = pd.DataFrame()\n",
    "df_train['real'] = training_labels\n",
    "df_train['pred'] = model.predict(training_padded).reshape(1,len(training_padded))[0]\n",
    "print(round(df_train))\n",
    "print(model.evaluate(testing_padded,testing_labels, verbose=2))\n",
    "print(\"\\n\")\n",
    "\n",
    "# test data\n",
    "df_test = pd.DataFrame()\n",
    "df_test['real'] = testing_labels\n",
    "df_test['pred'] = model.predict(testing_padded).reshape(1,len(testing_padded))[0]\n",
    "print(round(df_test))\n"
   ]
  },
  {
   "cell_type": "markdown",
   "metadata": {},
   "source": [
    "## 5. CNN with Keras Tuner"
   ]
  },
  {
   "cell_type": "code",
   "execution_count": 31,
   "metadata": {
    "executionInfo": {
     "elapsed": 11,
     "status": "ok",
     "timestamp": 1730740203869,
     "user": {
      "displayName": "Enrique Gonzalez",
      "userId": "11537615501324889345"
     },
     "user_tz": 360
    },
    "id": "Fsv6tMtLtjYW"
   },
   "outputs": [],
   "source": [
    "# CNN using function for Keras Tuner\n",
    "def model_builder(hp):\n",
    "    vocab_size = 10000\n",
    "    embedding_dim = 16\n",
    "    hp_max_length = hp.Int('input_length', min_value=80, max_value=120, step=10)\n",
    "    model = Sequential([\n",
    "                      Embedding(vocab_size, embedding_dim, input_length=hp_max_length),\n",
    "                      Conv1D(filters=2, kernel_size=3, activation='relu', name=\"Conv1D\"),\n",
    "                      AveragePooling1D(pool_size=3),\n",
    "                      Flatten(),\n",
    "                      Dense(2, activation='relu'),\n",
    "                      Dense(1, activation='sigmoid', name=\"Outpul_layer\")\n",
    "                      ])\n",
    "    opt = 'adam'\n",
    "    loss_fun = 'binary_crossentropy'\n",
    "    acc = ['accuracy']\n",
    "\n",
    "    model.compile(\n",
    "        optimizer = opt,\n",
    "        loss = loss_fun,\n",
    "        metrics = acc\n",
    "        )\n",
    "\n",
    "    return model"
   ]
  },
  {
   "cell_type": "code",
   "execution_count": 32,
   "metadata": {
    "executionInfo": {
     "elapsed": 10,
     "status": "ok",
     "timestamp": 1730740203869,
     "user": {
      "displayName": "Enrique Gonzalez",
      "userId": "11537615501324889345"
     },
     "user_tz": 360
    },
    "id": "EgjBg3hlWQ7Z"
   },
   "outputs": [],
   "source": [
    "tuner = kt.Hyperband(model_builder,\n",
    "                     objective='val_accuracy',\n",
    "                     max_epochs=10,\n",
    "                     factor=3,\n",
    "                     )"
   ]
  },
  {
   "cell_type": "code",
   "execution_count": 33,
   "metadata": {
    "executionInfo": {
     "elapsed": 10,
     "status": "ok",
     "timestamp": 1730740203870,
     "user": {
      "displayName": "Enrique Gonzalez",
      "userId": "11537615501324889345"
     },
     "user_tz": 360
    },
    "id": "1vQ-WwI6UQaW"
   },
   "outputs": [],
   "source": [
    "stop_early = EarlyStopping(monitor='val_loss', patience=5)"
   ]
  },
  {
   "cell_type": "code",
   "execution_count": 34,
   "metadata": {
    "colab": {
     "base_uri": "https://localhost:8080/"
    },
    "executionInfo": {
     "elapsed": 28530,
     "status": "ok",
     "timestamp": 1730740232391,
     "user": {
      "displayName": "Enrique Gonzalez",
      "userId": "11537615501324889345"
     },
     "user_tz": 360
    },
    "id": "2v6QPqJ0fehn",
    "outputId": "1625812e-b899-41c9-9415-f9101078abd4"
   },
   "outputs": [
    {
     "name": "stdout",
     "output_type": "stream",
     "text": [
      "Trial 5 Complete [00h 00m 01s]\n",
      "\n",
      "Best val_accuracy So Far: 0.9676454067230225\n",
      "Total elapsed time: 00h 00m 27s\n",
      "The hyperparameter search is complete.\n",
      "The best 'input_length' for the embedding layer is 100\n",
      "\n"
     ]
    }
   ],
   "source": [
    "num_epochs = 30\n",
    "\n",
    "tuner.search(training_padded,\n",
    "             training_labels,\n",
    "             validation_split=0.1,\n",
    "             epochs=num_epochs,\n",
    "             callbacks=[stop_early],\n",
    "             verbose=2)\n",
    "\n",
    "# Get the optimal hyperparameters\n",
    "best_hps=tuner.get_best_hyperparameters(num_trials=1)[0]\n",
    "\n",
    "print(f\"\"\"The hyperparameter search is complete.\n",
    "The best 'input_length' for the embedding layer is {best_hps.get('input_length')}\n",
    "\"\"\")"
   ]
  },
  {
   "cell_type": "code",
   "execution_count": 35,
   "metadata": {
    "colab": {
     "base_uri": "https://localhost:8080/"
    },
    "executionInfo": {
     "elapsed": 39092,
     "status": "ok",
     "timestamp": 1730740271474,
     "user": {
      "displayName": "Enrique Gonzalez",
      "userId": "11537615501324889345"
     },
     "user_tz": 360
    },
    "id": "gLL1YERos9bJ",
    "outputId": "f872d205-92c8-412b-8fd9-074c71b346d7"
   },
   "outputs": [
    {
     "name": "stdout",
     "output_type": "stream",
     "text": [
      "Epoch 1/30\n",
      "1974/1974 - 12s - loss: 0.2817 - accuracy: 0.8948 - val_loss: 0.1769 - val_accuracy: 0.9470 - 12s/epoch - 6ms/step\n",
      "Epoch 2/30\n",
      "1974/1974 - 9s - loss: 0.1434 - accuracy: 0.9588 - val_loss: 0.1402 - val_accuracy: 0.9578 - 9s/epoch - 5ms/step\n",
      "Epoch 3/30\n",
      "1974/1974 - 9s - loss: 0.1077 - accuracy: 0.9695 - val_loss: 0.1370 - val_accuracy: 0.9575 - 9s/epoch - 5ms/step\n",
      "Epoch 4/30\n",
      "1974/1974 - 9s - loss: 0.0912 - accuracy: 0.9751 - val_loss: 0.1233 - val_accuracy: 0.9624 - 9s/epoch - 4ms/step\n",
      "Epoch 5/30\n",
      "1974/1974 - 8s - loss: 0.0814 - accuracy: 0.9781 - val_loss: 0.1182 - val_accuracy: 0.9664 - 8s/epoch - 4ms/step\n",
      "Epoch 6/30\n",
      "1974/1974 - 8s - loss: 0.0724 - accuracy: 0.9808 - val_loss: 0.1191 - val_accuracy: 0.9691 - 8s/epoch - 4ms/step\n",
      "Epoch 7/30\n",
      "1974/1974 - 8s - loss: 0.0673 - accuracy: 0.9826 - val_loss: 0.1218 - val_accuracy: 0.9684 - 8s/epoch - 4ms/step\n",
      "Epoch 8/30\n",
      "1974/1974 - 8s - loss: 0.0616 - accuracy: 0.9850 - val_loss: 0.1243 - val_accuracy: 0.9686 - 8s/epoch - 4ms/step\n",
      "Epoch 9/30\n",
      "1974/1974 - 11s - loss: 0.0576 - accuracy: 0.9860 - val_loss: 0.1242 - val_accuracy: 0.9701 - 11s/epoch - 5ms/step\n",
      "Epoch 10/30\n",
      "1974/1974 - 12s - loss: 0.0535 - accuracy: 0.9874 - val_loss: 0.1398 - val_accuracy: 0.9692 - 12s/epoch - 6ms/step\n",
      "Epoch 11/30\n",
      "1974/1974 - 8s - loss: 0.0519 - accuracy: 0.9877 - val_loss: 0.1288 - val_accuracy: 0.9686 - 8s/epoch - 4ms/step\n",
      "Epoch 12/30\n",
      "1974/1974 - 7s - loss: 0.0484 - accuracy: 0.9891 - val_loss: 0.1383 - val_accuracy: 0.9699 - 7s/epoch - 4ms/step\n",
      "Epoch 13/30\n",
      "1974/1974 - 8s - loss: 0.0465 - accuracy: 0.9895 - val_loss: 0.1412 - val_accuracy: 0.9696 - 8s/epoch - 4ms/step\n",
      "Epoch 14/30\n",
      "1974/1974 - 9s - loss: 0.0445 - accuracy: 0.9902 - val_loss: 0.1445 - val_accuracy: 0.9695 - 9s/epoch - 5ms/step\n",
      "Epoch 15/30\n",
      "1974/1974 - 10s - loss: 0.0428 - accuracy: 0.9906 - val_loss: 0.1587 - val_accuracy: 0.9694 - 10s/epoch - 5ms/step\n",
      "Epoch 16/30\n",
      "1974/1974 - 10s - loss: 0.0413 - accuracy: 0.9909 - val_loss: 0.1593 - val_accuracy: 0.9698 - 10s/epoch - 5ms/step\n",
      "Epoch 17/30\n",
      "1974/1974 - 9s - loss: 0.0405 - accuracy: 0.9910 - val_loss: 0.1643 - val_accuracy: 0.9686 - 9s/epoch - 4ms/step\n",
      "Epoch 18/30\n",
      "1974/1974 - 8s - loss: 0.0400 - accuracy: 0.9911 - val_loss: 0.1579 - val_accuracy: 0.9686 - 8s/epoch - 4ms/step\n",
      "Epoch 19/30\n",
      "1974/1974 - 10s - loss: 0.0393 - accuracy: 0.9915 - val_loss: 0.1600 - val_accuracy: 0.9685 - 10s/epoch - 5ms/step\n",
      "Epoch 20/30\n",
      "1974/1974 - 12s - loss: 0.0380 - accuracy: 0.9919 - val_loss: 0.1697 - val_accuracy: 0.9698 - 12s/epoch - 6ms/step\n",
      "Epoch 21/30\n",
      "1974/1974 - 12s - loss: 0.0379 - accuracy: 0.9917 - val_loss: 0.1793 - val_accuracy: 0.9696 - 12s/epoch - 6ms/step\n",
      "Epoch 22/30\n",
      "1974/1974 - 10s - loss: 0.0374 - accuracy: 0.9920 - val_loss: 0.1860 - val_accuracy: 0.9694 - 10s/epoch - 5ms/step\n",
      "Epoch 23/30\n",
      "1974/1974 - 12s - loss: 0.0372 - accuracy: 0.9919 - val_loss: 0.1824 - val_accuracy: 0.9685 - 12s/epoch - 6ms/step\n",
      "Epoch 24/30\n",
      "1974/1974 - 9s - loss: 0.0367 - accuracy: 0.9921 - val_loss: 0.1871 - val_accuracy: 0.9665 - 9s/epoch - 5ms/step\n",
      "Epoch 25/30\n",
      "1974/1974 - 12s - loss: 0.0366 - accuracy: 0.9921 - val_loss: 0.1920 - val_accuracy: 0.9665 - 12s/epoch - 6ms/step\n",
      "Epoch 26/30\n",
      "1974/1974 - 8s - loss: 0.0363 - accuracy: 0.9922 - val_loss: 0.1810 - val_accuracy: 0.9665 - 8s/epoch - 4ms/step\n",
      "Epoch 27/30\n",
      "1974/1974 - 8s - loss: 0.0363 - accuracy: 0.9922 - val_loss: 0.1886 - val_accuracy: 0.9666 - 8s/epoch - 4ms/step\n",
      "Epoch 28/30\n",
      "1974/1974 - 8s - loss: 0.0362 - accuracy: 0.9920 - val_loss: 0.1934 - val_accuracy: 0.9669 - 8s/epoch - 4ms/step\n",
      "Epoch 29/30\n",
      "1974/1974 - 7s - loss: 0.0357 - accuracy: 0.9922 - val_loss: 0.1842 - val_accuracy: 0.9668 - 7s/epoch - 4ms/step\n",
      "Epoch 30/30\n",
      "1974/1974 - 8s - loss: 0.0357 - accuracy: 0.9923 - val_loss: 0.1948 - val_accuracy: 0.9659 - 8s/epoch - 4ms/step\n"
     ]
    }
   ],
   "source": [
    "model = tuner.hypermodel.build(best_hps)\n",
    "\n",
    "history = model.fit(training_padded,\n",
    "                    training_labels,\n",
    "                    validation_split=0.1,\n",
    "                    epochs=num_epochs,\n",
    "                    verbose=2)"
   ]
  },
  {
   "cell_type": "code",
   "execution_count": 36,
   "metadata": {
    "colab": {
     "base_uri": "https://localhost:8080/",
     "height": 472
    },
    "executionInfo": {
     "elapsed": 242,
     "status": "ok",
     "timestamp": 1730740271713,
     "user": {
      "displayName": "Enrique Gonzalez",
      "userId": "11537615501324889345"
     },
     "user_tz": 360
    },
    "id": "XyijnI_NrNwx",
    "outputId": "4a89f7ff-cd5e-41e6-b961-3c24c37b37d7"
   },
   "outputs": [
    {
     "data": {
      "image/png": "[encoded data removed]",
      "text/plain": [
       "<Figure size 640x480 with 2 Axes>"
      ]
     },
     "metadata": {},
     "output_type": "display_data"
    }
   ],
   "source": [
    "fig = plt.figure()\n",
    "fig.add_subplot(121)\n",
    "plt.plot(history.history['loss'])\n",
    "plt.plot(history.history['val_loss'])\n",
    "plt.title(\"Loss vs Epochs\")\n",
    "plt.ylabel('Loss')\n",
    "plt.xlabel('Epoch')\n",
    "plt.legend(['Training', 'Validation'], loc='upper right')\n",
    "\n",
    "fig.add_subplot(122)\n",
    "plt.plot(history.history['accuracy'])\n",
    "plt.plot(history.history['val_accuracy'])\n",
    "plt.title(\"Accuracy vs Epochs\")\n",
    "plt.ylabel('Accuracy')\n",
    "plt.xlabel('Epoch')\n",
    "plt.legend(['Training', 'Validation'], loc='upper right')\n",
    "plt.show()"
   ]
  },
  {
   "cell_type": "markdown",
   "metadata": {},
   "source": [
    "## 6. Metrics"
   ]
  },
  {
   "cell_type": "code",
   "execution_count": 37,
   "metadata": {
    "colab": {
     "base_uri": "https://localhost:8080/"
    },
    "executionInfo": {
     "elapsed": 1915,
     "status": "ok",
     "timestamp": 1730740273622,
     "user": {
      "displayName": "Enrique Gonzalez",
      "userId": "11537615501324889345"
     },
     "user_tz": 360
    },
    "id": "Bmdun3CprO5c",
    "outputId": "ec17e40b-7461-47f2-a75e-25ec07589b62"
   },
   "outputs": [
    {
     "name": "stdout",
     "output_type": "stream",
     "text": [
      "2193/2193 - 2s - loss: 0.0509 - accuracy: 0.9897 - 2s/epoch - 977us/step\n",
      "[0.05090327188372612, 0.9897235035896301]\n",
      "\n",
      "\n",
      "2193/2193 [==============================] - 2s 1ms/step\n",
      "       real  pred\n",
      "0         1   1.0\n",
      "1         1   1.0\n",
      "2         0   0.0\n",
      "3         1   1.0\n",
      "4         1   1.0\n",
      "...     ...   ...\n",
      "70155     1   1.0\n",
      "70156     1   1.0\n",
      "70157     0   0.0\n",
      "70158     1   1.0\n",
      "70159     0   0.0\n",
      "\n",
      "[70160 rows x 2 columns]\n",
      "731/731 - 1s - loss: 0.1767 - accuracy: 0.9673 - 751ms/epoch - 1ms/step\n",
      "[0.17674416303634644, 0.9672895073890686]\n",
      "\n",
      "\n",
      "731/731 [==============================] - 1s 1ms/step\n",
      "       real  pred\n",
      "0         1   1.0\n",
      "1         0   0.0\n",
      "2         1   1.0\n",
      "3         1   1.0\n",
      "4         1   1.0\n",
      "...     ...   ...\n",
      "23382     1   1.0\n",
      "23383     0   0.0\n",
      "23384     1   1.0\n",
      "23385     1   1.0\n",
      "23386     1   1.0\n",
      "\n",
      "[23387 rows x 2 columns]\n"
     ]
    }
   ],
   "source": [
    "print(model.evaluate(training_padded, training_labels, verbose=2))\n",
    "print(\"\\n\")\n",
    "\n",
    "#### predict train data ######\n",
    "df_train = pd.DataFrame()\n",
    "df_train['real'] = training_labels\n",
    "df_train['pred'] = model.predict(training_padded).reshape(1,len(training_padded))[0]\n",
    "print(round(df_train))\n",
    "print(model.evaluate(testing_padded,testing_labels, verbose=2))\n",
    "print(\"\\n\")\n",
    "\n",
    "# test data\n",
    "df_test = pd.DataFrame()\n",
    "df_test['real'] = testing_labels\n",
    "df_test['pred'] = model.predict(testing_padded).reshape(1,len(testing_padded))[0]\n",
    "print(round(df_test))"
   ]
  },
  {
   "cell_type": "markdown",
   "metadata": {},
   "source": [
    "## 7. CNN with Keras Tuner (second model)"
   ]
  },
  {
   "cell_type": "code",
   "execution_count": 38,
   "metadata": {
    "executionInfo": {
     "elapsed": 17,
     "status": "ok",
     "timestamp": 1730740273622,
     "user": {
      "displayName": "Enrique Gonzalez",
      "userId": "11537615501324889345"
     },
     "user_tz": 360
    },
    "id": "dhCCJwwL4Cpa"
   },
   "outputs": [],
   "source": [
    "# CNN using function for Keras Tuner (second model)\n",
    "def model_builder2(hp):\n",
    "    vocab_size = 10000\n",
    "    hp_embedding_dim = hp.Int('embedding_dim', min_value=8, max_value=40 , step=8)\n",
    "    hp_max_length = hp.Int('input_length', min_value=80, max_value=120, step=10)\n",
    "    hp_filters = hp.Int('filters', min_value=2, max_value=10, step=2)\n",
    "    hp_units = hp.Int('units', min_value=2, max_value=16, step=2)\n",
    "    hp_activation_conv = hp.Choice('activation_conv', values=['relu', 'sigmoid', 'tanh'])\n",
    "    hp_activation_dense = hp.Choice('activation_dense', values=['relu', 'sigmoid', 'tanh'])\n",
    "    model = Sequential([\n",
    "                      Embedding(vocab_size, hp_embedding_dim, input_length=hp_max_length),\n",
    "                      Conv1D(filters=hp_filters, kernel_size=3, activation=hp_activation_conv, name=\"Conv1D\"),\n",
    "                      AveragePooling1D(pool_size=3),\n",
    "                      Flatten(),\n",
    "                      Dense(units=hp_units, activation=hp_activation_dense),\n",
    "                      Dense(1, activation='sigmoid', name=\"Outpul_layer\")\n",
    "                      ])\n",
    "    opt = 'adam'\n",
    "    loss_fun = 'binary_crossentropy'\n",
    "    acc = ['accuracy']\n",
    "\n",
    "    model.compile(\n",
    "        optimizer = opt,\n",
    "        loss = loss_fun,\n",
    "        metrics = acc\n",
    "        )\n",
    "\n",
    "    return model"
   ]
  },
  {
   "cell_type": "code",
   "execution_count": 39,
   "metadata": {
    "colab": {
     "base_uri": "https://localhost:8080/"
    },
    "executionInfo": {
     "elapsed": 14,
     "status": "ok",
     "timestamp": 1730740273622,
     "user": {
      "displayName": "Enrique Gonzalez",
      "userId": "11537615501324889345"
     },
     "user_tz": 360
    },
    "id": "Nq6Utxl-4o21",
    "outputId": "dfb078bf-5d6b-47db-bf23-8626caa38512"
   },
   "outputs": [
    {
     "name": "stdout",
     "output_type": "stream",
     "text": [
      "Reloading Tuner from ./untitled_project/tuner0.json\n"
     ]
    }
   ],
   "source": [
    "cnn_tuner2 = kt.Hyperband(model_builder2,\n",
    "                     objective='val_accuracy',\n",
    "                     max_epochs=12,\n",
    "                     factor=3,\n",
    "                     )"
   ]
  },
  {
   "cell_type": "code",
   "execution_count": 40,
   "metadata": {
    "executionInfo": {
     "elapsed": 147,
     "status": "ok",
     "timestamp": 1730740273758,
     "user": {
      "displayName": "Enrique Gonzalez",
      "userId": "11537615501324889345"
     },
     "user_tz": 360
    },
    "id": "U8W0fNKF82QT"
   },
   "outputs": [],
   "source": [
    "stop_early = EarlyStopping(monitor='val_loss', patience=5)"
   ]
  },
  {
   "cell_type": "code",
   "execution_count": 41,
   "metadata": {
    "colab": {
     "base_uri": "https://localhost:8080/"
    },
    "executionInfo": {
     "elapsed": 7,
     "status": "ok",
     "timestamp": 1730740273759,
     "user": {
      "displayName": "Enrique Gonzalez",
      "userId": "11537615501324889345"
     },
     "user_tz": 360
    },
    "id": "ZiGwIUUG4-K0",
    "outputId": "cb3b0ec7-f60e-47fc-935f-94e25d14395a"
   },
   "outputs": [
    {
     "name": "stdout",
     "output_type": "stream",
     "text": [
      "The hyperparameter search is complete.\n",
      "The best input_length for the embedding layer is 100\n"
     ]
    }
   ],
   "source": [
    "num_epochs = 30\n",
    "\n",
    "cnn_tuner2.search(training_padded,\n",
    "             training_labels,\n",
    "             validation_split=0.1,\n",
    "             epochs=num_epochs,\n",
    "             callbacks=[stop_early],\n",
    "             verbose=2)\n",
    "\n",
    "# Get the optimal hyperparameters\n",
    "cnn_best_hps2=cnn_tuner2.get_best_hyperparameters(num_trials=1)[0]\n",
    "\n",
    "print(\"\"\"The hyperparameter search is complete.\n",
    "The best input_length for the embedding layer is\"\"\", cnn_best_hps2.get('input_length'))"
   ]
  },
  {
   "cell_type": "code",
   "execution_count": 42,
   "metadata": {
    "colab": {
     "base_uri": "https://localhost:8080/"
    },
    "executionInfo": {
     "elapsed": 25054,
     "status": "ok",
     "timestamp": 1730740298807,
     "user": {
      "displayName": "Enrique Gonzalez",
      "userId": "11537615501324889345"
     },
     "user_tz": 360
    },
    "id": "NtnCWZmN_NSa",
    "outputId": "00bc192a-1d5a-42a3-b977-52819bd27f3e"
   },
   "outputs": [
    {
     "name": "stdout",
     "output_type": "stream",
     "text": [
      "Epoch 1/30\n",
      "1974/1974 - 7s - loss: 0.2576 - accuracy: 0.8912 - val_loss: 0.1557 - val_accuracy: 0.9390 - 7s/epoch - 4ms/step\n",
      "Epoch 2/30\n",
      "1974/1974 - 6s - loss: 0.1323 - accuracy: 0.9545 - val_loss: 0.1244 - val_accuracy: 0.9582 - 6s/epoch - 3ms/step\n",
      "Epoch 3/30\n",
      "1974/1974 - 6s - loss: 0.0998 - accuracy: 0.9685 - val_loss: 0.1137 - val_accuracy: 0.9651 - 6s/epoch - 3ms/step\n",
      "Epoch 4/30\n",
      "1974/1974 - 6s - loss: 0.0808 - accuracy: 0.9757 - val_loss: 0.1100 - val_accuracy: 0.9676 - 6s/epoch - 3ms/step\n",
      "Epoch 5/30\n",
      "1974/1974 - 6s - loss: 0.0688 - accuracy: 0.9804 - val_loss: 0.1048 - val_accuracy: 0.9719 - 6s/epoch - 3ms/step\n",
      "Epoch 6/30\n",
      "1974/1974 - 6s - loss: 0.0591 - accuracy: 0.9833 - val_loss: 0.1077 - val_accuracy: 0.9725 - 6s/epoch - 3ms/step\n",
      "Epoch 7/30\n",
      "1974/1974 - 6s - loss: 0.0519 - accuracy: 0.9856 - val_loss: 0.1054 - val_accuracy: 0.9723 - 6s/epoch - 3ms/step\n",
      "Epoch 8/30\n",
      "1974/1974 - 6s - loss: 0.0458 - accuracy: 0.9878 - val_loss: 0.1085 - val_accuracy: 0.9746 - 6s/epoch - 3ms/step\n",
      "Epoch 9/30\n",
      "1974/1974 - 6s - loss: 0.0404 - accuracy: 0.9893 - val_loss: 0.1133 - val_accuracy: 0.9733 - 6s/epoch - 3ms/step\n",
      "Epoch 10/30\n",
      "1974/1974 - 6s - loss: 0.0361 - accuracy: 0.9908 - val_loss: 0.1199 - val_accuracy: 0.9746 - 6s/epoch - 3ms/step\n",
      "Epoch 11/30\n",
      "1974/1974 - 6s - loss: 0.0331 - accuracy: 0.9919 - val_loss: 0.1220 - val_accuracy: 0.9731 - 6s/epoch - 3ms/step\n",
      "Epoch 12/30\n",
      "1974/1974 - 7s - loss: 0.0299 - accuracy: 0.9927 - val_loss: 0.1199 - val_accuracy: 0.9758 - 7s/epoch - 3ms/step\n",
      "Epoch 13/30\n",
      "1974/1974 - 6s - loss: 0.0274 - accuracy: 0.9936 - val_loss: 0.1301 - val_accuracy: 0.9738 - 6s/epoch - 3ms/step\n",
      "Epoch 14/30\n",
      "1974/1974 - 6s - loss: 0.0254 - accuracy: 0.9938 - val_loss: 0.1358 - val_accuracy: 0.9742 - 6s/epoch - 3ms/step\n",
      "Epoch 15/30\n",
      "1974/1974 - 6s - loss: 0.0237 - accuracy: 0.9943 - val_loss: 0.1372 - val_accuracy: 0.9745 - 6s/epoch - 3ms/step\n",
      "Epoch 16/30\n",
      "1974/1974 - 6s - loss: 0.0220 - accuracy: 0.9948 - val_loss: 0.1422 - val_accuracy: 0.9739 - 6s/epoch - 3ms/step\n",
      "Epoch 17/30\n",
      "1974/1974 - 6s - loss: 0.0204 - accuracy: 0.9952 - val_loss: 0.1458 - val_accuracy: 0.9746 - 6s/epoch - 3ms/step\n",
      "Epoch 18/30\n",
      "1974/1974 - 6s - loss: 0.0195 - accuracy: 0.9953 - val_loss: 0.1534 - val_accuracy: 0.9732 - 6s/epoch - 3ms/step\n",
      "Epoch 19/30\n",
      "1974/1974 - 13s - loss: 0.0189 - accuracy: 0.9956 - val_loss: 0.1547 - val_accuracy: 0.9729 - 13s/epoch - 7ms/step\n",
      "Epoch 20/30\n",
      "1974/1974 - 14s - loss: 0.0176 - accuracy: 0.9959 - val_loss: 0.1620 - val_accuracy: 0.9728 - 14s/epoch - 7ms/step\n",
      "Epoch 21/30\n",
      "1974/1974 - 14s - loss: 0.0172 - accuracy: 0.9958 - val_loss: 0.1627 - val_accuracy: 0.9729 - 14s/epoch - 7ms/step\n",
      "Epoch 22/30\n",
      "1974/1974 - 14s - loss: 0.0160 - accuracy: 0.9964 - val_loss: 0.1724 - val_accuracy: 0.9733 - 14s/epoch - 7ms/step\n",
      "Epoch 23/30\n",
      "1974/1974 - 12s - loss: 0.0156 - accuracy: 0.9964 - val_loss: 0.1781 - val_accuracy: 0.9729 - 12s/epoch - 6ms/step\n",
      "Epoch 24/30\n",
      "1974/1974 - 12s - loss: 0.0148 - accuracy: 0.9966 - val_loss: 0.1798 - val_accuracy: 0.9723 - 12s/epoch - 6ms/step\n",
      "Epoch 25/30\n",
      "1974/1974 - 13s - loss: 0.0145 - accuracy: 0.9965 - val_loss: 0.1840 - val_accuracy: 0.9728 - 13s/epoch - 7ms/step\n",
      "Epoch 26/30\n",
      "1974/1974 - 14s - loss: 0.0139 - accuracy: 0.9968 - val_loss: 0.1851 - val_accuracy: 0.9715 - 14s/epoch - 7ms/step\n",
      "Epoch 27/30\n",
      "1974/1974 - 13s - loss: 0.0139 - accuracy: 0.9966 - val_loss: 0.2024 - val_accuracy: 0.9708 - 13s/epoch - 7ms/step\n",
      "Epoch 28/30\n",
      "1974/1974 - 13s - loss: 0.0134 - accuracy: 0.9967 - val_loss: 0.2009 - val_accuracy: 0.9722 - 13s/epoch - 7ms/step\n",
      "Epoch 29/30\n",
      "1974/1974 - 13s - loss: 0.0128 - accuracy: 0.9971 - val_loss: 0.1999 - val_accuracy: 0.9721 - 13s/epoch - 6ms/step\n",
      "Epoch 30/30\n",
      "1974/1974 - 14s - loss: 0.0123 - accuracy: 0.9971 - val_loss: 0.2215 - val_accuracy: 0.9702 - 14s/epoch - 7ms/step\n"
     ]
    }
   ],
   "source": [
    "model_tuner = cnn_tuner2.hypermodel.build(cnn_best_hps2)\n",
    "\n",
    "history_tuner = model_tuner.fit(training_padded,\n",
    "                    training_labels,\n",
    "                    validation_split=0.1,\n",
    "                    epochs=num_epochs,\n",
    "                    verbose=2)"
   ]
  },
  {
   "cell_type": "code",
   "execution_count": 43,
   "metadata": {
    "colab": {
     "base_uri": "https://localhost:8080/",
     "height": 472
    },
    "executionInfo": {
     "elapsed": 552,
     "status": "ok",
     "timestamp": 1730740299351,
     "user": {
      "displayName": "Enrique Gonzalez",
      "userId": "11537615501324889345"
     },
     "user_tz": 360
    },
    "id": "p-8VqJDKB3MS",
    "outputId": "7e7d62aa-fb14-4612-bc23-e776db92f61f"
   },
   "outputs": [
    {
     "data": {
      "image/png": "[encoded data removed]",
      "text/plain": [
       "<Figure size 640x480 with 2 Axes>"
      ]
     },
     "metadata": {},
     "output_type": "display_data"
    }
   ],
   "source": [
    "fig = plt.figure()\n",
    "fig.add_subplot(121)\n",
    "plt.plot(history_tuner.history['loss'])\n",
    "plt.plot(history_tuner.history['val_loss'])\n",
    "plt.title(\"Loss vs Epochs\")\n",
    "plt.ylabel('Loss')\n",
    "plt.xlabel('Epoch')\n",
    "plt.legend(['Training', 'Validation'], loc='upper right')\n",
    "\n",
    "fig.add_subplot(122)\n",
    "plt.plot(history_tuner.history['accuracy'])\n",
    "plt.plot(history_tuner.history['val_accuracy'])\n",
    "plt.title(\"Accuracy vs Epochs\")\n",
    "plt.ylabel('Accuracy')\n",
    "plt.xlabel('Epoch')\n",
    "plt.legend(['Training', 'Validation'], loc='upper right')\n",
    "plt.show()"
   ]
  },
  {
   "cell_type": "markdown",
   "metadata": {},
   "source": [
    "## 8. Metrics"
   ]
  },
  {
   "cell_type": "code",
   "execution_count": 44,
   "metadata": {
    "colab": {
     "base_uri": "https://localhost:8080/"
    },
    "executionInfo": {
     "elapsed": 1961,
     "status": "ok",
     "timestamp": 1730740301308,
     "user": {
      "displayName": "Enrique Gonzalez",
      "userId": "11537615501324889345"
     },
     "user_tz": 360
    },
    "id": "__GO9An4CPKO",
    "outputId": "684a3f1e-ecd3-4ed1-8404-238a00d199fa"
   },
   "outputs": [
    {
     "name": "stdout",
     "output_type": "stream",
     "text": [
      "2193/2193 - 5s - loss: 0.0327 - accuracy: 0.9946 - 5s/epoch - 2ms/step\n",
      "[0.032662395387887955, 0.9946408271789551]\n",
      "\n",
      "\n",
      "2193/2193 [==============================] - 7s 3ms/step\n",
      "       real  pred\n",
      "0         1   1.0\n",
      "1         1   1.0\n",
      "2         0   0.0\n",
      "3         1   1.0\n",
      "4         1   1.0\n",
      "...     ...   ...\n",
      "70155     1   1.0\n",
      "70156     1   1.0\n",
      "70157     0   0.0\n",
      "70158     1   1.0\n",
      "70159     0   0.0\n",
      "\n",
      "[70160 rows x 2 columns]\n",
      "731/731 - 2s - loss: 0.2401 - accuracy: 0.9719 - 2s/epoch - 2ms/step\n",
      "[0.24011987447738647, 0.9719074964523315]\n",
      "\n",
      "\n",
      "731/731 [==============================] - 2s 2ms/step\n",
      "       real  pred\n",
      "0         1   1.0\n",
      "1         0   0.0\n",
      "2         1   1.0\n",
      "3         1   1.0\n",
      "4         1   1.0\n",
      "...     ...   ...\n",
      "23382     1   1.0\n",
      "23383     0   0.0\n",
      "23384     1   1.0\n",
      "23385     1   1.0\n",
      "23386     1   1.0\n",
      "\n",
      "[23387 rows x 2 columns]\n"
     ]
    }
   ],
   "source": [
    "print(model_tuner.evaluate(training_padded, training_labels, verbose=2))\n",
    "print(\"\\n\")\n",
    "\n",
    "#### predict train data ######\n",
    "df_train = pd.DataFrame()\n",
    "df_train['real'] = training_labels\n",
    "df_train['pred'] = model_tuner.predict(training_padded).reshape(1,len(training_padded))[0]\n",
    "print(round(df_train))\n",
    "print(model_tuner.evaluate(testing_padded,testing_labels, verbose=2))\n",
    "print(\"\\n\")\n",
    "\n",
    "# test data\n",
    "df_test = pd.DataFrame()\n",
    "df_test['real'] = testing_labels\n",
    "df_test['pred'] = model_tuner.predict(testing_padded).reshape(1,len(testing_padded))[0]\n",
    "print(round(df_test))"
   ]
  }
 ],
 "metadata": {
  "colab": {
   "authorship_tag": "ABX9TyMC/1V+iEobFURdArJPE5ig",
   "provenance": []
  },
  "kernelspec": {
   "display_name": "base",
   "language": "python",
   "name": "python3"
  },
  "language_info": {
   "codemirror_mode": {
    "name": "ipython",
    "version": 3
   },
   "file_extension": ".py",
   "mimetype": "text/x-python",
   "name": "python",
   "nbconvert_exporter": "python",
   "pygments_lexer": "ipython3",
   "version": "3.10.11"
  }
 },
 "nbformat": 4,
 "nbformat_minor": 0
}
