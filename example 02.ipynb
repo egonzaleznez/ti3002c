{
 "cells": [
  {
   "cell_type": "markdown",
   "metadata": {},
   "source": [
    "# IA PARA CIENCIA DE DATOS"
   ]
  },
  {
   "cell_type": "markdown",
   "metadata": {},
   "source": [
    "## Contenido\n",
    "\n",
    "1. Packaging\n",
    "1. Read file and load data\n",
    "1. ML methods\n",
    "1. Metrics"
   ]
  },
  {
   "cell_type": "markdown",
   "metadata": {},
   "source": [
    "## 1. Packaging"
   ]
  },
  {
   "cell_type": "code",
   "execution_count": 1,
   "metadata": {
    "executionInfo": {
     "elapsed": 2524,
     "status": "ok",
     "timestamp": 1744055022271,
     "user": {
      "displayName": "Enrique Gonzalez",
      "userId": "11537615501324889345"
     },
     "user_tz": 360
    },
    "id": "5kDUJLoi96bn"
   },
   "outputs": [],
   "source": [
    "# Core libraries\n",
    "import warnings\n",
    "warnings.filterwarnings(\"ignore\")\n",
    "import numpy as np # to use numpy arrays instead of lists\n",
    "import pandas as pd # DataFrame (table)"
   ]
  },
  {
   "cell_type": "code",
   "execution_count": 53,
   "metadata": {
    "executionInfo": {
     "elapsed": 5283,
     "status": "ok",
     "timestamp": 1744055029264,
     "user": {
      "displayName": "Enrique Gonzalez",
      "userId": "11537615501324889345"
     },
     "user_tz": 360
    },
    "id": "z6YKaJt59Icf"
   },
   "outputs": [],
   "source": [
    "# Sklearn processing\n",
    "from sklearn.feature_extraction.text import TfidfVectorizer\n",
    "\n",
    "# Sklearn classification algorithms\n",
    "from sklearn.tree import DecisionTreeClassifier\n",
    "from sklearn.ensemble import RandomForestClassifier\n",
    "from sklearn.neighbors import KNeighborsClassifier\n",
    "\n",
    "# Sklearn classification model evaluation metrics\n",
    "from sklearn.metrics import confusion_matrix\n",
    "from sklearn.metrics import accuracy_score, f1_score, precision_score, recall_score\n",
    "from sklearn.metrics import roc_curve, auc, roc_auc_score\n",
    "\n",
    "# Matplotlib and seaborn for charting\n",
    "import matplotlib.pyplot as plt # to plot\n",
    "import seaborn as sns # to plot"
   ]
  },
  {
   "cell_type": "code",
   "execution_count": 3,
   "metadata": {},
   "outputs": [],
   "source": [
    "# Custom analysis modules\n",
    "from analysis_modules import *"
   ]
  },
  {
   "cell_type": "markdown",
   "metadata": {},
   "source": [
    "## 2. Read file and load data"
   ]
  },
  {
   "cell_type": "markdown",
   "metadata": {},
   "source": [
    "### 2.1 Read file"
   ]
  },
  {
   "cell_type": "code",
   "execution_count": null,
   "metadata": {},
   "outputs": [],
   "source": [
    "# Load data\n",
    "data_file = \"Amazon_Unlocked_Mobile.csv\"\n",
    "datos = pd.read_csv(data_file, header=0)"
   ]
  },
  {
   "cell_type": "code",
   "execution_count": 5,
   "metadata": {
    "colab": {
     "base_uri": "https://localhost:8080/"
    },
    "executionInfo": {
     "elapsed": 1780,
     "status": "ok",
     "timestamp": 1744055032965,
     "user": {
      "displayName": "Enrique Gonzalez",
      "userId": "11537615501324889345"
     },
     "user_tz": 360
    },
    "id": "0XdkHyAN9nMM",
    "outputId": "00726c52-a727-42ae-a810-064e611d9a50"
   },
   "outputs": [
    {
     "name": "stdout",
     "output_type": "stream",
     "text": [
      "                                        Product Name Brand Name   Price  \\\n",
      "0  \"CLEAR CLEAN ESN\" Sprint EPIC 4G Galaxy SPH-D7...    Samsung  199.99   \n",
      "1  \"CLEAR CLEAN ESN\" Sprint EPIC 4G Galaxy SPH-D7...    Samsung  199.99   \n",
      "2  \"CLEAR CLEAN ESN\" Sprint EPIC 4G Galaxy SPH-D7...    Samsung  199.99   \n",
      "3  \"CLEAR CLEAN ESN\" Sprint EPIC 4G Galaxy SPH-D7...    Samsung  199.99   \n",
      "4  \"CLEAR CLEAN ESN\" Sprint EPIC 4G Galaxy SPH-D7...    Samsung  199.99   \n",
      "\n",
      "   Rating                                            Reviews  Review Votes  \n",
      "0       5  I feel so LUCKY to have found this used (phone...           1.0  \n",
      "1       4  nice phone, nice up grade from my pantach revu...           0.0  \n",
      "2       5                                       Very pleased           0.0  \n",
      "3       4  It works good but it goes slow sometimes but i...           0.0  \n",
      "4       4  Great phone to replace my lost phone. The only...           0.0  \n",
      "\n",
      "\n",
      "<class 'pandas.core.frame.DataFrame'>\n",
      "RangeIndex: 413840 entries, 0 to 413839\n",
      "Data columns (total 6 columns):\n",
      " #   Column        Non-Null Count   Dtype  \n",
      "---  ------        --------------   -----  \n",
      " 0   Product Name  413840 non-null  object \n",
      " 1   Brand Name    348669 non-null  object \n",
      " 2   Price         407907 non-null  float64\n",
      " 3   Rating        413840 non-null  int64  \n",
      " 4   Reviews       413778 non-null  object \n",
      " 5   Review Votes  401544 non-null  float64\n",
      "dtypes: float64(2), int64(1), object(3)\n",
      "memory usage: 18.9+ MB\n",
      "None\n",
      "\n",
      "\n",
      "               Price         Rating   Review Votes\n",
      "count  407907.000000  413840.000000  401544.000000\n",
      "mean      226.867155       3.819578       1.507237\n",
      "std       273.006259       1.548216       9.163853\n",
      "min         1.730000       1.000000       0.000000\n",
      "25%        79.990000       3.000000       0.000000\n",
      "50%       144.710000       5.000000       0.000000\n",
      "75%       269.990000       5.000000       1.000000\n",
      "max      2598.000000       5.000000     645.000000\n",
      "\n",
      "\n",
      "Product Name      4410\n",
      "Brand Name         384\n",
      "Price             1754\n",
      "Rating               5\n",
      "Reviews         162491\n",
      "Review Votes       241\n",
      "dtype: int64\n",
      "\n",
      "\n"
     ]
    }
   ],
   "source": [
    "# View data information\n",
    "describeData(datos)"
   ]
  },
  {
   "cell_type": "markdown",
   "metadata": {},
   "source": [
    "### 2.2 Preprocessing"
   ]
  },
  {
   "cell_type": "code",
   "execution_count": 6,
   "metadata": {},
   "outputs": [],
   "source": [
    "# --------------------\n",
    "def preprocesar(dataSet=0):\n",
    "    \"\"\"\n",
    "    Preprocess data\n",
    "    \"\"\"\n",
    "    \n",
    "    # Eliminate null values\n",
    "    dataSet.dropna(inplace=True)\n",
    "    # Work with a sample of 100,000 rows\n",
    "    dataSet = dataSet.iloc[0:100000,:]\n",
    "    \n",
    "    # Encode 3s, 4s and 5s as positive\n",
    "    # Encode 1s and 2s as negative\n",
    "\n",
    "    dataSet['Positively Rated'] = [1 if x >= 3 else 0 for x in dataSet['Rating']]\n",
    "    dataSet['Poorly Rated'] = [1 if x < 3 else 0 for x in dataSet['Rating']]\n",
    "\n",
    "    # Keep only relevant columns\n",
    "    columnas = ['Reviews', 'Rating', 'Positively Rated','Poorly Rated']\n",
    "    dataSet = dataSet[columnas]\n",
    "\n",
    "    return dataSet"
   ]
  },
  {
   "cell_type": "code",
   "execution_count": 36,
   "metadata": {
    "colab": {
     "base_uri": "https://localhost:8080/"
    },
    "executionInfo": {
     "elapsed": 7718,
     "status": "ok",
     "timestamp": 1744055046462,
     "user": {
      "displayName": "Enrique Gonzalez",
      "userId": "11537615501324889345"
     },
     "user_tz": 360
    },
    "id": "O8Zp1DIA-TPp",
    "outputId": "bfb6a0af-357e-41aa-f49c-3b0c49cf3460"
   },
   "outputs": [
    {
     "name": "stdout",
     "output_type": "stream",
     "text": [
      "                                             Reviews  Rating  \\\n",
      "0  I feel so LUCKY to have found this used (phone...       5   \n",
      "1  nice phone, nice up grade from my pantach revu...       4   \n",
      "2                                       Very pleased       5   \n",
      "3  It works good but it goes slow sometimes but i...       4   \n",
      "4  Great phone to replace my lost phone. The only...       4   \n",
      "\n",
      "   Positively Rated  Poorly Rated  \n",
      "0                 1             0  \n",
      "1                 1             0  \n",
      "2                 1             0  \n",
      "3                 1             0  \n",
      "4                 1             0  \n",
      "\n",
      "Positively Rated    76490\n",
      "Poorly Rated        23510\n",
      "dtype: int64\n",
      "\n"
     ]
    }
   ],
   "source": [
    "# Preprocess data\n",
    "misDatos = preprocesar(datos)\n",
    "print(misDatos.head())\n",
    "print()\n",
    "print(misDatos.iloc[:,-2:].sum())\n",
    "print()\n"
   ]
  },
  {
   "cell_type": "markdown",
   "metadata": {},
   "source": [
    "### 2.3 Split Data"
   ]
  },
  {
   "cell_type": "code",
   "execution_count": 10,
   "metadata": {},
   "outputs": [
    {
     "name": "stdout",
     "output_type": "stream",
     "text": [
      "Index(['Positively Rated', 'Poorly Rated'], dtype='object')\n"
     ]
    }
   ],
   "source": [
    "columnas = ['Reviews', 'Positively Rated','Poorly Rated']\n",
    "misDatos = misDatos[columnas]\n",
    "print(misDatos.columns[-2:])"
   ]
  },
  {
   "cell_type": "code",
   "execution_count": 22,
   "metadata": {
    "colab": {
     "base_uri": "https://localhost:8080/"
    },
    "executionInfo": {
     "elapsed": 6,
     "status": "ok",
     "timestamp": 1744055054411,
     "user": {
      "displayName": "Enrique Gonzalez",
      "userId": "11537615501324889345"
     },
     "user_tz": 360
    },
    "id": "8yItOEeb9nXd",
    "outputId": "bff351a6-53de-4997-d3d4-ee42d4e7cc22"
   },
   "outputs": [
    {
     "name": "stdout",
     "output_type": "stream",
     "text": [
      "Train set\n",
      "                                                 Reviews  Positively Rated  \\\n",
      "65927  Bought it as a gift for my step daughter; she ...                 1   \n",
      "74505  I upgraded to the iPhone 6 when it came out (I...                 1   \n",
      "99930  Wow i remember when I first purchase this phon...                 1   \n",
      "47029  Good product, I like it as expected. Thank you...                 1   \n",
      "93787  el telefono tiene una falla en el conector de ...                 0   \n",
      "\n",
      "       Poorly Rated  \n",
      "65927             0  \n",
      "74505             0  \n",
      "99930             0  \n",
      "47029             0  \n",
      "93787             1  \n",
      "\n",
      "Positively Rated    57367\n",
      "Poorly Rated        17633\n",
      "dtype: int64\n",
      "\n",
      "Test set\n",
      "                                                  Reviews  Positively Rated  \\\n",
      "86406   I HAD ORDERED FOR 9650 WITHOUT CAMERA UNLOCKED...                 0   \n",
      "40776                              Battery life not great                 1   \n",
      "46678   The phone came looking fine, but sometimes the...                 1   \n",
      "41431   Died in just after 6 months - just when the re...                 0   \n",
      "124066                                           excelent                 1   \n",
      "\n",
      "        Poorly Rated  \n",
      "86406              1  \n",
      "40776              0  \n",
      "46678              0  \n",
      "41431              1  \n",
      "124066             0  \n",
      "\n",
      "Positively Rated    19123\n",
      "Poorly Rated         5877\n",
      "dtype: int64\n",
      "\n"
     ]
    }
   ],
   "source": [
    "# Extract labels\n",
    "# Convert one-hot encoding to single label\n",
    "y_onehot = misDatos.iloc[:, -2:].to_numpy()\n",
    "y_label = np.argmax(y_onehot, axis=1)\n",
    "\n",
    "# Split data into training and test sets\n",
    "ts_size = .25\n",
    "[trainSet, testSet] = splitDataSet(misDatos, test_size=ts_size, randSplit=True, stratify=y_label)\n",
    "print(\"Train set\")\n",
    "print(trainSet.head())\n",
    "print()\n",
    "print(trainSet.iloc[:,-2:].sum())\n",
    "print()\n",
    "print(\"Test set\")\n",
    "print(testSet.head())\n",
    "print()\n",
    "print(testSet.iloc[:,-2:].sum())\n",
    "print()"
   ]
  },
  {
   "cell_type": "markdown",
   "metadata": {},
   "source": [
    "### 2.4 Vectorizar datos"
   ]
  },
  {
   "cell_type": "code",
   "execution_count": 23,
   "metadata": {
    "colab": {
     "base_uri": "https://localhost:8080/"
    },
    "executionInfo": {
     "elapsed": 1193,
     "status": "ok",
     "timestamp": 1744055061208,
     "user": {
      "displayName": "Enrique Gonzalez",
      "userId": "11537615501324889345"
     },
     "user_tz": 360
    },
    "id": "54QvjZ1c-LsZ",
    "outputId": "bd9fed57-5e48-4a26-eb1b-7f4e15ec3f2f"
   },
   "outputs": [
    {
     "name": "stdout",
     "output_type": "stream",
     "text": [
      "  (0, 1319)\t0.25888802766593805\n",
      "  (0, 3813)\t0.3624123073927683\n",
      "  (0, 7905)\t0.515123091611221\n",
      "  (0, 2316)\t0.3626043851067739\n",
      "  (0, 8334)\t0.5271571719266916\n",
      "  (0, 5072)\t0.35623852270350914\n",
      "  (1, 8748)\t0.2175896008455874\n",
      "  (1, 4584)\t0.11044501816114236\n",
      "  (1, 1509)\t0.12238295133512442\n",
      "  (1, 5567)\t0.17343320392847947\n",
      "  (1, 8270)\t0.23992366420391065\n",
      "  (1, 828)\t0.14817539329524457\n",
      "  (1, 4796)\t0.22146944249723835\n",
      "  (1, 7315)\t0.11740091671366536\n",
      "  (1, 9208)\t0.17409328480910433\n",
      "  (1, 8327)\t0.17127212521648805\n",
      "  (1, 6191)\t0.1658400007952129\n",
      "  (1, 1173)\t0.14146635382156061\n",
      "  (1, 6668)\t0.2120096477464259\n",
      "  (1, 9027)\t0.23120032622678463\n",
      "  (1, 3293)\t0.17593499991949604\n",
      "  (1, 5448)\t0.14892198740412732\n",
      "  (1, 2737)\t0.3197208084307144\n",
      "  (1, 289)\t0.192406826595449\n",
      "  (1, 5074)\t0.2202703741871185\n",
      "  :\t:\n",
      "  (74998, 1185)\t0.13019790833844302\n",
      "  (74998, 3092)\t0.13905976310885565\n",
      "  (74998, 7341)\t0.12767821469931193\n",
      "  (74998, 6038)\t0.14867387217619246\n",
      "  (74998, 1400)\t0.13471086597804563\n",
      "  (74998, 6582)\t0.11908332028600348\n",
      "  (74998, 8183)\t0.18119732416562667\n",
      "  (74998, 5278)\t0.1666841445553658\n",
      "  (74998, 8053)\t0.1208619551528582\n",
      "  (74998, 4828)\t0.1536274371747676\n",
      "  (74998, 3752)\t0.21346855094984282\n",
      "  (74998, 1401)\t0.1547907315788978\n",
      "  (74998, 8672)\t0.172770058182488\n",
      "  (74998, 6058)\t0.15241480179792782\n",
      "  (74998, 6516)\t0.18414803285460743\n",
      "  (74998, 8951)\t0.17894818203818164\n",
      "  (74998, 5420)\t0.18554412803725195\n",
      "  (74998, 8486)\t0.18080620792762458\n",
      "  (74998, 4977)\t0.19426499532246935\n",
      "  (74998, 2534)\t0.1973177711239412\n",
      "  (74998, 1501)\t0.1712095871570804\n",
      "  (74998, 8875)\t0.18919197626369919\n",
      "  (74999, 6537)\t0.7153649843611734\n",
      "  (74999, 3871)\t0.4473542747148603\n",
      "  (74999, 9160)\t0.5367747125603807\n",
      "\n",
      "\n",
      "  (0, 358)\t0.4143558716418985\n",
      "  (0, 359)\t0.3301517333696177\n",
      "  (0, 1510)\t0.2897807782289\n",
      "  (0, 3425)\t0.29190023205887955\n",
      "  (0, 4425)\t0.3431979426761713\n",
      "  (0, 4708)\t0.31198556467802746\n",
      "  (0, 4848)\t0.2988389406623034\n",
      "  (0, 4918)\t0.22335257197055727\n",
      "  (0, 5020)\t0.21891548276331352\n",
      "  (0, 5811)\t0.2023173107089972\n",
      "  (0, 6086)\t0.15332959527802875\n",
      "  (0, 6714)\t0.17173323562721127\n",
      "  (0, 8692)\t0.16502311524019594\n",
      "  (0, 9155)\t0.16348796597480778\n",
      "  (1, 1089)\t0.5684644819954728\n",
      "  (1, 3941)\t0.4181135872446876\n",
      "  (1, 4907)\t0.7085401617911279\n",
      "  (2, 590)\t0.2743981297547534\n",
      "  (2, 1509)\t0.14223578798338113\n",
      "  (2, 2333)\t0.19508774083900798\n",
      "  (2, 2755)\t0.16192123704252365\n",
      "  (2, 3497)\t0.16707058335579864\n",
      "  (2, 3841)\t0.2666049594873452\n",
      "  (2, 3868)\t0.2872789006610559\n",
      "  (2, 4611)\t0.21280971550725275\n",
      "  :\t:\n",
      "  (24999, 4548)\t0.11686906076591465\n",
      "  (24999, 4705)\t0.19496533657342408\n",
      "  (24999, 5066)\t0.0715219239772694\n",
      "  (24999, 5125)\t0.1353164983474709\n",
      "  (24999, 5436)\t0.22442126307097096\n",
      "  (24999, 5688)\t0.1474548880234404\n",
      "  (24999, 5811)\t0.10343505203904609\n",
      "  (24999, 6086)\t0.037353256618899634\n",
      "  (24999, 6092)\t0.14404053313821863\n",
      "  (24999, 6376)\t0.17662103835472096\n",
      "  (24999, 6663)\t0.1167435342777164\n",
      "  (24999, 6696)\t0.1508467282307895\n",
      "  (24999, 7072)\t0.0968250191290057\n",
      "  (24999, 7315)\t0.17653527776764488\n",
      "  (24999, 7452)\t0.13619420786446915\n",
      "  (24999, 7676)\t0.17924522015991362\n",
      "  (24999, 8082)\t0.16722800216663283\n",
      "  (24999, 8278)\t0.11514966850604597\n",
      "  (24999, 8376)\t0.15067961745373742\n",
      "  (24999, 8441)\t0.18165246071931304\n",
      "  (24999, 8645)\t0.3110192908226516\n",
      "  (24999, 8781)\t0.07387630010565635\n",
      "  (24999, 8788)\t0.11661877907849195\n",
      "  (24999, 8791)\t0.1565991779869069\n",
      "  (24999, 8996)\t0.09640708647005398\n"
     ]
    }
   ],
   "source": [
    "# Text vectorization using TF-IDF\n",
    "vectorizer = TfidfVectorizer(stop_words='english',  ## NOTA: este se quita porque los comentarios están en español\n",
    "                             min_df = 5,\n",
    "                             max_df = 0.8,\n",
    "                             sublinear_tf = True,\n",
    "                             use_idf = True)\n",
    "train_vectors = vectorizer.fit_transform(trainSet['Reviews'])\n",
    "test_vectors = vectorizer.transform(testSet['Reviews'])\n",
    "\n",
    "print(train_vectors)\n",
    "print(\"\\n\")\n",
    "print(test_vectors)"
   ]
  },
  {
   "cell_type": "markdown",
   "metadata": {},
   "source": [
    "## 3. ML methods"
   ]
  },
  {
   "cell_type": "code",
   "execution_count": 24,
   "metadata": {},
   "outputs": [
    {
     "name": "stdout",
     "output_type": "stream",
     "text": [
      "       Positively Rated  Poorly Rated\n",
      "65927                 1             0\n",
      "74505                 1             0\n",
      "99930                 1             0\n",
      "47029                 1             0\n",
      "93787                 0             1\n",
      "\n",
      "        Positively Rated  Poorly Rated\n",
      "86406                  0             1\n",
      "40776                  1             0\n",
      "46678                  1             0\n",
      "41431                  0             1\n",
      "124066                 1             0\n"
     ]
    }
   ],
   "source": [
    "# Create dataframes for training and test sets\n",
    "# with the target variables only\n",
    "yVar = misDatos.columns[-2:]\n",
    "trainModel = pd.DataFrame()\n",
    "testModel = pd.DataFrame()\n",
    "trainModel[yVar] = trainSet[yVar]\n",
    "testModel[yVar] = testSet[yVar]\n",
    "print(trainModel.head())\n",
    "print()\n",
    "print(testModel.head())"
   ]
  },
  {
   "cell_type": "code",
   "execution_count": 25,
   "metadata": {},
   "outputs": [],
   "source": [
    "model_name = 'DT'\n",
    "columnsNames = [model_name + ' Positively Rated',  model_name + ' Poorly Rated']"
   ]
  },
  {
   "cell_type": "code",
   "execution_count": 26,
   "metadata": {
    "colab": {
     "base_uri": "https://localhost:8080/"
    },
    "executionInfo": {
     "elapsed": 385,
     "status": "ok",
     "timestamp": 1744055065813,
     "user": {
      "displayName": "Enrique Gonzalez",
      "userId": "11537615501324889345"
     },
     "user_tz": 360
    },
    "id": "b7oQjOr-VdN4",
    "outputId": "1b6cbbe9-5e8c-4203-84ab-b5758edb95fa"
   },
   "outputs": [
    {
     "name": "stdout",
     "output_type": "stream",
     "text": [
      "        Positively Rated  Poorly Rated  DT Positively Rated  DT Poorly Rated\n",
      "86406                  0             1                    1                0\n",
      "40776                  1             0                    1                0\n",
      "46678                  1             0                    1                0\n",
      "41431                  0             1                    1                0\n",
      "124066                 1             0                    1                0\n",
      "...                  ...           ...                  ...              ...\n",
      "33565                  0             1                    1                0\n",
      "44879                  1             0                    1                0\n",
      "95051                  1             0                    1                0\n",
      "90193                  1             0                    1                0\n",
      "92973                  0             1                    0                0\n",
      "\n",
      "[25000 rows x 4 columns]\n"
     ]
    }
   ],
   "source": [
    "# Perform classification with DT\n",
    "classifier_dt = DecisionTreeClassifier(max_depth=5)\n",
    "classifier_dt.fit(train_vectors, trainSet.iloc[:,1:])\n",
    "\n",
    "trainModel[columnsNames] = classifier_dt.predict(train_vectors)\n",
    "testModel[columnsNames] = classifier_dt.predict(test_vectors)\n",
    "print(testModel)\n"
   ]
  },
  {
   "cell_type": "code",
   "execution_count": 27,
   "metadata": {},
   "outputs": [],
   "source": [
    "model_name = 'RF'\n",
    "columnsNames = [model_name + ' Positively Rated',  model_name + ' Poorly Rated']"
   ]
  },
  {
   "cell_type": "code",
   "execution_count": 28,
   "metadata": {
    "colab": {
     "base_uri": "https://localhost:8080/"
    },
    "executionInfo": {
     "elapsed": 1647,
     "status": "ok",
     "timestamp": 1744055070409,
     "user": {
      "displayName": "Enrique Gonzalez",
      "userId": "11537615501324889345"
     },
     "user_tz": 360
    },
    "id": "7NgHnlozhTUn",
    "outputId": "5368e1f2-6f3b-4f3f-b0ad-039b769753e9"
   },
   "outputs": [
    {
     "name": "stdout",
     "output_type": "stream",
     "text": [
      "        Positively Rated  Poorly Rated  DT Positively Rated  DT Poorly Rated  \\\n",
      "86406                  0             1                    1                0   \n",
      "40776                  1             0                    1                0   \n",
      "46678                  1             0                    1                0   \n",
      "41431                  0             1                    1                0   \n",
      "124066                 1             0                    1                0   \n",
      "...                  ...           ...                  ...              ...   \n",
      "33565                  0             1                    1                0   \n",
      "44879                  1             0                    1                0   \n",
      "95051                  1             0                    1                0   \n",
      "90193                  1             0                    1                0   \n",
      "92973                  0             1                    0                0   \n",
      "\n",
      "        RF Positively Rated  RF Poorly Rated  \n",
      "86406                     1                0  \n",
      "40776                     1                0  \n",
      "46678                     1                0  \n",
      "41431                     1                0  \n",
      "124066                    1                0  \n",
      "...                     ...              ...  \n",
      "33565                     1                0  \n",
      "44879                     1                0  \n",
      "95051                     1                0  \n",
      "90193                     1                0  \n",
      "92973                     1                0  \n",
      "\n",
      "[25000 rows x 6 columns]\n"
     ]
    }
   ],
   "source": [
    "# Perform the class with RF\n",
    "classifier_rf = RandomForestClassifier(n_estimators=100, max_depth=5)\n",
    "classifier_rf.fit(train_vectors, trainSet.iloc[:,1:])\n",
    "\n",
    "trainModel[columnsNames] = classifier_rf.predict(train_vectors)\n",
    "testModel[columnsNames] = classifier_rf.predict(test_vectors)\n",
    "print(testModel)"
   ]
  },
  {
   "cell_type": "code",
   "execution_count": 29,
   "metadata": {},
   "outputs": [],
   "source": [
    "model_name = 'KNN'\n",
    "columnsNames = [model_name + ' Positively Rated',  model_name + ' Poorly Rated']"
   ]
  },
  {
   "cell_type": "code",
   "execution_count": 30,
   "metadata": {},
   "outputs": [
    {
     "name": "stdout",
     "output_type": "stream",
     "text": [
      "        Positively Rated  Poorly Rated  DT Positively Rated  DT Poorly Rated  \\\n",
      "86406                  0             1                    1                0   \n",
      "40776                  1             0                    1                0   \n",
      "46678                  1             0                    1                0   \n",
      "41431                  0             1                    1                0   \n",
      "124066                 1             0                    1                0   \n",
      "...                  ...           ...                  ...              ...   \n",
      "33565                  0             1                    1                0   \n",
      "44879                  1             0                    1                0   \n",
      "95051                  1             0                    1                0   \n",
      "90193                  1             0                    1                0   \n",
      "92973                  0             1                    0                0   \n",
      "\n",
      "        RF Positively Rated  RF Poorly Rated  KNN Positively Rated  \\\n",
      "86406                     1                0                     1   \n",
      "40776                     1                0                     1   \n",
      "46678                     1                0                     1   \n",
      "41431                     1                0                     1   \n",
      "124066                    1                0                     1   \n",
      "...                     ...              ...                   ...   \n",
      "33565                     1                0                     0   \n",
      "44879                     1                0                     1   \n",
      "95051                     1                0                     1   \n",
      "90193                     1                0                     1   \n",
      "92973                     1                0                     0   \n",
      "\n",
      "        KNN Poorly Rated  \n",
      "86406                  0  \n",
      "40776                  0  \n",
      "46678                  0  \n",
      "41431                  0  \n",
      "124066                 0  \n",
      "...                  ...  \n",
      "33565                  1  \n",
      "44879                  0  \n",
      "95051                  0  \n",
      "90193                  0  \n",
      "92973                  1  \n",
      "\n",
      "[25000 rows x 8 columns]\n"
     ]
    }
   ],
   "source": [
    "# Perform classification with KNN\n",
    "classifier_knn = KNeighborsClassifier(n_neighbors=5)\n",
    "classifier_knn.fit(train_vectors, trainSet.iloc[:,1:])\n",
    "\n",
    "trainModel[columnsNames] = classifier_knn.predict(train_vectors)\n",
    "testModel[columnsNames] = classifier_knn.predict(test_vectors)\n",
    "print(testModel)"
   ]
  },
  {
   "cell_type": "markdown",
   "metadata": {},
   "source": [
    "## 4. Metrics"
   ]
  },
  {
   "cell_type": "code",
   "execution_count": 74,
   "metadata": {},
   "outputs": [],
   "source": [
    "# Create dataframes to store model performance metrics\n",
    "methodsUsed=['DT', 'RF', 'KNN']\n",
    "performanceHeaders=['accuracy', 'precision', 'recall', 'f1-score']\n",
    "trainModelMetrics = pd.DataFrame(index=methodsUsed, columns=performanceHeaders)\n",
    "testModelMetrics = pd.DataFrame(index=methodsUsed, columns=performanceHeaders)"
   ]
  },
  {
   "cell_type": "code",
   "execution_count": 75,
   "metadata": {},
   "outputs": [],
   "source": [
    "def calculateMetrics(model_name, position, yVar, trainModel, testModel, trainModelMetrics, testModelMetrics):\n",
    "    columnsNames = [model_name + ' Positively Rated',  model_name + ' Poorly Rated']\n",
    "    nVar = len(yVar)\n",
    "    nObsTrain = len(trainModel)\n",
    "    nObsTest = len(testModel)\n",
    "\n",
    "    # create confusion matrix labels\n",
    "    actual_label = ['Actual Positively Rated', 'Actual Poorly Rated']\n",
    "    predicted_label = ['Predicted Positively Rated', 'Predicted Poorly Rated']\n",
    "\n",
    "    # train confusion matrix\n",
    "    train_cm = confusion_matrix(\n",
    "        # change to 1D arrays of labels\n",
    "        trainModel[yVar].to_numpy().argmax(axis=1),\n",
    "        trainModel[columnsNames].to_numpy().argmax(axis=1)\n",
    "    )\n",
    "    train_cm_percent = np.round(train_cm / train_cm.sum(axis=1)[:, np.newaxis] * 100, 2)\n",
    "    train_conf_matrix = pd.DataFrame(train_cm_percent, index=actual_label,\n",
    "                                    columns=predicted_label)\n",
    "    \n",
    "    # test confusion matrix\n",
    "    test_cm = confusion_matrix(\n",
    "        # change to 1D arrays of labels\n",
    "        testModel[yVar].to_numpy().argmax(axis=1),\n",
    "        testModel[columnsNames].to_numpy().argmax(axis=1)\n",
    "    )\n",
    "    test_cm_percent = np.round(test_cm / test_cm.sum(axis=1)[:, np.newaxis] * 100, 2)\n",
    "    test_conf_matrix = pd.DataFrame(test_cm_percent, index=actual_label,\n",
    "                                    columns=predicted_label)\n",
    "\n",
    "    print(model_name + \" Metrics\")\n",
    "    print(model_name + \" Train Confusion Matrix\")\n",
    "    print(train_conf_matrix)\n",
    "    print()\n",
    "    plt.figure(figsize=(6,4))\n",
    "    sns.heatmap(train_conf_matrix, annot=True)\n",
    "    plt.title(model_name + ' TRAIN CONF. MATRIX', fontweight='bold')\n",
    "    plt.show()\n",
    "    print()\n",
    "    print(model_name + \" Test Confusion Matrix\")\n",
    "    print(test_conf_matrix)\n",
    "    print()\n",
    "    plt.figure()\n",
    "    sns.heatmap(test_conf_matrix, annot=True)\n",
    "    plt.title(model_name + ' TEST CONF. MATRIX', fontweight='bold')\n",
    "    plt.show()\n",
    "    print()\n",
    "\n",
    "    # --- Train Metrics ---\n",
    "    trainModelMetrics.iloc[position, 0] = accuracy_score(trainModel[yVar].to_numpy().reshape(nObsTrain,nVar), trainModel[columnsNames].to_numpy().reshape(nObsTrain,nVar))\n",
    "    trainModelMetrics.iloc[position, 1] = precision_score(trainModel[yVar].to_numpy().reshape(nObsTrain,nVar), trainModel[columnsNames].to_numpy().reshape(nObsTrain,nVar), average='macro', zero_division=0)\n",
    "    trainModelMetrics.iloc[position, 2] = recall_score(trainModel[yVar].to_numpy().reshape(nObsTrain,nVar), trainModel[columnsNames].to_numpy().reshape(nObsTrain,nVar), average='macro', zero_division=0)\n",
    "    trainModelMetrics.iloc[position, 3] = f1_score(trainModel[yVar].to_numpy().reshape(nObsTrain,nVar), trainModel[columnsNames].to_numpy().reshape(nObsTrain,nVar), average='macro', zero_division=0)\n",
    "\n",
    "    # --- Test Metrics ---\n",
    "    testModelMetrics.iloc[position, 0] = accuracy_score(testModel[yVar].to_numpy().reshape(nObsTest,nVar), testModel[columnsNames].to_numpy().reshape(nObsTest,nVar))\n",
    "    testModelMetrics.iloc[position, 1] = precision_score(testModel[yVar].to_numpy().reshape(nObsTest,nVar), testModel[columnsNames].to_numpy().reshape(nObsTest,nVar), average='macro', zero_division=0)\n",
    "    testModelMetrics.iloc[position, 2] = recall_score(testModel[yVar].to_numpy().reshape(nObsTest,nVar), testModel[columnsNames].to_numpy().reshape(nObsTest,nVar), average='macro', zero_division=0)\n",
    "    testModelMetrics.iloc[position, 3] = f1_score(testModel[yVar].to_numpy().reshape(nObsTest,nVar), testModel[columnsNames].to_numpy().reshape(nObsTest,nVar), average='macro', zero_division=0)\n",
    "\n",
    "    return trainModelMetrics, testModelMetrics"
   ]
  },
  {
   "cell_type": "code",
   "execution_count": 76,
   "metadata": {
    "colab": {
     "base_uri": "https://localhost:8080/"
    },
    "executionInfo": {
     "elapsed": 395,
     "status": "ok",
     "timestamp": 1733187557887,
     "user": {
      "displayName": "Enrique Gonzalez",
      "userId": "11537615501324889345"
     },
     "user_tz": 360
    },
    "id": "92W0DTZ9VdRx",
    "outputId": "5b5d0780-a6c4-4c79-ac7e-e531e5786f62"
   },
   "outputs": [
    {
     "name": "stdout",
     "output_type": "stream",
     "text": [
      "DT Metrics\n",
      "DT Train Confusion Matrix\n",
      "                         Predicted Positively Rated  Predicted Poorly Rated\n",
      "Actual Positively Rated                       97.93                    2.07\n",
      "Actual Poorly Rated                           79.98                   20.02\n",
      "\n"
     ]
    },
    {
     "data": {
      "image/png": "[encoded data removed]",
      "text/plain": [
       "<Figure size 600x400 with 2 Axes>"
      ]
     },
     "metadata": {},
     "output_type": "display_data"
    },
    {
     "name": "stdout",
     "output_type": "stream",
     "text": [
      "\n",
      "DT Test Confusion Matrix\n",
      "                         Predicted Positively Rated  Predicted Poorly Rated\n",
      "Actual Positively Rated                       98.03                    1.97\n",
      "Actual Poorly Rated                           81.73                   18.27\n",
      "\n"
     ]
    },
    {
     "data": {
      "image/png": "[encoded data removed]",
      "text/plain": [
       "<Figure size 640x480 with 2 Axes>"
      ]
     },
     "metadata": {},
     "output_type": "display_data"
    },
    {
     "name": "stdout",
     "output_type": "stream",
     "text": [
      "\n",
      "RF Metrics\n",
      "RF Train Confusion Matrix\n",
      "                         Predicted Positively Rated  Predicted Poorly Rated\n",
      "Actual Positively Rated                      100.00                    0.00\n",
      "Actual Poorly Rated                           99.98                    0.02\n",
      "\n"
     ]
    },
    {
     "data": {
      "image/png": "[encoded data removed]",
      "text/plain": [
       "<Figure size 600x400 with 2 Axes>"
      ]
     },
     "metadata": {},
     "output_type": "display_data"
    },
    {
     "name": "stdout",
     "output_type": "stream",
     "text": [
      "\n",
      "RF Test Confusion Matrix\n",
      "                         Predicted Positively Rated  Predicted Poorly Rated\n",
      "Actual Positively Rated                      100.00                    0.00\n",
      "Actual Poorly Rated                           99.97                    0.03\n",
      "\n"
     ]
    },
    {
     "data": {
      "image/png": "[encoded data removed]",
      "text/plain": [
       "<Figure size 640x480 with 2 Axes>"
      ]
     },
     "metadata": {},
     "output_type": "display_data"
    },
    {
     "name": "stdout",
     "output_type": "stream",
     "text": [
      "\n",
      "KNN Metrics\n",
      "KNN Train Confusion Matrix\n",
      "                         Predicted Positively Rated  Predicted Poorly Rated\n",
      "Actual Positively Rated                       99.33                    0.67\n",
      "Actual Poorly Rated                           32.09                   67.91\n",
      "\n"
     ]
    },
    {
     "data": {
      "image/png": "[encoded data removed]",
      "text/plain": [
       "<Figure size 600x400 with 2 Axes>"
      ]
     },
     "metadata": {},
     "output_type": "display_data"
    },
    {
     "name": "stdout",
     "output_type": "stream",
     "text": [
      "\n",
      "KNN Test Confusion Matrix\n",
      "                         Predicted Positively Rated  Predicted Poorly Rated\n",
      "Actual Positively Rated                       99.04                    0.96\n",
      "Actual Poorly Rated                           41.57                   58.43\n",
      "\n"
     ]
    },
    {
     "data": {
      "image/png": "[encoded data removed]",
      "text/plain": [
       "<Figure size 640x480 with 2 Axes>"
      ]
     },
     "metadata": {},
     "output_type": "display_data"
    },
    {
     "name": "stdout",
     "output_type": "stream",
     "text": [
      "\n"
     ]
    }
   ],
   "source": [
    "# DT metrics\n",
    "model_name = 'DT'\n",
    "position = 0  # Position for DT in the results DataFrame\n",
    "trainModelMetrics, testModelMetrics = calculateMetrics(model_name, position, yVar, trainModel, testModel, trainModelMetrics, testModelMetrics)\n",
    "\n",
    "# RF metrics\n",
    "model_name = 'RF'\n",
    "position = 1  # Position for RF in the results DataFrame\n",
    "trainModelMetrics, testModelMetrics = calculateMetrics(model_name, position, yVar, trainModel, testModel, trainModelMetrics, testModelMetrics)\n",
    "\n",
    "# KNN metrics\n",
    "model_name = 'KNN'\n",
    "position = 2  # Position for KNN in the results DataFrame\n",
    "trainModelMetrics, testModelMetrics = calculateMetrics(model_name, position, yVar, trainModel, testModel, trainModelMetrics, testModelMetrics)"
   ]
  },
  {
   "cell_type": "code",
   "execution_count": 80,
   "metadata": {},
   "outputs": [
    {
     "name": "stdout",
     "output_type": "stream",
     "text": [
      "=======================================================================\n",
      "                      MODEL PERFORMANCE COMPARISON\n",
      "-----------------------------------------------------------------------\n",
      "                      Training\n",
      "-----------------------------------------------------------------------\n",
      "     accuracy precision    recall  f1-score\n",
      "DT   0.795813  0.774121  0.589542   0.59805\n",
      "RF   0.764947  0.882467  0.500113  0.433633\n",
      "KNN   0.91944  0.939334  0.836196  0.874094\n",
      "-----------------------------------------------------------------------\n",
      "                      Testing\n",
      "-----------------------------------------------------------------------\n",
      "    accuracy precision    recall  f1-score\n",
      "DT   0.79244  0.768445  0.581281  0.585839\n",
      "RF     0.765  0.882491   0.50017  0.433762\n",
      "KNN  0.89496  0.917578  0.787371  0.829287\n",
      "\n",
      "\n"
     ]
    }
   ],
   "source": [
    "print(\"=======================================================================\")\n",
    "print(\"                      MODEL PERFORMANCE COMPARISON\")\n",
    "print(\"-----------------------------------------------------------------------\")\n",
    "print(\"                      Training\")\n",
    "print(\"-----------------------------------------------------------------------\")\n",
    "print(trainModelMetrics)\n",
    "print(\"-----------------------------------------------------------------------\")\n",
    "print(\"                      Testing\")\n",
    "print(\"-----------------------------------------------------------------------\")\n",
    "print(testModelMetrics)\n",
    "print(\"\\n\")"
   ]
  }
 ],
 "metadata": {
  "colab": {
   "authorship_tag": "ABX9TyOQ8RIstmmb0ZSHxZMC1e0H",
   "provenance": []
  },
  "kernelspec": {
   "display_name": "base",
   "language": "python",
   "name": "python3"
  },
  "language_info": {
   "codemirror_mode": {
    "name": "ipython",
    "version": 3
   },
   "file_extension": ".py",
   "mimetype": "text/x-python",
   "name": "python",
   "nbconvert_exporter": "python",
   "pygments_lexer": "ipython3",
   "version": "3.10.11"
  }
 },
 "nbformat": 4,
 "nbformat_minor": 0
}
